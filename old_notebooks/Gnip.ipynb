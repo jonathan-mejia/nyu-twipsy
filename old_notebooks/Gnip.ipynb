{
 "cells": [
  {
   "cell_type": "code",
   "execution_count": 1,
   "metadata": {
    "collapsed": true
   },
   "outputs": [],
   "source": [
    "import pandas as pd"
   ]
  },
  {
   "cell_type": "code",
   "execution_count": 2,
   "metadata": {
    "collapsed": true
   },
   "outputs": [],
   "source": [
    "from os import listdir\n",
    "import json"
   ]
  },
  {
   "cell_type": "code",
   "execution_count": 3,
   "metadata": {
    "collapsed": false
   },
   "outputs": [],
   "source": [
    "path = \"../gnip/support/Historical PowerTrack/Python/\"\n",
    "\n",
    "files = [path+_ for _ in listdir(path) if \"json\" in _]"
   ]
  },
  {
   "cell_type": "code",
   "execution_count": 6,
   "metadata": {
    "collapsed": false
   },
   "outputs": [],
   "source": [
    "from multiprocessing import Pool\n",
    "\n",
    "def to_record(data):\n",
    "    try:\n",
    "        obj = json.loads(data)\n",
    "        return {\n",
    "            \"user_id\": obj[\"actor\"][\"id\"],\n",
    "            \"id\": obj[\"link\"].split(\"/\")[-1],\n",
    "            \"text\": obj[\"body\"].replace(\"\\n\", \" \"),\n",
    "            \"time\": obj[\"object\"][\"postedTime\"],\n",
    "            \"first_name\": obj[\"actor\"][\"displayName\"].split(\" \")[0].title(),\n",
    "            \"place\": obj[\"location\"][\"displayName\"]\n",
    "            }\n",
    "    except:\n",
    "        pass\n",
    "\n",
    "def i(x):\n",
    "    return x\n",
    "    \n",
    "def to_df(filename):\n",
    "    with open(filename) as f:\n",
    "        jsons = f.readlines()[::2]\n",
    "        data = filter(i, map(to_record, jsons))\n",
    "        pd.DataFrame.from_records(data).to_csv(\"/Users/JasonLiu/dump/\" + filename[74:-4]+\"csv\")"
   ]
  },
  {
   "cell_type": "code",
   "execution_count": 7,
   "metadata": {
    "collapsed": false,
    "scrolled": false
   },
   "outputs": [
    {
     "name": "stdout",
     "output_type": "stream",
     "text": [
      "CPU times: user 121 ms, sys: 44.4 ms, total: 166 ms\n",
      "Wall time: 2min 58s\n"
     ]
    }
   ],
   "source": [
    "%%time\n",
    "p = Pool(5)\n",
    "x = p.map(to_df, files)"
   ]
  }
 ],
 "metadata": {
  "kernelspec": {
   "display_name": "Python 3",
   "language": "python",
   "name": "python3"
  },
  "language_info": {
   "codemirror_mode": {
    "name": "ipython",
    "version": 3
   },
   "file_extension": ".py",
   "mimetype": "text/x-python",
   "name": "python",
   "nbconvert_exporter": "python",
   "pygments_lexer": "ipython3",
   "version": "3.4.1"
  }
 },
 "nbformat": 4,
 "nbformat_minor": 0
}
