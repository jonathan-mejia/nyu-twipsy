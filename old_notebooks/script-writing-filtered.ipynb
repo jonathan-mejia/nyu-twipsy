{
 "cells": [
  {
   "cell_type": "markdown",
   "metadata": {},
   "source": [
    "# Loading data into Mongo\n",
    "\n",
    "This notebook is used to carefully select the data we want to write to mongo\n",
    "since our server isn't large. all of the data will still be in s3 for mapreduce style work loads.\n",
    "\n",
    "Mongo is mainly here for labeling purposes"
   ]
  },
  {
   "cell_type": "code",
   "execution_count": 1,
   "metadata": {
    "collapsed": false
   },
   "outputs": [],
   "source": [
    "from itpy import Itpy\n",
    "from json import loads\n",
    "from pymongo import MongoClient\n",
    "from config import db\n",
    "\n",
    "%matplotlib inline\n",
    "\n",
    "import matplotlib.pyplot as plt\n",
    "\n",
    "import os\n",
    "import pandas as pd"
   ]
  },
  {
   "cell_type": "markdown",
   "metadata": {},
   "source": [
    "# Load Predictions"
   ]
  },
  {
   "cell_type": "code",
   "execution_count": 2,
   "metadata": {
    "collapsed": false
   },
   "outputs": [],
   "source": [
    "from itpy.helpers import try_or\n",
    "\n",
    "path = \"/Users/JasonLiu/Downloads/drinking/csv/\"\n",
    "df = pd.concat([pd.DataFrame.from_csv(path+f) for f in os.listdir(path)])\n",
    "df._id = df._id.apply(str).apply(eval).apply(try_or(lambda _:_[\"$oid\"], None))\n",
    "df = df.set_index(\"_id\")"
   ]
  },
  {
   "cell_type": "code",
   "execution_count": 3,
   "metadata": {
    "collapsed": true
   },
   "outputs": [],
   "source": [
    "upper = 1\n",
    "lower = 0\n",
    "sample = 0.05"
   ]
  },
  {
   "cell_type": "code",
   "execution_count": 4,
   "metadata": {
    "collapsed": false
   },
   "outputs": [],
   "source": [
    "dd = df[(df.predict > lower) & (df.predict < upper)]"
   ]
  },
  {
   "cell_type": "code",
   "execution_count": 5,
   "metadata": {
    "collapsed": false
   },
   "outputs": [],
   "source": [
    "ids = set(dd[dd.random_number < sample].index)"
   ]
  },
  {
   "cell_type": "code",
   "execution_count": 6,
   "metadata": {
    "collapsed": false
   },
   "outputs": [
    {
     "data": {
      "text/plain": [
       "26553"
      ]
     },
     "execution_count": 6,
     "metadata": {},
     "output_type": "execute_result"
    }
   ],
   "source": [
    "len(ids)"
   ]
  },
  {
   "cell_type": "markdown",
   "metadata": {},
   "source": [
    "# Prepare JSON"
   ]
  },
  {
   "cell_type": "code",
   "execution_count": 7,
   "metadata": {
    "collapsed": false
   },
   "outputs": [],
   "source": [
    "def clean(obj):\n",
    "    \"\"\"\n",
    "    removes the keys with $ and adds the predict key\n",
    "    \"\"\"\n",
    "    obj[\"_id\"] = obj[\"_id\"][\"$oid\"]\n",
    "    del obj[\"timestamp\"]\n",
    "    return obj\n",
    "\n",
    "\n",
    "def data_iter():\n",
    "    with open(\"/Users/JasonLiu/Downloads/drinking-dump.json\") as f:\n",
    "        for line in f:\n",
    "            obj = clean(loads(line))\n",
    "            if obj[\"_id\"] in ids:\n",
    "                obj[\"predict\"] = df.loc[obj[\"_id\"]].predict\n",
    "                yield obj\n",
    "            \n",
    "\n",
    "def partition(itera, n):\n",
    "    i = 0\n",
    "    l = []\n",
    "    for element in itera:\n",
    "        if element[\"_id\"] in ids:\n",
    "            l.append(element)\n",
    "            i += 1\n",
    "        if i > n:\n",
    "            yield l\n",
    "            l = []\n",
    "            i = 0\n",
    "        yield la"
   ]
  },
  {
   "cell_type": "markdown",
   "metadata": {},
   "source": [
    "# Reading Mongo"
   ]
  },
  {
   "cell_type": "code",
   "execution_count": 12,
   "metadata": {
    "collapsed": true
   },
   "outputs": [],
   "source": [
    "collection = db"
   ]
  },
  {
   "cell_type": "code",
   "execution_count": 13,
   "metadata": {
    "collapsed": false
   },
   "outputs": [],
   "source": [
    "mongodb = pd.DataFrame(Itpy(collection.find(projection={\"predict\":1}))._)"
   ]
  },
  {
   "cell_type": "code",
   "execution_count": 14,
   "metadata": {
    "collapsed": false
   },
   "outputs": [
    {
     "data": {
      "image/png": "[encoded data removed]",
      "text/plain": [
       "<matplotlib.figure.Figure at 0x1271769e8>"
      ]
     },
     "metadata": {},
     "output_type": "display_data"
    }
   ],
   "source": [
    "plt.hist(mongodb.predict, bins=60, normed=True)\n",
    "plt.title(\"Distribution of prediction scores\")\n",
    "plt.show()"
   ]
  },
  {
   "cell_type": "markdown",
   "metadata": {},
   "source": [
    "# Writing Labels"
   ]
  },
  {
   "cell_type": "code",
   "execution_count": 15,
   "metadata": {
    "collapsed": true
   },
   "outputs": [],
   "source": [
    "df = pd.DataFrame.from_csv(\"./twitter_labels.csv\")"
   ]
  },
  {
   "cell_type": "code",
   "execution_count": 23,
   "metadata": {
    "collapsed": false
   },
   "outputs": [],
   "source": [
    "for k,v in df._alcohol.to_dict().items():\n",
    "    db.find_one_and_update({\"_id\":k}, {\"$set\": {\"labels\": {\"alcohol\":int(v)}}})"
   ]
  },
  {
   "cell_type": "code",
   "execution_count": 3,
   "metadata": {
    "collapsed": false
   },
   "outputs": [
    {
     "data": {
      "text/plain": [
       "{'_id': '556e0ee3d6dfbb462880f0a5',\n",
       " 'labels': {'alcohol': 0},\n",
       " 'text': 'Impatiently waiting to get our hands on the new @UrbanDecay Naked Smoky Palette. #CrueltyFree #VivaBeauty'}"
      ]
     },
     "execution_count": 3,
     "metadata": {},
     "output_type": "execute_result"
    }
   ],
   "source": [
    "db.find_one({\"labels\":{\"$exists\":True}}, projection={\"text\":1, \"labels\":1})"
   ]
  },
  {
   "cell_type": "code",
   "execution_count": null,
   "metadata": {
    "collapsed": true
   },
   "outputs": [],
   "source": []
  }
 ],
 "metadata": {
  "kernelspec": {
   "display_name": "Python 3",
   "language": "python",
   "name": "python3"
  },
  "language_info": {
   "codemirror_mode": {
    "name": "ipython",
    "version": 3
   },
   "file_extension": ".py",
   "mimetype": "text/x-python",
   "name": "python",
   "nbconvert_exporter": "python",
   "pygments_lexer": "ipython3",
   "version": "3.4.1"
  }
 },
 "nbformat": 4,
 "nbformat_minor": 0
}
