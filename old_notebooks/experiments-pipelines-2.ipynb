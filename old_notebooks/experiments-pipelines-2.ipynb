{
 "cells": [
  {
   "cell_type": "markdown",
   "metadata": {},
   "source": [
    "# Pipeline Construction"
   ]
  },
  {
   "cell_type": "code",
   "execution_count": 22,
   "metadata": {
    "collapsed": true
   },
   "outputs": [],
   "source": [
    "from dao import DataAccess"
   ]
  },
  {
   "cell_type": "code",
   "execution_count": 23,
   "metadata": {
    "collapsed": false
   },
   "outputs": [],
   "source": [
    "# Loading Data\n",
    "import operator\n",
    "\n",
    "X = DataAccess.get_as_dataframe()\n",
    "y = X[\"labels\"].apply(operator.itemgetter(\"alcohol\"))"
   ]
  },
  {
   "cell_type": "code",
   "execution_count": 24,
   "metadata": {
    "collapsed": false
   },
   "outputs": [
    {
     "data": {
      "text/html": [
       "<div>\n",
       "<table border=\"1\" class=\"dataframe\">\n",
       "  <thead>\n",
       "    <tr style=\"text-align: right;\">\n",
       "      <th></th>\n",
       "      <th>created_at</th>\n",
       "      <th>labels</th>\n",
       "      <th>predict</th>\n",
       "      <th>text</th>\n",
       "      <th>user</th>\n",
       "    </tr>\n",
       "    <tr>\n",
       "      <th>_id</th>\n",
       "      <th></th>\n",
       "      <th></th>\n",
       "      <th></th>\n",
       "      <th></th>\n",
       "      <th></th>\n",
       "    </tr>\n",
       "  </thead>\n",
       "  <tbody>\n",
       "    <tr>\n",
       "      <th>556e0ee3d6dfbb462880f0a5</th>\n",
       "      <td>Tue Jun 02 20:16:08 +0000 2015</td>\n",
       "      <td>{'alcohol': 0}</td>\n",
       "      <td>0.526050</td>\n",
       "      <td>Impatiently waiting to get our hands on the ne...</td>\n",
       "      <td>{'favourites_count': 394, 'friends_count': 199...</td>\n",
       "    </tr>\n",
       "    <tr>\n",
       "      <th>556e128ad6dfbb46288111e4</th>\n",
       "      <td>Tue Jun 02 20:31:44 +0000 2015</td>\n",
       "      <td>{'first_person': 0, 'raw': 'Alcohol Related::P...</td>\n",
       "      <td>0.516649</td>\n",
       "      <td>Beer fans need their @ColumbusBrewing Bodhi. I...</td>\n",
       "      <td>{'favourites_count': 806, 'friends_count': 960...</td>\n",
       "    </tr>\n",
       "    <tr>\n",
       "      <th>556e1464d6dfbb4628812330</th>\n",
       "      <td>Tue Jun 02 20:39:37 +0000 2015</td>\n",
       "      <td>{'alcohol': 1}</td>\n",
       "      <td>0.502633</td>\n",
       "      <td>Stone Cold use to be the baddest MF in my book...</td>\n",
       "      <td>{'favourites_count': 860, 'friends_count': 684...</td>\n",
       "    </tr>\n",
       "    <tr>\n",
       "      <th>556e15f1d6dfbb4628813236</th>\n",
       "      <td>Tue Jun 02 20:46:14 +0000 2015</td>\n",
       "      <td>{'alcohol': 1}</td>\n",
       "      <td>0.535758</td>\n",
       "      <td>Now @iamjohnoliver has to drink a Bud Light Li...</td>\n",
       "      <td>{'favourites_count': 3473, 'friends_count': 14...</td>\n",
       "    </tr>\n",
       "    <tr>\n",
       "      <th>556e1adcd6dfbb50e34a1ed6</th>\n",
       "      <td>Tue Jun 02 21:07:13 +0000 2015</td>\n",
       "      <td>{'alcohol': 0}</td>\n",
       "      <td>0.533892</td>\n",
       "      <td>I'm  ready for a yard sale and to sell all the...</td>\n",
       "      <td>{'favourites_count': 3964, 'friends_count': 43...</td>\n",
       "    </tr>\n",
       "  </tbody>\n",
       "</table>\n",
       "</div>"
      ],
      "text/plain": [
       "                                              created_at  \\\n",
       "_id                                                        \n",
       "556e0ee3d6dfbb462880f0a5  Tue Jun 02 20:16:08 +0000 2015   \n",
       "556e128ad6dfbb46288111e4  Tue Jun 02 20:31:44 +0000 2015   \n",
       "556e1464d6dfbb4628812330  Tue Jun 02 20:39:37 +0000 2015   \n",
       "556e15f1d6dfbb4628813236  Tue Jun 02 20:46:14 +0000 2015   \n",
       "556e1adcd6dfbb50e34a1ed6  Tue Jun 02 21:07:13 +0000 2015   \n",
       "\n",
       "                                                                     labels  \\\n",
       "_id                                                                           \n",
       "556e0ee3d6dfbb462880f0a5                                     {'alcohol': 0}   \n",
       "556e128ad6dfbb46288111e4  {'first_person': 0, 'raw': 'Alcohol Related::P...   \n",
       "556e1464d6dfbb4628812330                                     {'alcohol': 1}   \n",
       "556e15f1d6dfbb4628813236                                     {'alcohol': 1}   \n",
       "556e1adcd6dfbb50e34a1ed6                                     {'alcohol': 0}   \n",
       "\n",
       "                           predict  \\\n",
       "_id                                  \n",
       "556e0ee3d6dfbb462880f0a5  0.526050   \n",
       "556e128ad6dfbb46288111e4  0.516649   \n",
       "556e1464d6dfbb4628812330  0.502633   \n",
       "556e15f1d6dfbb4628813236  0.535758   \n",
       "556e1adcd6dfbb50e34a1ed6  0.533892   \n",
       "\n",
       "                                                                       text  \\\n",
       "_id                                                                           \n",
       "556e0ee3d6dfbb462880f0a5  Impatiently waiting to get our hands on the ne...   \n",
       "556e128ad6dfbb46288111e4  Beer fans need their @ColumbusBrewing Bodhi. I...   \n",
       "556e1464d6dfbb4628812330  Stone Cold use to be the baddest MF in my book...   \n",
       "556e15f1d6dfbb4628813236  Now @iamjohnoliver has to drink a Bud Light Li...   \n",
       "556e1adcd6dfbb50e34a1ed6  I'm  ready for a yard sale and to sell all the...   \n",
       "\n",
       "                                                                       user  \n",
       "_id                                                                          \n",
       "556e0ee3d6dfbb462880f0a5  {'favourites_count': 394, 'friends_count': 199...  \n",
       "556e128ad6dfbb46288111e4  {'favourites_count': 806, 'friends_count': 960...  \n",
       "556e1464d6dfbb4628812330  {'favourites_count': 860, 'friends_count': 684...  \n",
       "556e15f1d6dfbb4628813236  {'favourites_count': 3473, 'friends_count': 14...  \n",
       "556e1adcd6dfbb50e34a1ed6  {'favourites_count': 3964, 'friends_count': 43...  "
      ]
     },
     "execution_count": 24,
     "metadata": {},
     "output_type": "execute_result"
    }
   ],
   "source": [
    "X.head()"
   ]
  },
  {
   "cell_type": "code",
   "execution_count": 25,
   "metadata": {
    "collapsed": false
   },
   "outputs": [
    {
     "data": {
      "text/plain": [
       "_id\n",
       "556e0ee3d6dfbb462880f0a5    0\n",
       "556e128ad6dfbb46288111e4    1\n",
       "556e1464d6dfbb4628812330    1\n",
       "556e15f1d6dfbb4628813236    1\n",
       "556e1adcd6dfbb50e34a1ed6    0\n",
       "Name: labels, dtype: int64"
      ]
     },
     "execution_count": 25,
     "metadata": {},
     "output_type": "execute_result"
    }
   ],
   "source": [
    "y.head()"
   ]
  },
  {
   "cell_type": "markdown",
   "metadata": {},
   "source": [
    "### Importing Models\n",
    "\n",
    "We're going to try three standards to build models. `SVM`, `LR`, `RF` to create baselines to beat."
   ]
  },
  {
   "cell_type": "code",
   "execution_count": 5,
   "metadata": {
    "collapsed": true
   },
   "outputs": [],
   "source": [
    "from sklearn.svm import SVC, LinearSVC\n",
    "from sklearn.linear_model import LogisticRegression\n",
    "from sklearn.ensemble import RandomForestClassifier"
   ]
  },
  {
   "cell_type": "markdown",
   "metadata": {},
   "source": [
    "#### Importing Pipeline Class "
   ]
  },
  {
   "cell_type": "code",
   "execution_count": 6,
   "metadata": {
    "collapsed": false
   },
   "outputs": [
    {
     "name": "stdout",
     "output_type": "stream",
     "text": [
      "Help on class AlcoholPipeline in module pipelines.alcohol:\n",
      "\n",
      "class AlcoholPipeline(builtins.object)\n",
      " |  Methods defined here:\n",
      " |  \n",
      " |  __init__(self, time_features=None, global_features=None, lsi=False, lsi_n=1000)\n",
      " |      :param time_features: default([\"dayofweek\", \"hour\", \"hourofweek\"])\n",
      " |      :param lsi: if true, includes the TruncatedSVD() piece\n",
      " |  \n",
      " |  feature_agepipe(self)\n",
      " |      :return: UserAgeMonths\n",
      " |  \n",
      " |  feature_textpipe(self)\n",
      " |      :return: Pipeline(ItemGetter -> TfidfVectorizer -> TruncatedSVD)\n",
      " |  \n",
      " |  feature_timepipe(self)\n",
      " |      :return: Pipeline(ItemGetter -> Timestamp2DatetimeIndex -> DatetimeIndexAttr)\n",
      " |  \n",
      " |  feature_userpipe(self)\n",
      " |      :return: Pipeline(UserGeoVectorizer)\n",
      " |  \n",
      " |  features(self)\n",
      " |      :return: FeatureUnion([\n",
      " |          (\"text\", Pipeline(textpipe)),\n",
      " |          (\"user\", Pipeline(userpipe)),\n",
      " |          (\"time\", Pipeline(timepipe)),\n",
      " |          (\"age\", Pipeline(agepipe)),\n",
      " |      ])\n",
      " |  \n",
      " |  pipeline(self, clf)\n",
      " |      :param clf: sklearn.classifer\n",
      " |      :return: Pipeline([\n",
      " |          (\"exploder\", exploder),\n",
      " |          (\"features\", features),\n",
      " |      ])\n",
      " |  \n",
      " |  ----------------------------------------------------------------------\n",
      " |  Data descriptors defined here:\n",
      " |  \n",
      " |  __dict__\n",
      " |      dictionary for instance variables (if defined)\n",
      " |  \n",
      " |  __weakref__\n",
      " |      list of weak references to the object (if defined)\n",
      "\n"
     ]
    }
   ],
   "source": [
    "from pipelines.alcohol import AlcoholPipeline\n",
    "help(AlcoholPipeline)"
   ]
  },
  {
   "cell_type": "code",
   "execution_count": 8,
   "metadata": {
    "collapsed": false
   },
   "outputs": [
    {
     "data": {
      "text/plain": [
       "{'clf': LogisticRegression(C=1.0, class_weight=None, dual=False, fit_intercept=True,\n",
       "           intercept_scaling=1, max_iter=100, multi_class='ovr',\n",
       "           penalty='l2', random_state=None, solver='liblinear', tol=0.0001,\n",
       "           verbose=0),\n",
       " 'clf__C': 1.0,\n",
       " 'clf__class_weight': None,\n",
       " 'clf__dual': False,\n",
       " 'clf__fit_intercept': True,\n",
       " 'clf__intercept_scaling': 1,\n",
       " 'clf__max_iter': 100,\n",
       " 'clf__multi_class': 'ovr',\n",
       " 'clf__penalty': 'l2',\n",
       " 'clf__random_state': None,\n",
       " 'clf__solver': 'liblinear',\n",
       " 'clf__tol': 0.0001,\n",
       " 'clf__verbose': 0,\n",
       " 'exploder': ExplodingRecordJoiner(user=['created_at', 'favourites_count', 'followers_count', 'friends_count', 'statuses_count', 'verified']),\n",
       " 'features': FeatureUnion(n_jobs=1,\n",
       "        transformer_list=[('text', Pipeline(steps=[('getter', ItemGetter(key='text')), ('tfidf', TfidfVectorizer(analyzer='word', binary=False, decode_error='strict',\n",
       "         dtype=<class 'numpy.int64'>, encoding='utf-8', input='content',\n",
       "         lowercase=True, max_df=1.0, max_features=None, min_df=1,\n",
       "     ...     transformer_weights=None))])), ('age', Pipeline(steps=[('user_age_months', UserAgeMonths())]))],\n",
       "        transformer_weights=None),\n",
       " 'features__age': Pipeline(steps=[('user_age_months', UserAgeMonths())]),\n",
       " 'features__age__user_age_months': UserAgeMonths(),\n",
       " 'features__text': Pipeline(steps=[('getter', ItemGetter(key='text')), ('tfidf', TfidfVectorizer(analyzer='word', binary=False, decode_error='strict',\n",
       "         dtype=<class 'numpy.int64'>, encoding='utf-8', input='content',\n",
       "         lowercase=True, max_df=1.0, max_features=None, min_df=1,\n",
       "         ngram_range=(1, 1), norm='l2', preprocessor=None, smooth_idf=True,\n",
       "         stop_words=None, strip_accents=None, sublinear_tf=False,\n",
       "         token_pattern='(?u)\\\\b\\\\w\\\\w+\\\\b', tokenizer=None, use_idf=True,\n",
       "         vocabulary=None))]),\n",
       " 'features__text__getter': ItemGetter(key='text'),\n",
       " 'features__text__getter__key': 'text',\n",
       " 'features__text__tfidf': TfidfVectorizer(analyzer='word', binary=False, decode_error='strict',\n",
       "         dtype=<class 'numpy.int64'>, encoding='utf-8', input='content',\n",
       "         lowercase=True, max_df=1.0, max_features=None, min_df=1,\n",
       "         ngram_range=(1, 1), norm='l2', preprocessor=None, smooth_idf=True,\n",
       "         stop_words=None, strip_accents=None, sublinear_tf=False,\n",
       "         token_pattern='(?u)\\\\b\\\\w\\\\w+\\\\b', tokenizer=None, use_idf=True,\n",
       "         vocabulary=None),\n",
       " 'features__text__tfidf__analyzer': 'word',\n",
       " 'features__text__tfidf__binary': False,\n",
       " 'features__text__tfidf__decode_error': 'strict',\n",
       " 'features__text__tfidf__dtype': numpy.int64,\n",
       " 'features__text__tfidf__encoding': 'utf-8',\n",
       " 'features__text__tfidf__input': 'content',\n",
       " 'features__text__tfidf__lowercase': True,\n",
       " 'features__text__tfidf__max_df': 1.0,\n",
       " 'features__text__tfidf__max_features': None,\n",
       " 'features__text__tfidf__min_df': 1,\n",
       " 'features__text__tfidf__ngram_range': (1, 1),\n",
       " 'features__text__tfidf__norm': 'l2',\n",
       " 'features__text__tfidf__preprocessor': None,\n",
       " 'features__text__tfidf__smooth_idf': True,\n",
       " 'features__text__tfidf__stop_words': None,\n",
       " 'features__text__tfidf__strip_accents': None,\n",
       " 'features__text__tfidf__sublinear_tf': False,\n",
       " 'features__text__tfidf__token_pattern': '(?u)\\\\b\\\\w\\\\w+\\\\b',\n",
       " 'features__text__tfidf__tokenizer': None,\n",
       " 'features__text__tfidf__use_idf': True,\n",
       " 'features__text__tfidf__vocabulary': None,\n",
       " 'features__time': Pipeline(steps=[('getter', ItemGetter(key='created_at')), ('to_datetimeindex', Timestamp2DatetimeIndex()), ('features', FeatureUnion(n_jobs=1,\n",
       "        transformer_list=[('dayofweek', Pipeline(steps=[('index', DatetimeIndexAttr(kind='dayofweek')), ('onehot', OneHotEncoder(categorical_features='all', dtype=<cla...     handle_unknown='ignore', n_values='auto', sparse=True))]))],\n",
       "        transformer_weights=None))]),\n",
       " 'features__time__features': FeatureUnion(n_jobs=1,\n",
       "        transformer_list=[('dayofweek', Pipeline(steps=[('index', DatetimeIndexAttr(kind='dayofweek')), ('onehot', OneHotEncoder(categorical_features='all', dtype=<class 'float'>,\n",
       "        handle_unknown='ignore', n_values='auto', sparse=True))])), ('hour', Pipeline(steps=[('index', DatetimeIndexAttr(kind='ho...res='all', dtype=<class 'float'>,\n",
       "        handle_unknown='ignore', n_values='auto', sparse=True))]))],\n",
       "        transformer_weights=None),\n",
       " 'features__time__features__dayofweek': Pipeline(steps=[('index', DatetimeIndexAttr(kind='dayofweek')), ('onehot', OneHotEncoder(categorical_features='all', dtype=<class 'float'>,\n",
       "        handle_unknown='ignore', n_values='auto', sparse=True))]),\n",
       " 'features__time__features__dayofweek__index': DatetimeIndexAttr(kind='dayofweek'),\n",
       " 'features__time__features__dayofweek__index__kind': 'dayofweek',\n",
       " 'features__time__features__dayofweek__onehot': OneHotEncoder(categorical_features='all', dtype=<class 'float'>,\n",
       "        handle_unknown='ignore', n_values='auto', sparse=True),\n",
       " 'features__time__features__dayofweek__onehot__categorical_features': 'all',\n",
       " 'features__time__features__dayofweek__onehot__dtype': float,\n",
       " 'features__time__features__dayofweek__onehot__handle_unknown': 'ignore',\n",
       " 'features__time__features__dayofweek__onehot__n_values': 'auto',\n",
       " 'features__time__features__dayofweek__onehot__sparse': True,\n",
       " 'features__time__features__hour': Pipeline(steps=[('index', DatetimeIndexAttr(kind='hour')), ('onehot', OneHotEncoder(categorical_features='all', dtype=<class 'float'>,\n",
       "        handle_unknown='ignore', n_values='auto', sparse=True))]),\n",
       " 'features__time__features__hour__index': DatetimeIndexAttr(kind='hour'),\n",
       " 'features__time__features__hour__index__kind': 'hour',\n",
       " 'features__time__features__hour__onehot': OneHotEncoder(categorical_features='all', dtype=<class 'float'>,\n",
       "        handle_unknown='ignore', n_values='auto', sparse=True),\n",
       " 'features__time__features__hour__onehot__categorical_features': 'all',\n",
       " 'features__time__features__hour__onehot__dtype': float,\n",
       " 'features__time__features__hour__onehot__handle_unknown': 'ignore',\n",
       " 'features__time__features__hour__onehot__n_values': 'auto',\n",
       " 'features__time__features__hour__onehot__sparse': True,\n",
       " 'features__time__features__hourofweek': Pipeline(steps=[('index', DatetimeIndexAttr(kind='hourofweek')), ('onehot', OneHotEncoder(categorical_features='all', dtype=<class 'float'>,\n",
       "        handle_unknown='ignore', n_values='auto', sparse=True))]),\n",
       " 'features__time__features__hourofweek__index': DatetimeIndexAttr(kind='hourofweek'),\n",
       " 'features__time__features__hourofweek__index__kind': 'hourofweek',\n",
       " 'features__time__features__hourofweek__onehot': OneHotEncoder(categorical_features='all', dtype=<class 'float'>,\n",
       "        handle_unknown='ignore', n_values='auto', sparse=True),\n",
       " 'features__time__features__hourofweek__onehot__categorical_features': 'all',\n",
       " 'features__time__features__hourofweek__onehot__dtype': float,\n",
       " 'features__time__features__hourofweek__onehot__handle_unknown': 'ignore',\n",
       " 'features__time__features__hourofweek__onehot__n_values': 'auto',\n",
       " 'features__time__features__hourofweek__onehot__sparse': True,\n",
       " 'features__time__getter': ItemGetter(key='created_at'),\n",
       " 'features__time__getter__key': 'created_at',\n",
       " 'features__time__to_datetimeindex': Timestamp2DatetimeIndex(),\n",
       " 'features__user': Pipeline(steps=[('user_ego', UserEgoVectorizer(log=True, mean=True))]),\n",
       " 'features__user__user_ego': UserEgoVectorizer(log=True, mean=True),\n",
       " 'features__user__user_ego__log': True,\n",
       " 'features__user__user_ego__mean': True}"
      ]
     },
     "execution_count": 8,
     "metadata": {},
     "output_type": "execute_result"
    }
   ],
   "source": [
    "AlcoholPipeline().pipeline(LogisticRegression()).get_params()"
   ]
  },
  {
   "cell_type": "markdown",
   "metadata": {},
   "source": [
    "#### Metrics"
   ]
  },
  {
   "cell_type": "code",
   "execution_count": 28,
   "metadata": {
    "collapsed": false
   },
   "outputs": [],
   "source": [
    "from sklearn.metrics import f1_score, accuracy_score, precision_score, recall_score\n",
    "from sklearn.cross_validation import train_test_split\n",
    "from pprint import pprint\n",
    "\n",
    "def diagnostics(clf, X, y):\n",
    "    yt = y\n",
    "    yp = clf.predict(X)\n",
    "    return dict(\n",
    "        f1_score = f1_score(yt, yp),\n",
    "        accuracy_score = accuracy_score(yt, yp),\n",
    "        precision_score = precision_score(yt, yp),\n",
    "        recall_score = recall_score(yt, yp)\n",
    "    )\n",
    "\n",
    "X_train, X_test, y_train, y_test = train_test_split(\n",
    "    X, y, test_size=0.33, random_state=42)"
   ]
  },
  {
   "cell_type": "code",
   "execution_count": 75,
   "metadata": {
    "collapsed": false
   },
   "outputs": [
    {
     "name": "stdout",
     "output_type": "stream",
     "text": [
      "{'accuracy_score': 0.7694545454545455,\n",
      " 'f1_score': 0.8214084507042253,\n",
      " 'precision_score': 0.77718550106609807,\n",
      " 'recall_score': 0.87096774193548387}\n",
      "CPU times: user 2.84 s, sys: 14.2 ms, total: 2.85 s\n",
      "Wall time: 2.85 s\n"
     ]
    }
   ],
   "source": [
    "%%time\n",
    "clf = AlcoholPipeline().pipeline(LogisticRegression(C=10))\n",
    "clf.fit(X_train, y_train)\n",
    "\n",
    "pprint(diagnostics(clf, X_test, y_test))"
   ]
  },
  {
   "cell_type": "code",
   "execution_count": 80,
   "metadata": {
    "collapsed": false
   },
   "outputs": [
    {
     "name": "stdout",
     "output_type": "stream",
     "text": [
      "{'accuracy_score': 0.80945454545454543,\n",
      " 'f1_score': 0.85130533484676518,\n",
      " 'precision_score': 0.81081081081081086,\n",
      " 'recall_score': 0.89605734767025091}\n",
      "CPU times: user 49.5 s, sys: 179 ms, total: 49.7 s\n",
      "Wall time: 14.7 s\n"
     ]
    }
   ],
   "source": [
    "%%time\n",
    "clf = AlcoholPipeline().pipeline(RandomForestClassifier(\n",
    "        n_estimators=400,\n",
    "        max_features=1300,\n",
    "        n_jobs=4))\n",
    "\n",
    "clf.fit(X_train, y_train)\n",
    "\n",
    "pprint(diagnostics(clf, X_test, y_test))"
   ]
  },
  {
   "cell_type": "markdown",
   "metadata": {},
   "source": [
    "## Generating Train-Test Split and Learning Curves\n",
    "\n",
    "The code for this comes from [Plotting Learning Curves](http://scikit-learn.org/stable/auto_examples/plot_learning_curve.html) by sklearn."
   ]
  },
  {
   "cell_type": "code",
   "execution_count": 31,
   "metadata": {
    "collapsed": false
   },
   "outputs": [],
   "source": [
    "%matplotlib inline\n",
    "\n",
    "import matplotlib.pyplot as plt\n",
    "import numpy as np\n",
    "\n",
    "from sklearn import cross_validation\n",
    "from sklearn.learning_curve import learning_curve\n",
    "\n",
    "\n",
    "def plot_learning_curve(estimator, title, X, y, ylim=None, cv=None,\n",
    "                        n_jobs=1, train_sizes=np.linspace(.1, 1.0, 5)):\n",
    "    \"\"\"\n",
    "    Generate a simple plot of the test and traning learning curve.\n",
    "\n",
    "    Parameters\n",
    "    ----------\n",
    "    estimator : object type that implements the \"fit\" and \"predict\" methods\n",
    "        An object of that type which is cloned for each validation.\n",
    "\n",
    "    title : string\n",
    "        Title for the chart.\n",
    "\n",
    "    X : array-like, shape (n_samples, n_features)\n",
    "        Training vector, where n_samples is the number of samples and\n",
    "        n_features is the number of features.\n",
    "\n",
    "    y : array-like, shape (n_samples) or (n_samples, n_features), optional\n",
    "        Target relative to X for classification or regression;\n",
    "        None for unsupervised learning.\n",
    "\n",
    "    ylim : tuple, shape (ymin, ymax), optional\n",
    "        Defines minimum and maximum yvalues plotted.\n",
    "\n",
    "    cv : integer, cross-validation generator, optional\n",
    "        If an integer is passed, it is the number of folds (defaults to 3).\n",
    "        Specific cross-validation objects can be passed, see\n",
    "        sklearn.cross_validation module for the list of possible objects\n",
    "\n",
    "    n_jobs : integer, optional\n",
    "        Number of jobs to run in parallel (default 1).\n",
    "    \"\"\"\n",
    "    plt.figure()\n",
    "    plt.title(title)\n",
    "    if ylim is not None:\n",
    "        plt.ylim(*ylim)\n",
    "    plt.xlabel(\"Training examples\")\n",
    "    plt.ylabel(\"Score\")\n",
    "    train_sizes, train_scores, test_scores = learning_curve(\n",
    "        estimator, X, y, cv=cv, n_jobs=n_jobs, train_sizes=train_sizes, scoring=\"accuracy\")\n",
    "    train_scores_mean = np.mean(train_scores, axis=1)\n",
    "    train_scores_std = np.std(train_scores, axis=1)\n",
    "    test_scores_mean = np.mean(test_scores, axis=1)\n",
    "    test_scores_std = np.std(test_scores, axis=1)\n",
    "    plt.grid()\n",
    "\n",
    "    plt.fill_between(train_sizes, train_scores_mean - train_scores_std,\n",
    "                     train_scores_mean + train_scores_std, alpha=0.1,\n",
    "                     color=\"r\")\n",
    "    plt.fill_between(train_sizes, test_scores_mean - test_scores_std,\n",
    "                     test_scores_mean + test_scores_std, alpha=0.1, color=\"g\")\n",
    "    plt.plot(train_sizes, train_scores_mean, 'o-', color=\"r\",\n",
    "             label=\"Training score\")\n",
    "    plt.plot(train_sizes, test_scores_mean, 'o-', color=\"g\",\n",
    "             label=\"Cross-validation score\")\n",
    "\n",
    "    plt.legend(loc=\"best\")\n",
    "    return plt"
   ]
  },
  {
   "cell_type": "code",
   "execution_count": 41,
   "metadata": {
    "collapsed": false,
    "scrolled": false
   },
   "outputs": [],
   "source": [
    "cv = cross_validation.ShuffleSplit(\n",
    "    len(y), n_iter=5, test_size=0.2, random_state=0\n",
    ")"
   ]
  },
  {
   "cell_type": "markdown",
   "metadata": {},
   "source": [
    "# Learning Curves"
   ]
  },
  {
   "cell_type": "code",
   "execution_count": 33,
   "metadata": {
    "collapsed": false
   },
   "outputs": [],
   "source": [
    "import seaborn as sns\n",
    "\n",
    "sns.set_style(\"darkgrid\")"
   ]
  },
  {
   "cell_type": "markdown",
   "metadata": {},
   "source": [
    "#### Logistic Regression\n",
    "\n",
    "With sufficiently low variance we'll see that without tuning"
   ]
  },
  {
   "cell_type": "code",
   "execution_count": 62,
   "metadata": {
    "collapsed": false
   },
   "outputs": [
    {
     "data": {
      "image/png": "[encoded data removed]",
      "text/plain": [
       "<matplotlib.figure.Figure at 0x10ba38630>"
      ]
     },
     "metadata": {},
     "output_type": "display_data"
    },
    {
     "name": "stdout",
     "output_type": "stream",
     "text": [
      "CPU times: user 1.15 s, sys: 200 ms, total: 1.35 s\n",
      "Wall time: 27.7 s\n"
     ]
    }
   ],
   "source": [
    "%%time\n",
    "title = \"Learning Curves (LOGISTIC REGRESSION)\"\n",
    "estimator = AlcoholPipeline().pipeline(LogisticRegression(\n",
    "        class_weight=\"auto\",\n",
    "        C=20,\n",
    "    ))\n",
    "plot_learning_curve(estimator, title, AlcoholPipeline()._exploder.fit_transform(X), y, (0.7, 1.01), cv=cv, n_jobs=4)\n",
    "plt.show()"
   ]
  },
  {
   "cell_type": "markdown",
   "metadata": {},
   "source": [
    "#### LinearSVC\n",
    "\n",
    "Variance is really high..."
   ]
  },
  {
   "cell_type": "code",
   "execution_count": 68,
   "metadata": {
    "collapsed": false
   },
   "outputs": [
    {
     "data": {
      "image/png": "[encoded data removed]",
      "text/plain": [
       "<matplotlib.figure.Figure at 0x10ba2da20>"
      ]
     },
     "metadata": {},
     "output_type": "display_data"
    },
    {
     "name": "stdout",
     "output_type": "stream",
     "text": [
      "CPU times: user 1.03 s, sys: 172 ms, total: 1.2 s\n",
      "Wall time: 23.9 s\n"
     ]
    }
   ],
   "source": [
    "%%time\n",
    "\n",
    "from sklearn.linear_model import Perceptron\n",
    "\n",
    "title = \"Learning Curves (SGC)\"\n",
    "# Cross validation with 100 iterations to get smoother mean test and train\n",
    "# score curves, each time with 20% data randomly selected as a validation set.\n",
    "estimator = AlcoholPipeline().pipeline(Perceptron())\n",
    "plot_learning_curve(estimator, title, AlcoholPipeline()._exploder.fit_transform(X), y, (0.7, 1.01), cv=cv, n_jobs=4)\n",
    "plt.show()"
   ]
  },
  {
   "cell_type": "markdown",
   "metadata": {},
   "source": [
    "#### RandomForests\n",
    "\n",
    "Notice how well it gets the training data, I feel like this has the most room to improve."
   ]
  },
  {
   "cell_type": "markdown",
   "metadata": {},
   "source": [
    "This is just another one to show that even with a bit of tuning, and falling training score, CV score is still pretty good."
   ]
  },
  {
   "cell_type": "code",
   "execution_count": 58,
   "metadata": {
    "collapsed": false
   },
   "outputs": [
    {
     "data": {
      "image/png": "[encoded data removed]",
      "text/plain": [
       "<matplotlib.figure.Figure at 0x10f176358>"
      ]
     },
     "metadata": {},
     "output_type": "display_data"
    },
    {
     "name": "stdout",
     "output_type": "stream",
     "text": [
      "CPU times: user 1.43 s, sys: 251 ms, total: 1.68 s\n",
      "Wall time: 3min 1s\n"
     ]
    }
   ],
   "source": [
    "%%time\n",
    "title = \"Learning Curves (RandomForests)\"\n",
    "# Cross validation with 100 iterations to get smoother mean test and train\n",
    "# score curves, each time with 20% data randomly selected as a validation set.\n",
    "estimator = AlcoholPipeline().pipeline(\n",
    "    RandomForestClassifier(\n",
    "        n_estimators=400,\n",
    "        max_features=1000,\n",
    "        class_weight=\"auto\",\n",
    "        n_jobs=4)\n",
    "    )\n",
    "plot_learning_curve(estimator, title, AlcoholPipeline()._exploder.fit_transform(X), y, (0.7, 1.01), cv=cv, n_jobs=4)\n",
    "plt.show()"
   ]
  },
  {
   "cell_type": "code",
   "execution_count": null,
   "metadata": {
    "collapsed": true
   },
   "outputs": [],
   "source": []
  },
  {
   "cell_type": "code",
   "execution_count": null,
   "metadata": {
    "collapsed": true
   },
   "outputs": [],
   "source": []
  },
  {
   "cell_type": "code",
   "execution_count": null,
   "metadata": {
    "collapsed": true
   },
   "outputs": [],
   "source": []
  },
  {
   "cell_type": "code",
   "execution_count": null,
   "metadata": {
    "collapsed": true
   },
   "outputs": [],
   "source": []
  },
  {
   "cell_type": "code",
   "execution_count": null,
   "metadata": {
    "collapsed": true
   },
   "outputs": [],
   "source": []
  },
  {
   "cell_type": "code",
   "execution_count": null,
   "metadata": {
    "collapsed": true
   },
   "outputs": [],
   "source": []
  },
  {
   "cell_type": "code",
   "execution_count": null,
   "metadata": {
    "collapsed": true
   },
   "outputs": [],
   "source": []
  }
 ],
 "metadata": {
  "kernelspec": {
   "display_name": "Python 3",
   "language": "python",
   "name": "python3"
  },
  "language_info": {
   "codemirror_mode": {
    "name": "ipython",
    "version": 3
   },
   "file_extension": ".py",
   "mimetype": "text/x-python",
   "name": "python",
   "nbconvert_exporter": "python",
   "pygments_lexer": "ipython3",
   "version": "3.4.1"
  }
 },
 "nbformat": 4,
 "nbformat_minor": 0
}
