{
 "cells": [
  {
   "cell_type": "markdown",
   "metadata": {},
   "source": [
    "# Pipelines"
   ]
  },
  {
   "cell_type": "code",
   "execution_count": 1,
   "metadata": {
    "collapsed": true
   },
   "outputs": [],
   "source": [
    "from dao import DataAccess\n",
    "\n",
    "from sklearn.pipeline import Pipeline, FeatureUnion\n",
    "from sklearn.base import BaseEstimator, TransformerMixin"
   ]
  },
  {
   "cell_type": "code",
   "execution_count": 2,
   "metadata": {
    "collapsed": true
   },
   "outputs": [],
   "source": [
    "import numpy as np"
   ]
  },
  {
   "cell_type": "code",
   "execution_count": 3,
   "metadata": {
    "collapsed": false
   },
   "outputs": [],
   "source": [
    "X = DataAccess.as_dataframe()"
   ]
  },
  {
   "cell_type": "code",
   "execution_count": 4,
   "metadata": {
    "collapsed": false
   },
   "outputs": [
    {
     "data": {
      "text/html": [
       "<div>\n",
       "<table border=\"1\" class=\"dataframe\">\n",
       "  <thead>\n",
       "    <tr style=\"text-align: right;\">\n",
       "      <th></th>\n",
       "      <th>created_at</th>\n",
       "      <th>labels</th>\n",
       "      <th>predict</th>\n",
       "      <th>text</th>\n",
       "      <th>user</th>\n",
       "    </tr>\n",
       "    <tr>\n",
       "      <th>_id</th>\n",
       "      <th></th>\n",
       "      <th></th>\n",
       "      <th></th>\n",
       "      <th></th>\n",
       "      <th></th>\n",
       "    </tr>\n",
       "  </thead>\n",
       "  <tbody>\n",
       "    <tr>\n",
       "      <th>556e0ee3d6dfbb462880f0a5</th>\n",
       "      <td>Tue Jun 02 20:16:08 +0000 2015</td>\n",
       "      <td>{'alcohol': 0}</td>\n",
       "      <td>0.526050</td>\n",
       "      <td>Impatiently waiting to get our hands on the ne...</td>\n",
       "      <td>{'statuses_count': 823, 'favourites_count': 39...</td>\n",
       "    </tr>\n",
       "    <tr>\n",
       "      <th>556e128ad6dfbb46288111e4</th>\n",
       "      <td>Tue Jun 02 20:31:44 +0000 2015</td>\n",
       "      <td>{'alcohol': 1}</td>\n",
       "      <td>0.516649</td>\n",
       "      <td>Beer fans need their @ColumbusBrewing Bodhi. I...</td>\n",
       "      <td>{'statuses_count': 10442, 'favourites_count': ...</td>\n",
       "    </tr>\n",
       "    <tr>\n",
       "      <th>556e1464d6dfbb4628812330</th>\n",
       "      <td>Tue Jun 02 20:39:37 +0000 2015</td>\n",
       "      <td>{'alcohol': 1}</td>\n",
       "      <td>0.502633</td>\n",
       "      <td>Stone Cold use to be the baddest MF in my book...</td>\n",
       "      <td>{'statuses_count': 89573, 'favourites_count': ...</td>\n",
       "    </tr>\n",
       "    <tr>\n",
       "      <th>556e15f1d6dfbb4628813236</th>\n",
       "      <td>Tue Jun 02 20:46:14 +0000 2015</td>\n",
       "      <td>{'alcohol': 1}</td>\n",
       "      <td>0.535758</td>\n",
       "      <td>Now @iamjohnoliver has to drink a Bud Light Li...</td>\n",
       "      <td>{'statuses_count': 16435, 'favourites_count': ...</td>\n",
       "    </tr>\n",
       "    <tr>\n",
       "      <th>556e1adcd6dfbb50e34a1ed6</th>\n",
       "      <td>Tue Jun 02 21:07:13 +0000 2015</td>\n",
       "      <td>{'alcohol': 0}</td>\n",
       "      <td>0.533892</td>\n",
       "      <td>I'm  ready for a yard sale and to sell all the...</td>\n",
       "      <td>{'statuses_count': 32154, 'favourites_count': ...</td>\n",
       "    </tr>\n",
       "  </tbody>\n",
       "</table>\n",
       "</div>"
      ],
      "text/plain": [
       "                                              created_at          labels  \\\n",
       "_id                                                                        \n",
       "556e0ee3d6dfbb462880f0a5  Tue Jun 02 20:16:08 +0000 2015  {'alcohol': 0}   \n",
       "556e128ad6dfbb46288111e4  Tue Jun 02 20:31:44 +0000 2015  {'alcohol': 1}   \n",
       "556e1464d6dfbb4628812330  Tue Jun 02 20:39:37 +0000 2015  {'alcohol': 1}   \n",
       "556e15f1d6dfbb4628813236  Tue Jun 02 20:46:14 +0000 2015  {'alcohol': 1}   \n",
       "556e1adcd6dfbb50e34a1ed6  Tue Jun 02 21:07:13 +0000 2015  {'alcohol': 0}   \n",
       "\n",
       "                           predict  \\\n",
       "_id                                  \n",
       "556e0ee3d6dfbb462880f0a5  0.526050   \n",
       "556e128ad6dfbb46288111e4  0.516649   \n",
       "556e1464d6dfbb4628812330  0.502633   \n",
       "556e15f1d6dfbb4628813236  0.535758   \n",
       "556e1adcd6dfbb50e34a1ed6  0.533892   \n",
       "\n",
       "                                                                       text  \\\n",
       "_id                                                                           \n",
       "556e0ee3d6dfbb462880f0a5  Impatiently waiting to get our hands on the ne...   \n",
       "556e128ad6dfbb46288111e4  Beer fans need their @ColumbusBrewing Bodhi. I...   \n",
       "556e1464d6dfbb4628812330  Stone Cold use to be the baddest MF in my book...   \n",
       "556e15f1d6dfbb4628813236  Now @iamjohnoliver has to drink a Bud Light Li...   \n",
       "556e1adcd6dfbb50e34a1ed6  I'm  ready for a yard sale and to sell all the...   \n",
       "\n",
       "                                                                       user  \n",
       "_id                                                                          \n",
       "556e0ee3d6dfbb462880f0a5  {'statuses_count': 823, 'favourites_count': 39...  \n",
       "556e128ad6dfbb46288111e4  {'statuses_count': 10442, 'favourites_count': ...  \n",
       "556e1464d6dfbb4628812330  {'statuses_count': 89573, 'favourites_count': ...  \n",
       "556e15f1d6dfbb4628813236  {'statuses_count': 16435, 'favourites_count': ...  \n",
       "556e1adcd6dfbb50e34a1ed6  {'statuses_count': 32154, 'favourites_count': ...  "
      ]
     },
     "execution_count": 4,
     "metadata": {},
     "output_type": "execute_result"
    }
   ],
   "source": [
    "X.head()"
   ]
  },
  {
   "cell_type": "code",
   "execution_count": 5,
   "metadata": {
    "collapsed": false
   },
   "outputs": [],
   "source": [
    "class ItemGetter(BaseEstimator, TransformerMixin):\n",
    "    \n",
    "    def __init__(self, key):\n",
    "        self.key = key\n",
    "        \n",
    "    def fit(self, X, y=None):\n",
    "        pass\n",
    "    \n",
    "    def transform(self, X, y=None):\n",
    "        return X[self.key]\n",
    "    \n",
    "    def fit_transform(self, X, y=None):\n",
    "        return X[self.key]"
   ]
  },
  {
   "cell_type": "markdown",
   "metadata": {},
   "source": [
    "## Text Pipeline"
   ]
  },
  {
   "cell_type": "code",
   "execution_count": 31,
   "metadata": {
    "collapsed": false
   },
   "outputs": [],
   "source": [
    "from sklearn.feature_extraction.text import TfidfVectorizer\n",
    "from sklearn.decomposition import TruncatedSVD\n",
    "\n",
    "from twokenize import tokenize\n",
    "\n",
    "text_pipe = []\n",
    "\n",
    "text_pipe.append(\n",
    "    (\"text\", \n",
    "     ItemGetter(\"text\")\n",
    "    )\n",
    ")\n",
    "\n",
    "text_pipe.append(\n",
    "    (\"tfidf\", \n",
    "     TfidfVectorizer(\n",
    "            analyzer=\"char\",\n",
    "            ngram_range=(2,5),\n",
    "            min_df = 10,\n",
    "            max_df = .98\n",
    "        )\n",
    "    )\n",
    ")\n",
    "\n",
    "text_pipe.append(\n",
    "    (\"lsi\",\n",
    "    TruncatedSVD(\n",
    "            n_components=3000\n",
    "        )\n",
    "    )\n",
    ")\n",
    "                 \n",
    "                 \n",
    "text_pipeline = Pipeline(text_pipe[:2])"
   ]
  },
  {
   "cell_type": "code",
   "execution_count": 32,
   "metadata": {
    "collapsed": false
   },
   "outputs": [
    {
     "name": "stdout",
     "output_type": "stream",
     "text": [
      "CPU times: user 4 µs, sys: 1 µs, total: 5 µs\n",
      "Wall time: 10 µs\n"
     ]
    }
   ],
   "source": [
    "%time\n",
    "t = text_pipeline.fit_transform(X)"
   ]
  },
  {
   "cell_type": "code",
   "execution_count": 34,
   "metadata": {
    "collapsed": false
   },
   "outputs": [
    {
     "name": "stdout",
     "output_type": "stream",
     "text": [
      "CPU times: user 2 µs, sys: 0 ns, total: 2 µs\n",
      "Wall time: 6.91 µs\n"
     ]
    }
   ],
   "source": [
    "%time\n",
    "t = text_pipeline.transform(X)"
   ]
  },
  {
   "cell_type": "markdown",
   "metadata": {},
   "source": [
    "## Time Vectorizers"
   ]
  },
  {
   "cell_type": "code",
   "execution_count": 44,
   "metadata": {
    "collapsed": false
   },
   "outputs": [],
   "source": [
    "import pandas as pd\n",
    "\n",
    "class DateTimeIndexTransformer(BaseEstimator, TransformerMixin):\n",
    "    \n",
    "    def fit(self, X, y=None):\n",
    "        pass\n",
    "    \n",
    "    def transform(self, X, y=None):\n",
    "        return pd.DatetimeIndex(X)\n",
    "    \n",
    "    def fit_transform(self, X, y=None):\n",
    "        return self.transform(X)"
   ]
  },
  {
   "cell_type": "code",
   "execution_count": 45,
   "metadata": {
    "collapsed": true
   },
   "outputs": [],
   "source": [
    "time_pipe = []\n",
    "\n",
    "time_pipe.append(\n",
    "    (\"get_created_at\", ItemGetter(\"created_at\"))\n",
    ")\n",
    "\n",
    "time_pipe.append(\n",
    "    (\"to_datetime\",\n",
    "    DateTimeTransformer())\n",
    ")\n",
    "\n",
    "\n",
    "time_pipeline = Pipeline(\n",
    "    time_pipe\n",
    ")"
   ]
  },
  {
   "cell_type": "code",
   "execution_count": 49,
   "metadata": {
    "collapsed": false
   },
   "outputs": [
    {
     "name": "stdout",
     "output_type": "stream",
     "text": [
      "CPU times: user 3 µs, sys: 1e+03 ns, total: 4 µs\n",
      "Wall time: 7.15 µs\n"
     ]
    }
   ],
   "source": [
    "%time\n",
    "\n",
    "x = time_pipeline.fit_transform(X)"
   ]
  },
  {
   "cell_type": "code",
   "execution_count": 104,
   "metadata": {
    "collapsed": false
   },
   "outputs": [],
   "source": [
    "from scipy.sparse import csc_matrix\n",
    "\n",
    "import pandas as pd\n",
    "\n",
    "class DatetimeVectorizor(BaseEstimator, TransformerMixin):\n",
    "    \n",
    "    allowed_kinds = {\"dayofweek\", \"hour\", \"hour*dayofweek\"}\n",
    "    \n",
    "    def __init__(self, kind):\n",
    "        if kind not in self.allowed_kinds:\n",
    "            raise Exception(\n",
    "                'Kind must be one of \"dayofweek\", \"hour\", or \"hour*dayofweek\"'\n",
    "            )\n",
    "        self.kind = kind\n",
    "        \n",
    "    def fit(self, X, y=None):\n",
    "        pass\n",
    "    \n",
    "    def transform(self, X, y=None):\n",
    "        n = len(X)\n",
    "        if self.kind == \"dayofweek\":\n",
    "            col = X.dayofweek\n",
    "        elif self.kind == \"hour\":\n",
    "            col = X.hour\n",
    "        else:\n",
    "            col = X.dayofweek * 24 + X.hour\n",
    "        row = np.array(range(n))\n",
    "        data = np.ones(n)\n",
    "        return csc_matrix((data, (row, col)), (n, col.max()+1))\n",
    "    \n",
    "    def fit_transform(self, X, y=None):\n",
    "        return self.transform(X)\n",
    "    \n",
    "\n"
   ]
  },
  {
   "cell_type": "code",
   "execution_count": null,
   "metadata": {
    "collapsed": true
   },
   "outputs": [],
   "source": []
  }
 ],
 "metadata": {
  "kernelspec": {
   "display_name": "Python 3",
   "language": "python",
   "name": "python3"
  },
  "language_info": {
   "codemirror_mode": {
    "name": "ipython",
    "version": 3
   },
   "file_extension": ".py",
   "mimetype": "text/x-python",
   "name": "python",
   "nbconvert_exporter": "python",
   "pygments_lexer": "ipython3",
   "version": "3.4.1"
  }
 },
 "nbformat": 4,
 "nbformat_minor": 0
}
