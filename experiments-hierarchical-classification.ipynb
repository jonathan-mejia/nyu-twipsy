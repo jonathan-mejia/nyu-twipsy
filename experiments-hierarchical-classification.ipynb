{
 "cells": [
  {
   "cell_type": "markdown",
   "metadata": {},
   "source": [
    "# Hierarchical Classification\n",
    "\n",
    "\n",
    "There are essentially two types of hierachical:"
   ]
  },
  {
   "cell_type": "code",
   "execution_count": null,
   "metadata": {
    "collapsed": true
   },
   "outputs": [],
   "source": [
    "%matplotlib inline\n",
    "from pylab import rcParams\n",
    "rcParams['figure.figsize'] = 20, 9"
   ]
  },
  {
   "cell_type": "code",
   "execution_count": null,
   "metadata": {
    "collapsed": true
   },
   "outputs": [],
   "source": [
    "from IPython.display import Image"
   ]
  },
  {
   "cell_type": "markdown",
   "metadata": {},
   "source": [
    "One is to ignore all taxomy information, and do a single multi class classification.\n",
    "Otherwise"
   ]
  },
  {
   "cell_type": "code",
   "execution_count": null,
   "metadata": {
    "collapsed": false
   },
   "outputs": [],
   "source": [
    "Image(filename='./assets/Classification_flat.png')"
   ]
  },
  {
   "cell_type": "markdown",
   "metadata": {},
   "source": [
    "Is the other method is to train a classifier in each branch. So there we will need to build and train 3 different classifiers. "
   ]
  },
  {
   "cell_type": "code",
   "execution_count": null,
   "metadata": {
    "collapsed": false
   },
   "outputs": [],
   "source": [
    "Image(filename='./assets/Classification.png') "
   ]
  },
  {
   "cell_type": "markdown",
   "metadata": {},
   "source": [
    "We will focus on building a simple heirarchical model based on on this branching.\n",
    "\n",
    "1. We will first build three classifiers and evaluate the error independently.\n",
    "2. Then we will take a look at the error propogation."
   ]
  },
  {
   "cell_type": "code",
   "execution_count": null,
   "metadata": {
    "collapsed": true
   },
   "outputs": [],
   "source": [
    "from dao import DataAccess, LabelGetter"
   ]
  },
  {
   "cell_type": "code",
   "execution_count": null,
   "metadata": {
    "collapsed": false
   },
   "outputs": [],
   "source": [
    "XX = DataAccess.get_as_dataframe()\n",
    "XX.head()"
   ]
  },
  {
   "cell_type": "markdown",
   "metadata": {},
   "source": [
    "# GridSearch for RandomForests and Logisitic Regression"
   ]
  },
  {
   "cell_type": "code",
   "execution_count": null,
   "metadata": {
    "collapsed": true
   },
   "outputs": [],
   "source": [
    "import pylab as plt\n",
    "import pandas as pd\n",
    "\n",
    "from scipy.stats import uniform, randint\n",
    "\n",
    "from pipelines.alcohol import AlcoholPipeline\n",
    "\n",
    "from sklearn.grid_search import RandomizedSearchCV\n",
    "from sklearn.cross_validation import train_test_split\n",
    "from sklearn.linear_model import LogisticRegression\n",
    "from sklearn.ensemble import RandomForestClassifier\n",
    "from sklearn import metrics"
   ]
  },
  {
   "cell_type": "code",
   "execution_count": null,
   "metadata": {
    "collapsed": false
   },
   "outputs": [],
   "source": [
    "def n_grams(start, end):\n",
    "    for a in range(1, start+1):\n",
    "        for b in range(1, end+1):\n",
    "                if a < b:\n",
    "                    yield (a,b)"
   ]
  },
  {
   "cell_type": "code",
   "execution_count": null,
   "metadata": {
    "collapsed": false
   },
   "outputs": [],
   "source": [
    "data = LabelGetter(XX)\n",
    "X, y = data.get_alcohol()\n",
    "X_train, X_test, y_train, y_test = train_test_split(\n",
    "    X, y, test_size=0.33, random_state=42)"
   ]
  },
  {
   "cell_type": "markdown",
   "metadata": {},
   "source": [
    "### Logistic Regression"
   ]
  },
  {
   "cell_type": "code",
   "execution_count": null,
   "metadata": {
    "collapsed": false
   },
   "outputs": [],
   "source": [
    "clf = AlcoholPipeline(global_features=[\"text\"]).pipeline(LogisticRegression())#.set_params(**params)"
   ]
  },
  {
   "cell_type": "code",
   "execution_count": null,
   "metadata": {
    "collapsed": false
   },
   "outputs": [],
   "source": [
    "params = {\n",
    "'clf__C': uniform(0.01, 1000),\n",
    "'features__text__tfidf__analyzer':['word', 'char'],\n",
    "'features__text__tfidf__lowercase': [False, True],\n",
    "'features__text__tfidf__max_features': list(range(10000, 100000, 1000)),\n",
    "'features__text__tfidf__ngram_range': list(n_grams(3, 14)),\n",
    "'features__text__tfidf__norm': ['l2']\n",
    "}"
   ]
  },
  {
   "cell_type": "code",
   "execution_count": null,
   "metadata": {
    "collapsed": false
   },
   "outputs": [],
   "source": [
    "lr_clf_rgs = RandomizedSearchCV(clf, params, n_iter=60, n_jobs=4, verbose=1, scoring=\"f1\")"
   ]
  },
  {
   "cell_type": "code",
   "execution_count": null,
   "metadata": {
    "collapsed": false
   },
   "outputs": [],
   "source": [
    "lr_clf_rgs.fit(X_train, y_train)"
   ]
  },
  {
   "cell_type": "code",
   "execution_count": null,
   "metadata": {
    "collapsed": false
   },
   "outputs": [],
   "source": [
    "lr_clf_rgs.best_params_"
   ]
  },
  {
   "cell_type": "code",
   "execution_count": null,
   "metadata": {
    "collapsed": false
   },
   "outputs": [],
   "source": [
    "lr_clf_rgs.best_score_"
   ]
  },
  {
   "cell_type": "markdown",
   "metadata": {},
   "source": [
    "### Random Forest"
   ]
  },
  {
   "cell_type": "code",
   "execution_count": null,
   "metadata": {
    "collapsed": true
   },
   "outputs": [],
   "source": [
    "clf = AlcoholPipeline(global_features=[\"text\"]).pipeline(RandomForestClassifier(\n",
    "        n_jobs=4\n",
    "    ))"
   ]
  },
  {
   "cell_type": "code",
   "execution_count": null,
   "metadata": {
    "collapsed": true
   },
   "outputs": [],
   "source": [
    "params = {\n",
    " 'clf__class_weight': ,\n",
    " 'clf__criterion': 'gini',\n",
    " 'clf__max_depth': list(range(10, 400, 5)),\n",
    " 'clf__max_features': 'auto',\n",
    " 'clf__min_samples_leaf': range(1, 5),\n",
    " 'clf__min_samples_split': range(1, 5),\n",
    " 'clf__n_estimators': list(range(100, 1000, 50)),\n",
    "'features__text__tfidf__analyzer':['word', 'char'],\n",
    "'features__text__tfidf__lowercase': [False, True],\n",
    "'features__text__tfidf__max_features': list(range(10000, 100000, 1000)),\n",
    "'features__text__tfidf__ngram_range': list(n_grams(3, 14)),\n",
    "'features__text__tfidf__norm': ['l2']\n",
    "}"
   ]
  },
  {
   "cell_type": "code",
   "execution_count": null,
   "metadata": {
    "collapsed": true
   },
   "outputs": [],
   "source": [
    "rf_clf_rgs = RandomizedSearchCV(clf, params, n_iter=60, n_jobs=4, verbose=1, scoring=\"f1\")"
   ]
  },
  {
   "cell_type": "markdown",
   "metadata": {},
   "source": [
    "## Checking Features Importances using AUC"
   ]
  },
  {
   "cell_type": "code",
   "execution_count": null,
   "metadata": {
    "collapsed": true
   },
   "outputs": [],
   "source": [
    "features = [\"text\", \"time\", \"user\", \"age\"]"
   ]
  },
  {
   "cell_type": "code",
   "execution_count": null,
   "metadata": {
    "collapsed": false
   },
   "outputs": [],
   "source": [
    "def create_roc(features):\n",
    "    clf = AlcoholPipeline(global_features=features).pipeline(\n",
    "    RandomForestClassifier(\n",
    "        n_estimators=400,\n",
    "        class_weight=\"auto\")\n",
    "    )\n",
    "    #if \"text\" in features:\n",
    "    #    clf.set_params(**text_params)\n",
    "    clf.fit(X_train, y_train)\n",
    "    preds = clf.predict_proba(X_test)[:,1]\n",
    "    fpr, tpr, _ = metrics.roc_curve(y_test, preds)\n",
    "    roc_auc = metrics.auc(fpr, tpr)\n",
    "    plt.plot(fpr, tpr, label='|'.join(features) + '(area = %0.2f)' % roc_auc)\n",
    "    return None"
   ]
  },
  {
   "cell_type": "code",
   "execution_count": null,
   "metadata": {
    "collapsed": false
   },
   "outputs": [],
   "source": [
    "plt.hold(True)\n",
    "create_roc([\"time\"])\n",
    "create_roc([\"user\"])\n",
    "create_roc([\"text\"])\n",
    "create_roc([\"age\"])\n",
    "create_roc([\"text\", \"user\", \"age\"])\n",
    "plt.plot([0, 1], [0, 1], 'k--')\n",
    "plt.xlim([0.0, 1.0])\n",
    "plt.ylim([0.0, 1.05])\n",
    "plt.xlabel('False Positive Rate')\n",
    "plt.ylabel('True Positive Rate')\n",
    "plt.title('Receiver operating characteristic for Features')\n",
    "plt.legend(loc=\"lower right\")\n",
    "plt.show()"
   ]
  },
  {
   "cell_type": "code",
   "execution_count": null,
   "metadata": {
    "collapsed": true
   },
   "outputs": [],
   "source": []
  }
 ],
 "metadata": {
  "kernelspec": {
   "display_name": "Python 3",
   "language": "python",
   "name": "python3"
  },
  "language_info": {
   "codemirror_mode": {
    "name": "ipython",
    "version": 3
   },
   "file_extension": ".py",
   "mimetype": "text/x-python",
   "name": "python",
   "nbconvert_exporter": "python",
   "pygments_lexer": "ipython3",
   "version": "3.4.1"
  }
 },
 "nbformat": 4,
 "nbformat_minor": 0
}
