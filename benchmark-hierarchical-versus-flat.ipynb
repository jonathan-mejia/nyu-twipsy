{
 "cells": [
  {
   "cell_type": "markdown",
   "metadata": {},
   "source": [
    "# Benchmarking Hierarchical versus Flat Classification"
   ]
  },
  {
   "cell_type": "code",
   "execution_count": 1,
   "metadata": {
    "collapsed": false
   },
   "outputs": [],
   "source": [
    "%matplotlib inline\n",
    "from pylab import rcParams\n",
    "rcParams['figure.figsize'] = 20, 9\n",
    "from IPython.display import Image"
   ]
  },
  {
   "cell_type": "code",
   "execution_count": 2,
   "metadata": {
    "collapsed": false
   },
   "outputs": [],
   "source": [
    "from dao import DataAccess, LabelGetter\n",
    "from pickle import load"
   ]
  },
  {
   "cell_type": "code",
   "execution_count": 3,
   "metadata": {
    "collapsed": true
   },
   "outputs": [],
   "source": [
    "import pandas as pd"
   ]
  },
  {
   "cell_type": "markdown",
   "metadata": {},
   "source": [
    "Fixes a pipeline problem I have yet to resolve."
   ]
  },
  {
   "cell_type": "code",
   "execution_count": 284,
   "metadata": {
    "collapsed": true
   },
   "outputs": [],
   "source": [
    "from pipelines.helpers import ExplodingRecordJoiner\n",
    "\n",
    "XX = ExplodingRecordJoiner(user=[\n",
    "                'created_at',\n",
    "                'favourites_count',\n",
    "                'followers_count',\n",
    "                'friends_count',\n",
    "                'statuses_count',\n",
    "                'verified'\n",
    "            ]).fit_transform(X)"
   ]
  },
  {
   "cell_type": "markdown",
   "metadata": {},
   "source": [
    "# Notice that there are some labels of \"alcohol:1\" without first person labels, we'll fix this later but for not this hack will remove that data"
   ]
  },
  {
   "cell_type": "code",
   "execution_count": 287,
   "metadata": {
    "collapsed": false
   },
   "outputs": [],
   "source": [
    "from sklearn.cross_validation import train_test_split\n",
    "\n",
    "X_train, X_test, y_train, y_test = train_test_split(\n",
    "    XX, y, test_size=0.33, random_state=42)"
   ]
  },
  {
   "cell_type": "code",
   "execution_count": 288,
   "metadata": {
    "collapsed": true
   },
   "outputs": [],
   "source": [
    "# Remove labels that are alcohol but dont contain first person infromation\n",
    "X_test = X_test[X_test[\"labels\"] != {\"alcohol\":1}]\n",
    "y_test = y_test[X_test[\"labels\"] != {\"alcohol\":1}]\n",
    "\n",
    "label_map = {\n",
    "    1: \"first_person_looking\",\n",
    "    2: \"first_person_reflecting\",\n",
    "    0: \"first_person_casual\",\n",
    "    3: \"first_person_heavy\"\n",
    "}\n",
    "\n",
    "def produce_named_labels(label_dict):\n",
    "    if label_dict[\"alcohol\"] == 0:\n",
    "        return (0, \"non_drinking\")\n",
    "    elif \"first_person\" not in label_dict:\n",
    "        return None\n",
    "    \n",
    "    if label_dict[\"first_person\"] == 0:\n",
    "        return (0, \"alcohol_related\")\n",
    "    \n",
    "    return (label_dict[\"first_person_level\"], label_map[label_dict[\"first_person_level\"]])"
   ]
  },
  {
   "cell_type": "code",
   "execution_count": 292,
   "metadata": {
    "collapsed": true
   },
   "outputs": [],
   "source": [
    "y = X_test.get(\"labels\").apply(produce_named_labels)"
   ]
  },
  {
   "cell_type": "markdown",
   "metadata": {},
   "source": [
    "# Constructing Heirarchy"
   ]
  },
  {
   "cell_type": "markdown",
   "metadata": {},
   "source": [
    "Loading Classifiers"
   ]
  },
  {
   "cell_type": "code",
   "execution_count": 321,
   "metadata": {
    "collapsed": true
   },
   "outputs": [],
   "source": [
    "from classification import Taxonomy"
   ]
  },
  {
   "cell_type": "code",
   "execution_count": 320,
   "metadata": {
    "collapsed": false
   },
   "outputs": [],
   "source": [
    "clf_alch = load(open(\n",
    "    \"./clfs/LogisticRegression|label:alcohol|accuracy:0.7970909090909091|f1:0.8367466354593329|feature:['text', 'user', 'age']\"\n",
    "    , \"rb+\"))\n",
    "clf_frst = load(open(\n",
    "    \"./clfs/LogisticRegression|label:first_person|accuracy:0.6640826873385013|f1:0.721030042918455|feature:['text', 'user', 'age']\"\n",
    "    , \"rb+\"))\n",
    "clf_fstl = load(open(\n",
    "    \"./clfs/LogisticRegression|label:first_person_level|accuracy:0.4703196347031963|f1:0.46356955515952386|feature:['text']\"\n",
    "    , \"rb+\"\n",
    "    ))"
   ]
  },
  {
   "cell_type": "markdown",
   "metadata": {},
   "source": [
    "### Construct taxonomy"
   ]
  },
  {
   "cell_type": "markdown",
   "metadata": {},
   "source": [
    "root = Taxonomy(\n",
    "    \"alcohol\",\n",
    "    {\n",
    "        0:\"non_drinking\",\n",
    "        1:\"drinking\"\n",
    "    },\n",
    "    clf_alch[\"clf\"]\n",
    ")\n",
    "\n",
    "first_person = Taxonomy(\n",
    "    \"first_person\",\n",
    "    {\n",
    "        0:\"alcohol_related\",\n",
    "        1:\"first_person\"\n",
    "    },\n",
    "    clf_frst[\"clf\"]\n",
    ")\n",
    "\n",
    "first_person_level = Taxonomy(\n",
    "    \"first_person_level\",\n",
    "    {\n",
    "        0:\"first_person_casual\",\n",
    "        1:\"first_person_looking\",\n",
    "        2:\"first_person_reflecting\",\n",
    "        3:\"first_person_heavy\"\n",
    "    },\n",
    "    clf_fstl[\"clf\"]\n",
    ")\n",
    "\n",
    "first_person.add_children({1: first_person_level})\n",
    "root.add_children({1: first_person})"
   ]
  },
  {
   "cell_type": "markdown",
   "metadata": {},
   "source": [
    "### Load Flat"
   ]
  },
  {
   "cell_type": "code",
   "execution_count": 329,
   "metadata": {
    "collapsed": true
   },
   "outputs": [],
   "source": [
    "clf_flat = load(open(\n",
    "    \"./clfs/LogisticRegression|label:flat|accuracy:0.6749090909090909|f1:0.6193087578156977|feature:['text']\"\n",
    "    ,\"rb+\"))"
   ]
  },
  {
   "cell_type": "code",
   "execution_count": 341,
   "metadata": {
    "collapsed": false
   },
   "outputs": [],
   "source": [
    "y_test_flat = LabelGetter(X_test).get_flatlabels()[1]"
   ]
  },
  {
   "cell_type": "code",
   "execution_count": 342,
   "metadata": {
    "collapsed": false
   },
   "outputs": [],
   "source": [
    "y_pred_flat = clf_flat.predict(X_test)"
   ]
  },
  {
   "cell_type": "markdown",
   "metadata": {},
   "source": [
    "### Prediction and Performance"
   ]
  },
  {
   "cell_type": "code",
   "execution_count": 346,
   "metadata": {
    "collapsed": false
   },
   "outputs": [],
   "source": [
    "y_test_tree = y_test.apply(ans2int.get)"
   ]
  },
  {
   "cell_type": "code",
   "execution_count": 347,
   "metadata": {
    "collapsed": false
   },
   "outputs": [
    {
     "name": "stdout",
     "output_type": "stream",
     "text": [
      "0    501\n",
      "1    410\n",
      "dtype: int64\n",
      "1    257\n",
      "0    153\n",
      "dtype: int64\n",
      "1    105\n",
      "2     77\n",
      "0     57\n",
      "3     18\n",
      "dtype: int64\n"
     ]
    }
   ],
   "source": [
    "y_pred_tree = root.predict(X_test, deep=True).apply(ans2int.get)"
   ]
  },
  {
   "cell_type": "code",
   "execution_count": null,
   "metadata": {
    "collapsed": true
   },
   "outputs": [],
   "source": [
    "ans2int = {\n",
    "(0, \"non_drinking\"):0,\n",
    "(0, \"alcohol_related\"):1,\n",
    "(1, \"first_person_looking\"):3,\n",
    "(2, \"first_person_reflecting\"):4,\n",
    "(0, \"first_person_casual\"):2,\n",
    "(3, \"first_person_heavy\"):5\n",
    "}"
   ]
  },
  {
   "cell_type": "markdown",
   "metadata": {},
   "source": [
    "# Reports"
   ]
  },
  {
   "cell_type": "code",
   "execution_count": 358,
   "metadata": {
    "collapsed": true
   },
   "outputs": [],
   "source": [
    "from sklearn.metrics import accuracy_score, confusion_matrix, classification_report, f1_score"
   ]
  },
  {
   "cell_type": "code",
   "execution_count": 354,
   "metadata": {
    "collapsed": true
   },
   "outputs": [],
   "source": []
  },
  {
   "cell_type": "code",
   "execution_count": 355,
   "metadata": {
    "collapsed": false
   },
   "outputs": [
    {
     "name": "stdout",
     "output_type": "stream",
     "text": [
      "             precision    recall  f1-score   support\n",
      "\n",
      "          0       0.82      0.86      0.84       485\n",
      "          1       0.84      0.37      0.51       418\n",
      "          2       0.03      1.00      0.06         2\n",
      "          3       0.06      0.83      0.12         6\n",
      "          4       0.00      0.00      0.00         0\n",
      "          5       0.00      0.00      0.00         0\n",
      "\n",
      "avg / total       0.82      0.63      0.68       911\n",
      "\n",
      "[[416  30  19  16   1   3]\n",
      " [ 93 153  43  58  53  18]\n",
      " [  0   0   2   0   0   0]\n",
      " [  1   0   0   5   0   0]\n",
      " [  0   0   0   0   0   0]\n",
      " [  0   0   0   0   0   0]]\n"
     ]
    }
   ],
   "source": [
    "# flat\n",
    "print(classification_report(y_pred_flat, y_test_flat))\n",
    "print(confusion_matrix(y_pred_flat, y_test_flat))"
   ]
  },
  {
   "cell_type": "code",
   "execution_count": 356,
   "metadata": {
    "collapsed": false
   },
   "outputs": [
    {
     "name": "stdout",
     "output_type": "stream",
     "text": [
      "             precision    recall  f1-score   support\n",
      "\n",
      "          0       0.58      0.59      0.58       501\n",
      "          1       0.20      0.24      0.22       153\n",
      "          2       0.03      0.04      0.03        57\n",
      "          3       0.11      0.09      0.10       105\n",
      "          4       0.15      0.10      0.12        77\n",
      "          5       0.00      0.00      0.00        18\n",
      "\n",
      "avg / total       0.38      0.38      0.38       911\n",
      "\n",
      "[[294  92  30  47  28  10]\n",
      " [ 80  37  17  12   5   2]\n",
      " [ 25  16   2   4   5   5]\n",
      " [ 62  19   6   9   8   1]\n",
      " [ 37  18   7   4   8   3]\n",
      " [ 12   1   2   3   0   0]]\n"
     ]
    }
   ],
   "source": [
    "# Tree\n",
    "print(classification_report(y_pred_tree, y_test_tree))\n",
    "print(confusion_matrix(y_pred_tree, y_test_tree))"
   ]
  },
  {
   "cell_type": "code",
   "execution_count": 357,
   "metadata": {
    "collapsed": false
   },
   "outputs": [
    {
     "name": "stdout",
     "output_type": "stream",
     "text": [
      "flat 0.632272228321\n",
      "tree 0.384193194292\n"
     ]
    }
   ],
   "source": [
    "# Tree\n",
    "print(\"flat\", accuracy_score(y_pred_flat, y_test_flat))\n",
    "print(\"tree\", accuracy_score(y_pred_tree, y_test_tree))"
   ]
  },
  {
   "cell_type": "code",
   "execution_count": 362,
   "metadata": {
    "collapsed": false
   },
   "outputs": [
    {
     "name": "stdout",
     "output_type": "stream",
     "text": [
      "flat 0.679692781942\n",
      "tree 0.38050475817\n"
     ]
    }
   ],
   "source": [
    "# Tree\n",
    "print(\"flat\", f1_score(y_pred_flat, y_test_flat, average=\"weighted\"))\n",
    "print(\"tree\", f1_score(y_pred_tree, y_test_tree, average=\"weighted\"))"
   ]
  },
  {
   "cell_type": "code",
   "execution_count": null,
   "metadata": {
    "collapsed": true
   },
   "outputs": [],
   "source": []
  }
 ],
 "metadata": {
  "kernelspec": {
   "display_name": "Python 3",
   "language": "python",
   "name": "python3"
  },
  "language_info": {
   "codemirror_mode": {
    "name": "ipython",
    "version": 3
   },
   "file_extension": ".py",
   "mimetype": "text/x-python",
   "name": "python",
   "nbconvert_exporter": "python",
   "pygments_lexer": "ipython3",
   "version": "3.4.1"
  }
 },
 "nbformat": 4,
 "nbformat_minor": 0
}
