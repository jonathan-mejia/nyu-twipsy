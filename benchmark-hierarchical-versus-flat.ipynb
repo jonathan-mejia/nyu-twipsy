{
 "cells": [
  {
   "cell_type": "markdown",
   "metadata": {},
   "source": [
    "# Benchmarking Hierarchical versus Flat Classification"
   ]
  },
  {
   "cell_type": "code",
   "execution_count": 5,
   "metadata": {
    "collapsed": false
   },
   "outputs": [],
   "source": [
    "%matplotlib inline\n",
    "from pylab import rcParams\n",
    "rcParams['figure.figsize'] = 20, 9\n",
    "from IPython.display import Image"
   ]
  },
  {
   "cell_type": "code",
   "execution_count": 6,
   "metadata": {
    "collapsed": false
   },
   "outputs": [],
   "source": [
    "from dao import DataAccess, LabelGetter"
   ]
  },
  {
   "cell_type": "markdown",
   "metadata": {},
   "source": [
    "## First of, convert our nested labels into flat ones"
   ]
  },
  {
   "cell_type": "code",
   "execution_count": 7,
   "metadata": {
    "collapsed": false
   },
   "outputs": [
    {
     "data": {
      "image/png": "[encoded data removed]",
      "text/plain": [
       "<IPython.core.display.Image object>"
      ]
     },
     "execution_count": 7,
     "metadata": {},
     "output_type": "execute_result"
    }
   ],
   "source": [
    "Image(filename='./assets/Classification_flat.png')"
   ]
  },
  {
   "cell_type": "code",
   "execution_count": 8,
   "metadata": {
    "collapsed": false
   },
   "outputs": [
    {
     "data": {
      "text/html": [
       "<div>\n",
       "<table border=\"1\" class=\"dataframe\">\n",
       "  <thead>\n",
       "    <tr style=\"text-align: right;\">\n",
       "      <th></th>\n",
       "      <th>created_at</th>\n",
       "      <th>labels</th>\n",
       "      <th>predict</th>\n",
       "      <th>text</th>\n",
       "      <th>user</th>\n",
       "    </tr>\n",
       "    <tr>\n",
       "      <th>_id</th>\n",
       "      <th></th>\n",
       "      <th></th>\n",
       "      <th></th>\n",
       "      <th></th>\n",
       "      <th></th>\n",
       "    </tr>\n",
       "  </thead>\n",
       "  <tbody>\n",
       "    <tr>\n",
       "      <th>556e0ee3d6dfbb462880f0a5</th>\n",
       "      <td>Tue Jun 02 20:16:08 +0000 2015</td>\n",
       "      <td>{'alcohol': 0}</td>\n",
       "      <td>0.526050</td>\n",
       "      <td>Impatiently waiting to get our hands on the ne...</td>\n",
       "      <td>{'statuses_count': 823, 'followers_count': 407...</td>\n",
       "    </tr>\n",
       "    <tr>\n",
       "      <th>556e128ad6dfbb46288111e4</th>\n",
       "      <td>Tue Jun 02 20:31:44 +0000 2015</td>\n",
       "      <td>{'raw': 'Alcohol Related::Promotional Content'...</td>\n",
       "      <td>0.516649</td>\n",
       "      <td>Beer fans need their @ColumbusBrewing Bodhi. I...</td>\n",
       "      <td>{'statuses_count': 10442, 'followers_count': 1...</td>\n",
       "    </tr>\n",
       "    <tr>\n",
       "      <th>556e1464d6dfbb4628812330</th>\n",
       "      <td>Tue Jun 02 20:39:37 +0000 2015</td>\n",
       "      <td>{'alcohol': 1}</td>\n",
       "      <td>0.502633</td>\n",
       "      <td>Stone Cold use to be the baddest MF in my book...</td>\n",
       "      <td>{'statuses_count': 89573, 'followers_count': 7...</td>\n",
       "    </tr>\n",
       "    <tr>\n",
       "      <th>556e15f1d6dfbb4628813236</th>\n",
       "      <td>Tue Jun 02 20:46:14 +0000 2015</td>\n",
       "      <td>{'alcohol': 1}</td>\n",
       "      <td>0.535758</td>\n",
       "      <td>Now @iamjohnoliver has to drink a Bud Light Li...</td>\n",
       "      <td>{'statuses_count': 16435, 'followers_count': 9...</td>\n",
       "    </tr>\n",
       "    <tr>\n",
       "      <th>556e1adcd6dfbb50e34a1ed6</th>\n",
       "      <td>Tue Jun 02 21:07:13 +0000 2015</td>\n",
       "      <td>{'alcohol': 0}</td>\n",
       "      <td>0.533892</td>\n",
       "      <td>I'm  ready for a yard sale and to sell all the...</td>\n",
       "      <td>{'statuses_count': 32154, 'followers_count': 5...</td>\n",
       "    </tr>\n",
       "  </tbody>\n",
       "</table>\n",
       "</div>"
      ],
      "text/plain": [
       "                                              created_at  \\\n",
       "_id                                                        \n",
       "556e0ee3d6dfbb462880f0a5  Tue Jun 02 20:16:08 +0000 2015   \n",
       "556e128ad6dfbb46288111e4  Tue Jun 02 20:31:44 +0000 2015   \n",
       "556e1464d6dfbb4628812330  Tue Jun 02 20:39:37 +0000 2015   \n",
       "556e15f1d6dfbb4628813236  Tue Jun 02 20:46:14 +0000 2015   \n",
       "556e1adcd6dfbb50e34a1ed6  Tue Jun 02 21:07:13 +0000 2015   \n",
       "\n",
       "                                                                     labels  \\\n",
       "_id                                                                           \n",
       "556e0ee3d6dfbb462880f0a5                                     {'alcohol': 0}   \n",
       "556e128ad6dfbb46288111e4  {'raw': 'Alcohol Related::Promotional Content'...   \n",
       "556e1464d6dfbb4628812330                                     {'alcohol': 1}   \n",
       "556e15f1d6dfbb4628813236                                     {'alcohol': 1}   \n",
       "556e1adcd6dfbb50e34a1ed6                                     {'alcohol': 0}   \n",
       "\n",
       "                           predict  \\\n",
       "_id                                  \n",
       "556e0ee3d6dfbb462880f0a5  0.526050   \n",
       "556e128ad6dfbb46288111e4  0.516649   \n",
       "556e1464d6dfbb4628812330  0.502633   \n",
       "556e15f1d6dfbb4628813236  0.535758   \n",
       "556e1adcd6dfbb50e34a1ed6  0.533892   \n",
       "\n",
       "                                                                       text  \\\n",
       "_id                                                                           \n",
       "556e0ee3d6dfbb462880f0a5  Impatiently waiting to get our hands on the ne...   \n",
       "556e128ad6dfbb46288111e4  Beer fans need their @ColumbusBrewing Bodhi. I...   \n",
       "556e1464d6dfbb4628812330  Stone Cold use to be the baddest MF in my book...   \n",
       "556e15f1d6dfbb4628813236  Now @iamjohnoliver has to drink a Bud Light Li...   \n",
       "556e1adcd6dfbb50e34a1ed6  I'm  ready for a yard sale and to sell all the...   \n",
       "\n",
       "                                                                       user  \n",
       "_id                                                                          \n",
       "556e0ee3d6dfbb462880f0a5  {'statuses_count': 823, 'followers_count': 407...  \n",
       "556e128ad6dfbb46288111e4  {'statuses_count': 10442, 'followers_count': 1...  \n",
       "556e1464d6dfbb4628812330  {'statuses_count': 89573, 'followers_count': 7...  \n",
       "556e15f1d6dfbb4628813236  {'statuses_count': 16435, 'followers_count': 9...  \n",
       "556e1adcd6dfbb50e34a1ed6  {'statuses_count': 32154, 'followers_count': 5...  "
      ]
     },
     "execution_count": 8,
     "metadata": {},
     "output_type": "execute_result"
    }
   ],
   "source": [
    "X = DataAccess.get_as_dataframe()\n",
    "X.head()"
   ]
  },
  {
   "cell_type": "code",
   "execution_count": 26,
   "metadata": {
    "collapsed": false
   },
   "outputs": [],
   "source": [
    "X, y = LabelGetter(X).get_flatlabels()"
   ]
  },
  {
   "cell_type": "code",
   "execution_count": null,
   "metadata": {
    "collapsed": true
   },
   "outputs": [],
   "source": []
  }
 ],
 "metadata": {
  "kernelspec": {
   "display_name": "Python 3",
   "language": "python",
   "name": "python3"
  },
  "language_info": {
   "codemirror_mode": {
    "name": "ipython",
    "version": 3
   },
   "file_extension": ".py",
   "mimetype": "text/x-python",
   "name": "python",
   "nbconvert_exporter": "python",
   "pygments_lexer": "ipython3",
   "version": "3.4.1"
  }
 },
 "nbformat": 4,
 "nbformat_minor": 0
}
