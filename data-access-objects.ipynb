{
 "cells": [
  {
   "cell_type": "markdown",
   "metadata": {},
   "source": [
    "# Defining Mongo Projections and Queries\n",
    "\n",
    "Notice that there are a lot of fields for each object we obtain from MongoDB"
   ]
  },
  {
   "cell_type": "code",
   "execution_count": 45,
   "metadata": {
    "collapsed": true
   },
   "outputs": [],
   "source": [
    "from config import db"
   ]
  },
  {
   "cell_type": "code",
   "execution_count": 46,
   "metadata": {
    "collapsed": false
   },
   "outputs": [
    {
     "data": {
      "text/plain": [
       "{'_id': '556e0e24d6dfbb462880e9f7',\n",
       " 'contributors': None,\n",
       " 'coordinates': None,\n",
       " 'created_at': 'Tue Jun 02 20:12:57 +0000 2015',\n",
       " 'entities': {'hashtags': [],\n",
       "  'symbols': [],\n",
       "  'trends': [],\n",
       "  'urls': [],\n",
       "  'user_mentions': []},\n",
       " 'favorite_count': 0,\n",
       " 'favorited': False,\n",
       " 'filter_level': 'low',\n",
       " 'geo': None,\n",
       " 'id': 605829475847176192,\n",
       " 'id_str': '605829475847176192',\n",
       " 'in_reply_to_screen_name': None,\n",
       " 'in_reply_to_status_id': None,\n",
       " 'in_reply_to_status_id_str': None,\n",
       " 'in_reply_to_user_id': None,\n",
       " 'in_reply_to_user_id_str': None,\n",
       " 'lang': 'en',\n",
       " 'place': {'attributes': {},\n",
       "  'bounding_box': {'coordinates': [[[-95.823268, 29.522325],\n",
       "     [-95.823268, 30.1546646],\n",
       "     [-95.069705, 30.1546646],\n",
       "     [-95.069705, 29.522325]]],\n",
       "   'type': 'Polygon'},\n",
       "  'country': 'United States',\n",
       "  'country_code': 'US',\n",
       "  'full_name': 'Houston, TX',\n",
       "  'id': '1c69a67ad480e1b1',\n",
       "  'name': 'Houston',\n",
       "  'place_type': 'city',\n",
       "  'url': 'https://api.twitter.com/1.1/geo/id/1c69a67ad480e1b1.json'},\n",
       " 'possibly_sensitive': False,\n",
       " 'predict': 0.5735867309024859,\n",
       " 'random_number': 0.48256253613931155,\n",
       " 'retweet_count': 0,\n",
       " 'retweeted': False,\n",
       " 'source': '<a href=\"http://twitter.com/download/iphone\" rel=\"nofollow\">Twitter for iPhone</a>',\n",
       " 'text': 'Snowcones &amp; Pickles w/ beer salt. Can I get an Amen 🙏 🙌',\n",
       " 'timestamp_ms': '1433275977466',\n",
       " 'truncated': False,\n",
       " 'user': {'contributors_enabled': False,\n",
       "  'created_at': 'Tue Oct 21 16:01:53 +0000 2014',\n",
       "  'default_profile': True,\n",
       "  'default_profile_image': False,\n",
       "  'description': 'Strong women wear their pain like stilletos. No matter how much they hurt, all you see is the beauty of it.\\nsnapchat- jessikerrhopee',\n",
       "  'favourites_count': 77,\n",
       "  'follow_request_sent': None,\n",
       "  'followers_count': 112,\n",
       "  'following': None,\n",
       "  'friends_count': 193,\n",
       "  'geo_enabled': True,\n",
       "  'id': 2869035804,\n",
       "  'id_str': '2869035804',\n",
       "  'is_translator': False,\n",
       "  'lang': 'en',\n",
       "  'listed_count': 1,\n",
       "  'location': '',\n",
       "  'name': 'jessica',\n",
       "  'notifications': None,\n",
       "  'profile_background_color': 'C0DEED',\n",
       "  'profile_background_image_url': 'http://abs.twimg.com/images/themes/theme1/bg.png',\n",
       "  'profile_background_image_url_https': 'https://abs.twimg.com/images/themes/theme1/bg.png',\n",
       "  'profile_background_tile': False,\n",
       "  'profile_banner_url': 'https://pbs.twimg.com/profile_banners/2869035804/1413931666',\n",
       "  'profile_image_url': 'http://pbs.twimg.com/profile_images/524605420539629568/J_KzEkgJ_normal.png',\n",
       "  'profile_image_url_https': 'https://pbs.twimg.com/profile_images/524605420539629568/J_KzEkgJ_normal.png',\n",
       "  'profile_link_color': '0084B4',\n",
       "  'profile_sidebar_border_color': 'C0DEED',\n",
       "  'profile_sidebar_fill_color': 'DDEEF6',\n",
       "  'profile_text_color': '333333',\n",
       "  'profile_use_background_image': True,\n",
       "  'protected': False,\n",
       "  'screen_name': 'jesikerr',\n",
       "  'statuses_count': 367,\n",
       "  'time_zone': None,\n",
       "  'url': None,\n",
       "  'utc_offset': None,\n",
       "  'verified': False}}"
      ]
     },
     "execution_count": 46,
     "metadata": {},
     "output_type": "execute_result"
    }
   ],
   "source": [
    "# So much junk\n",
    "db.find_one()"
   ]
  },
  {
   "cell_type": "markdown",
   "metadata": {},
   "source": [
    "We can remove a lot of the fields if we use a projection operator."
   ]
  },
  {
   "cell_type": "code",
   "execution_count": 47,
   "metadata": {
    "collapsed": false
   },
   "outputs": [
    {
     "data": {
      "text/plain": [
       "{'_id': '556e0e24d6dfbb462880e9f7',\n",
       " 'text': 'Snowcones &amp; Pickles w/ beer salt. Can I get an Amen 🙏 🙌'}"
      ]
     },
     "execution_count": 47,
     "metadata": {},
     "output_type": "execute_result"
    }
   ],
   "source": [
    "db.find_one(projection={\"text\":1})"
   ]
  },
  {
   "cell_type": "code",
   "execution_count": 48,
   "metadata": {
    "collapsed": false
   },
   "outputs": [],
   "source": [
    "def project(*attributes, prefix=None):\n",
    "    if not prefix:\n",
    "        temp = \"{}\"\n",
    "    else:\n",
    "        temp = prefix + \".{}\"\n",
    "    return {temp.format(attr):1 for attr in attributes}"
   ]
  },
  {
   "cell_type": "code",
   "execution_count": 49,
   "metadata": {
    "collapsed": false
   },
   "outputs": [],
   "source": [
    "def union(*dtts):\n",
    "    result = {}\n",
    "    for d in dtts:\n",
    "        result.update(d)\n",
    "    return result"
   ]
  },
  {
   "cell_type": "markdown",
   "metadata": {},
   "source": [
    "# Projections\n",
    "\n",
    "These are used to select out the relevant features we want"
   ]
  },
  {
   "cell_type": "code",
   "execution_count": 61,
   "metadata": {
    "collapsed": false
   },
   "outputs": [],
   "source": [
    "proj_text = project(\n",
    "    \"text\"\n",
    ")\n",
    "\n",
    "proj_time = project(\n",
    "    \"created_at\"\n",
    ")\n",
    "\n",
    "proj_user = project(\n",
    "    \"friends_count\",\n",
    "    \"followers_count\",\n",
    "    \"statuses_count\",\n",
    "    \"favourites_count\", \n",
    "    \"created_at\",\n",
    "    \n",
    "    prefix=\"user\"\n",
    ")\n",
    "\n",
    "proj_predict = project(\n",
    "    \"predict\"\n",
    ")\n",
    "\n",
    "proj_label = project(\n",
    "    \"labels\"\n",
    ")"
   ]
  },
  {
   "cell_type": "markdown",
   "metadata": {},
   "source": [
    "# Queries"
   ]
  },
  {
   "cell_type": "code",
   "execution_count": 62,
   "metadata": {
    "collapsed": true
   },
   "outputs": [],
   "source": [
    "# this finds everything that has an alch label\n",
    "\n",
    "def exists(label, e=True):\n",
    "    return {label: {\"$exists\": e}}\n",
    "\n",
    "X = exists(\"labels\")"
   ]
  },
  {
   "cell_type": "code",
   "execution_count": 63,
   "metadata": {
    "collapsed": false
   },
   "outputs": [
    {
     "data": {
      "text/plain": [
       "{'_id': '556e0ee3d6dfbb462880f0a5',\n",
       " 'created_at': 'Tue Jun 02 20:16:08 +0000 2015',\n",
       " 'labels': {'alcohol': 0},\n",
       " 'predict': 0.5260502566296993,\n",
       " 'text': 'Impatiently waiting to get our hands on the new @UrbanDecay Naked Smoky Palette. #CrueltyFree #VivaBeauty',\n",
       " 'user': {'created_at': 'Thu Jun 12 22:14:05 +0000 2014',\n",
       "  'favourites_count': 394,\n",
       "  'followers_count': 407,\n",
       "  'friends_count': 1997,\n",
       "  'statuses_count': 823}}"
      ]
     },
     "execution_count": 63,
     "metadata": {},
     "output_type": "execute_result"
    }
   ],
   "source": [
    "db.find_one(X, projection=union(proj_label, proj_predict, proj_text, proj_time, proj_label, proj_user))"
   ]
  },
  {
   "cell_type": "code",
   "execution_count": null,
   "metadata": {
    "collapsed": true
   },
   "outputs": [],
   "source": []
  },
  {
   "cell_type": "code",
   "execution_count": null,
   "metadata": {
    "collapsed": true
   },
   "outputs": [],
   "source": []
  },
  {
   "cell_type": "code",
   "execution_count": null,
   "metadata": {
    "collapsed": true
   },
   "outputs": [],
   "source": []
  },
  {
   "cell_type": "code",
   "execution_count": null,
   "metadata": {
    "collapsed": true
   },
   "outputs": [],
   "source": []
  }
 ],
 "metadata": {
  "kernelspec": {
   "display_name": "Python 3",
   "language": "python",
   "name": "python3"
  },
  "language_info": {
   "codemirror_mode": {
    "name": "ipython",
    "version": 3
   },
   "file_extension": ".py",
   "mimetype": "text/x-python",
   "name": "python",
   "nbconvert_exporter": "python",
   "pygments_lexer": "ipython3",
   "version": "3.4.1"
  }
 },
 "nbformat": 4,
 "nbformat_minor": 0
}
