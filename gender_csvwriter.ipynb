{
 "cells": [
  {
   "cell_type": "markdown",
   "metadata": {},
   "source": [
    "# Exploring Gender Differences in Twitter Alcohol Data"
   ]
  },
  {
   "cell_type": "code",
   "execution_count": 13,
   "metadata": {
    "collapsed": true
   },
   "outputs": [],
   "source": [
    "import os\n",
    "import json\n",
    "\n",
    "%matplotlib inline\n",
    "\n",
    "import matplotlib.pyplot as plt\n",
    "\n",
    "import seaborn as sns\n",
    "\n",
    "sns.set_style(\"darkgrid\")\n",
    "\n",
    "import pandas as pd\n",
    "import numpy as np\n",
    "\n",
    "from itpy.helpers import try_or"
   ]
  },
  {
   "cell_type": "code",
   "execution_count": 14,
   "metadata": {
    "collapsed": true
   },
   "outputs": [],
   "source": [
    "sns.set_style(\"darkgrid\")\n",
    "sns.set_context(\"notebook\", font_scale=1.5, rc={\"lines.linewidth\": 2.5})\n",
    "plt.rcParams[\"figure.figsize\"] = (16,8)\n",
    "plt.rcParams[\"figure.dpi\"] = 300"
   ]
  },
  {
   "cell_type": "code",
   "execution_count": 15,
   "metadata": {
    "collapsed": false
   },
   "outputs": [
    {
     "name": "stdout",
     "output_type": "stream",
     "text": [
      "CPU times: user 2min 26s, sys: 1.17 s, total: 2min 27s\n",
      "Wall time: 2min 28s\n"
     ]
    }
   ],
   "source": [
    "%%time\n",
    "df = pd.DataFrame.from_csv(\"./labeled.control.dump.csv\")\n",
    "df[\"time\"] = pd.to_datetime(df.created_at)"
   ]
  },
  {
   "cell_type": "code",
   "execution_count": 16,
   "metadata": {
    "collapsed": true
   },
   "outputs": [],
   "source": [
    "df = df.set_index(\"time\")"
   ]
  },
  {
   "cell_type": "markdown",
   "metadata": {},
   "source": [
    "## Preprocessing Probability distributions "
   ]
  },
  {
   "cell_type": "code",
   "execution_count": 101,
   "metadata": {
    "collapsed": false
   },
   "outputs": [],
   "source": [
    "p = 0.75\n",
    "\n",
    "p_firstperson = df.prediction_alcohol_svc * df.prediction_firstperson_svc"
   ]
  },
  {
   "cell_type": "code",
   "execution_count": 102,
   "metadata": {
    "collapsed": false
   },
   "outputs": [
    {
     "name": "stderr",
     "output_type": "stream",
     "text": [
      "/Library/Frameworks/Python.framework/Versions/3.4/lib/python3.4/site-packages/IPython/kernel/__main__.py:4: SettingWithCopyWarning: \n",
      "A value is trying to be set on a copy of a slice from a DataFrame\n",
      "\n",
      "See the the caveats in the documentation: http://pandas.pydata.org/pandas-docs/stable/indexing.html#indexing-view-versus-copy\n"
     ]
    }
   ],
   "source": [
    "of_interest = p_firstperson > p\n",
    "\n",
    "df[\"first_person_alcohol\"] = 0\n",
    "df[\"first_person_alcohol\"][of_interest] = 1"
   ]
  },
  {
   "cell_type": "markdown",
   "metadata": {},
   "source": [
    "## Assigning Genders \n",
    "\n",
    "In a seperate program I've mapped first names to genders."
   ]
  },
  {
   "cell_type": "code",
   "execution_count": 19,
   "metadata": {
    "collapsed": false
   },
   "outputs": [
    {
     "name": "stderr",
     "output_type": "stream",
     "text": [
      "/Library/Frameworks/Python.framework/Versions/3.4/lib/python3.4/site-packages/pandas/io/parsers.py:1170: DtypeWarning: Columns (0) have mixed types. Specify dtype option on import or set low_memory=False.\n",
      "  data = self._reader.read(nrows)\n"
     ]
    }
   ],
   "source": [
    "id2gender = pd.DataFrame.from_csv(\"./id2gender.csv\")\n",
    "\n",
    "gender_map = {\n",
    "    \"Other\": \"Other\",\n",
    "    \"male\": \"Male\",\n",
    "    \"female\": \"Female\",\n",
    "    \"mostly_female\": \"Female\",\n",
    "    \"mostly_male\": \"Male\"\n",
    "}\n",
    "\n",
    "id2gender = id2gender.reset_index()\n",
    "id2gender.index = id2gender.user_id.apply(try_or(lambda _: int(_), lambda _: None))\n",
    "\n",
    "id2gender.gender = id2gender.gender.apply(gender_map.get)\n",
    "id2gender = id2gender.gender.to_dict()\n",
    "df[\"user_gender\"] = df.user_id.apply(id2gender.get)"
   ]
  },
  {
   "cell_type": "code",
   "execution_count": 20,
   "metadata": {
    "collapsed": false
   },
   "outputs": [],
   "source": [
    "col = [\"prediction_firstperson_level_0\", \"prediction_firstperson_level_2\", \"prediction_firstperson_level_3\"]\n",
    "new_fp_cols = [\"casual\", \"looking\", \"reflecting\"]\n",
    "for new_name, old_name in zip(new_fp_cols, col):\n",
    "    df[new_name] = df[old_name] * df.prediction_alcohol_svc * df.prediction_firstperson_svc > 0.45"
   ]
  },
  {
   "cell_type": "markdown",
   "metadata": {},
   "source": [
    "## Groupbys and Plots"
   ]
  },
  {
   "cell_type": "code",
   "execution_count": 21,
   "metadata": {
    "collapsed": false
   },
   "outputs": [],
   "source": [
    "# df = df.set_index(\"time\")"
   ]
  },
  {
   "cell_type": "code",
   "execution_count": 22,
   "metadata": {
    "collapsed": true
   },
   "outputs": [],
   "source": [
    "def centered_95int(data):\n",
    "    return 1.96 * (data.std() / np.sqrt(len(data)))"
   ]
  },
  {
   "cell_type": "code",
   "execution_count": 10,
   "metadata": {
    "collapsed": false
   },
   "outputs": [],
   "source": [
    "def plot(df, groupby_keys, groupby_label, groupby_name, writetoname, bars=1):\n",
    "\n",
    "    temp = df.groupby(groupby_keys).agg({\n",
    "            groupby_label:{\n",
    "                \"proportion\": \"mean\",\n",
    "                \"error\": centered_95int\n",
    "            }\n",
    "        }).unstack()\n",
    "    \n",
    "    temp.to_csv(writetoname)\n",
    "    \n",
    "    if bars:\n",
    "\n",
    "        ax = temp[(groupby_label, \"proportion\")].plot(\n",
    "            kind=\"bar\", width=1, yerr=temp[groupby_label].error,\n",
    "            subplots=(3, 1),\n",
    "            figsize=(8, 8),\n",
    "            title=groupby_name\n",
    "        )\n",
    "    else:\n",
    "        ax = temp[(groupby_label, \"proportion\")].plot(\n",
    "            kind=\"area\", stacked=1, alpha=0.1,\n",
    "            subplots=(3, 1),\n",
    "            figsize=(16, 8),\n",
    "            title=groupby_name\n",
    "        )\n",
    "    \n",
    "    return temp"
   ]
  },
  {
   "cell_type": "code",
   "execution_count": 23,
   "metadata": {
    "collapsed": true
   },
   "outputs": [],
   "source": [
    "simple_agg = {\n",
    "            \"first_person_alcohol\":{\n",
    "                \"proportion\": \"mean\",\n",
    "                \"error_95\": centered_95int,\n",
    "                \"total_tweets\": \"count\",\n",
    "            }\n",
    "        }"
   ]
  },
  {
   "cell_type": "code",
   "execution_count": 24,
   "metadata": {
    "collapsed": false
   },
   "outputs": [],
   "source": [
    "pd.DataFrame(\n",
    "    df.groupby([df.index.hour, df.user_gender]).agg(\n",
    "        simple_agg\n",
    "    ).unstack()\n",
    ").to_csv(\"/Users/JasonLiu/Desktop/hour_fp_gender.csv\")\n",
    "\n",
    "pd.DataFrame(\n",
    "    df.groupby([df.index.hour]).agg(\n",
    "        simple_agg\n",
    "    )# .unstack()\n",
    ").to_csv(\"/Users/JasonLiu/Desktop/hour_fp.csv\")\n",
    "\n",
    "pd.DataFrame(\n",
    "    df.groupby([df.index.day, df.user_gender]).agg(\n",
    "        simple_agg\n",
    "    ).unstack()\n",
    ").to_csv(\"/Users/JasonLiu/Desktop/day_fp_gender.csv\")\n",
    "\n",
    "pd.DataFrame(\n",
    "    df.groupby([df.index.hour]).agg(\n",
    "        simple_agg\n",
    "    )# .unstack()\n",
    ").to_csv(\"/Users/JasonLiu/Desktop/hour_fp.csv\")\n",
    "\n",
    "pd.DataFrame(\n",
    "    df.groupby([df.index.day, df.index.hour, df.user_gender]).agg(\n",
    "        simple_agg\n",
    "    ).unstack()\n",
    ").to_csv(\"/Users/JasonLiu/Desktop/dayhour_fp_gender.csv\")\n",
    "\n",
    "pd.DataFrame(\n",
    "    df.groupby([df.index.day, df.index.hour]).agg(\n",
    "        simple_agg\n",
    "    )# .unstack()\n",
    ").to_csv(\"/Users/JasonLiu/Desktop/dayhour_fp.csv\")"
   ]
  },
  {
   "cell_type": "code",
   "execution_count": 25,
   "metadata": {
    "collapsed": false
   },
   "outputs": [],
   "source": [
    "simple_agg = {\n",
    "            \"casual\":{\n",
    "                \"proportion\": \"mean\",\n",
    "                \"error_95\": centered_95int,\n",
    "                \"total_tweets\": \"count\",\n",
    "            },\n",
    "            \"looking\":{\n",
    "                \"proportion\": \"mean\",\n",
    "                \"error_95\": centered_95int,\n",
    "                \"total_tweets\": \"count\",\n",
    "            },\n",
    "            \"reflecting\":{\n",
    "                \"proportion\": \"mean\",\n",
    "                \"error_95\": centered_95int,\n",
    "                \"total_tweets\": \"count\",\n",
    "            }\n",
    "        }"
   ]
  },
  {
   "cell_type": "code",
   "execution_count": 82,
   "metadata": {
    "collapsed": false
   },
   "outputs": [],
   "source": [
    "pd.DataFrame(\n",
    "    df.groupby([df.index.hour, df.user_gender]).agg(\n",
    "        simple_agg\n",
    "    ).unstack()\n",
    ").to_csv(\"/Users/JasonLiu/Desktop/hour_fpl_gender.csv\")\n",
    "\n",
    "pd.DataFrame(\n",
    "    df.groupby([df.index.hour]).agg(\n",
    "        simple_agg\n",
    "    )# .unstack()\n",
    ").to_csv(\"/Users/JasonLiu/Desktop/hour_fpl.csv\")\n",
    "\n",
    "pd.DataFrame(\n",
    "    df.groupby([df.index.dayofweek, df.user_gender]).agg(\n",
    "        simple_agg\n",
    "    ).unstack()\n",
    ").to_csv(\"/Users/JasonLiu/Desktop/day_fpl_gender.csv\")\n",
    "\n",
    "pd.DataFrame(\n",
    "    df.groupby([df.index.dayofweek]).agg(\n",
    "        simple_agg\n",
    "    )# .unstack()\n",
    ").to_csv(\"/Users/JasonLiu/Desktop/hour_fpl.csv\")\n",
    "\n",
    "pd.DataFrame(\n",
    "    df.groupby([df.index.dayofweek, df.index.hour, df.user_gender]).agg(\n",
    "        simple_agg\n",
    "    ).unstack()\n",
    ").to_csv(\"/Users/JasonLiu/Desktop/dayhour_fpl_gender.csv\")\n",
    "\n",
    "pd.DataFrame(\n",
    "    df.groupby([df.index.dayofweek, df.index.hour]).agg(\n",
    "        simple_agg\n",
    "    )# .unstack()\n",
    ").to_csv(\"/Users/JasonLiu/Desktop/dayhour_fpl.csv\")"
   ]
  },
  {
   "cell_type": "code",
   "execution_count": 114,
   "metadata": {
    "collapsed": false
   },
   "outputs": [],
   "source": [
    "df.groupby([df.index.dayofweek]).agg({\n",
    "        \"first_person_alcohol\":{\"first_person_alcohol\":\"sum\", \"everything\": np.size}\n",
    "    }).first_person_alcohol.to_csv(\"/Users/JasonLiu/Desktop/counts_day_everything_V_fp\")"
   ]
  },
  {
   "cell_type": "code",
   "execution_count": 115,
   "metadata": {
    "collapsed": false
   },
   "outputs": [],
   "source": [
    "df.groupby([df.index.hour]).agg({\n",
    "        \"first_person_alcohol\":{\"first_person_alcohol\":\"sum\", \"everything\": np.size}\n",
    "    }).first_person_alcohol.to_csv(\"/Users/JasonLiu/Desktop/counts_hour_everything_V_fp\")"
   ]
  },
  {
   "cell_type": "code",
   "execution_count": 116,
   "metadata": {
    "collapsed": true
   },
   "outputs": [],
   "source": [
    "df.groupby([df.index.dayofweek, df.index.hour]).agg({\n",
    "        \"first_person_alcohol\":{\"first_person_alcohol\":\"sum\", \"everything\": np.size}\n",
    "    }).first_person_alcohol.to_csv(\"/Users/JasonLiu/Desktop/counts_dayhour_everything_V_fp\")"
   ]
  },
  {
   "cell_type": "code",
   "execution_count": null,
   "metadata": {
    "collapsed": true
   },
   "outputs": [],
   "source": [
    "pd.DataFrame(\n",
    "    df.groupby([df.index.hour]).agg(\n",
    "        simple_agg\n",
    "    ).unstack()\n",
    ")#.to_csv(\"/Users/JasonLiu/Desktop/hour_fpl_gender.csv\")\n",
    "\n",
    "pd.DataFrame(\n",
    "    df.groupby([df.index.hour]).agg(\n",
    "        simple_agg\n",
    "    )# .unstack()\n",
    ").to_csv(\"/Users/JasonLiu/Desktop/hour_fpl.csv\")\n",
    "\n",
    "pd.DataFrame(\n",
    "    df.groupby([df.index.dayofweek, df.user_gender]).agg(\n",
    "        simple_agg\n",
    "    ).unstack()\n",
    ").to_csv(\"/Users/JasonLiu/Desktop/day_fpl_gender.csv\")\n",
    "\n",
    "pd.DataFrame(\n",
    "    df.groupby([df.index.dayofweek]).agg(\n",
    "        simple_agg\n",
    "    )# .unstack()\n",
    ").to_csv(\"/Users/JasonLiu/Desktop/hour_fpl.csv\")\n",
    "\n",
    "pd.DataFrame(\n",
    "    df.groupby([df.index.dayofweek, df.index.hour, df.user_gender]).agg(\n",
    "        simple_agg\n",
    "    ).unstack()\n",
    ").to_csv(\"/Users/JasonLiu/Desktop/dayhour_fpl_gender.csv\")\n",
    "\n",
    "pd.DataFrame(\n",
    "    df.groupby([df.index.dayofweek, df.index.hour]).agg(\n",
    "        simple_agg\n",
    "    )# .unstack()\n",
    ").to_csv(\"/Users/JasonLiu/Desktop/dayhour_fpl.csv\")"
   ]
  }
 ],
 "metadata": {
  "kernelspec": {
   "display_name": "Python 3",
   "language": "python",
   "name": "python3"
  },
  "language_info": {
   "codemirror_mode": {
    "name": "ipython",
    "version": 3
   },
   "file_extension": ".py",
   "mimetype": "text/x-python",
   "name": "python",
   "nbconvert_exporter": "python",
   "pygments_lexer": "ipython3",
   "version": "3.4.1"
  }
 },
 "nbformat": 4,
 "nbformat_minor": 0
}
