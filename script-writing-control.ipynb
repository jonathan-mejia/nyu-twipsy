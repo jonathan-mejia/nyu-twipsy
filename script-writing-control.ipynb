{
 "cells": [
  {
   "cell_type": "markdown",
   "metadata": {},
   "source": [
    "# Writing Control to new collection"
   ]
  },
  {
   "cell_type": "code",
   "execution_count": 8,
   "metadata": {
    "collapsed": true
   },
   "outputs": [],
   "source": [
    "from config import db2\n",
    "from json import loads"
   ]
  },
  {
   "cell_type": "code",
   "execution_count": 9,
   "metadata": {
    "collapsed": true
   },
   "outputs": [],
   "source": [
    "def clean(obj):\n",
    "    \"\"\"\n",
    "    removes the keys with $ and adds the predict key\n",
    "    \"\"\"\n",
    "    obj[\"_id\"] = obj[\"_id\"][\"$oid\"]\n",
    "    del obj[\"timestamp\"]\n",
    "    return obj\n",
    "\n",
    "\n",
    "def data_iter():\n",
    "    with open(\"/Users/JasonLiu/Downloads/control-dump.json\") as f:\n",
    "        for line in f:\n",
    "            obj = clean(loads(line))\n",
    "            yield obj\n",
    "            \n",
    "def grouped(iterable, n):\n",
    "    \"\"\"\n",
    "    Make an iterator of elements partitioned by the n\n",
    "    :param iterable:\n",
    "    :param n:\n",
    "    \"\"\"\n",
    "    batch_window = [None for _ in range(n)]\n",
    "    cur_size = 0\n",
    "    for item in iterable:\n",
    "        batch_window[cur_size] = item\n",
    "        cur_size += 1\n",
    "        if cur_size >= n:\n",
    "            batched = batch_window[:]\n",
    "            batch_window = [None for _ in range(n)]\n",
    "            cur_size = 0\n",
    "            yield batched"
   ]
  },
  {
   "cell_type": "code",
   "execution_count": 10,
   "metadata": {
    "collapsed": true
   },
   "outputs": [],
   "source": [
    "from itpy import Itpy"
   ]
  },
  {
   "cell_type": "code",
   "execution_count": 12,
   "metadata": {
    "collapsed": false
   },
   "outputs": [
    {
     "name": "stdout",
     "output_type": "stream",
     "text": [
      "CPU times: user 1min 18s, sys: 1min 28s, total: 2min 46s\n",
      "Wall time: 3min 12s\n"
     ]
    }
   ],
   "source": [
    "%%time\n",
    "x = Itpy(data_iter()).filter(lambda _: _[\"random_number\"] < 0.01)._"
   ]
  },
  {
   "cell_type": "code",
   "execution_count": 18,
   "metadata": {
    "collapsed": false
   },
   "outputs": [],
   "source": [
    "for i in grouped(x[108000:], 5000):\n",
    "    db2.insert_many(i)"
   ]
  },
  {
   "cell_type": "code",
   "execution_count": 19,
   "metadata": {
    "collapsed": false
   },
   "outputs": [
    {
     "data": {
      "text/plain": [
       "183000"
      ]
     },
     "execution_count": 19,
     "metadata": {},
     "output_type": "execute_result"
    }
   ],
   "source": [
    "db2.count()"
   ]
  },
  {
   "cell_type": "code",
   "execution_count": null,
   "metadata": {
    "collapsed": true
   },
   "outputs": [],
   "source": []
  }
 ],
 "metadata": {
  "kernelspec": {
   "display_name": "Python 3",
   "language": "python",
   "name": "python3"
  },
  "language_info": {
   "codemirror_mode": {
    "name": "ipython",
    "version": 3
   },
   "file_extension": ".py",
   "mimetype": "text/x-python",
   "name": "python",
   "nbconvert_exporter": "python",
   "pygments_lexer": "ipython3",
   "version": "3.4.1"
  }
 },
 "nbformat": 4,
 "nbformat_minor": 0
}
