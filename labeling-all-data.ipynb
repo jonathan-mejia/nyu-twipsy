{
 "cells": [
  {
   "cell_type": "markdown",
   "metadata": {},
   "source": [
    "# Labeling all data"
   ]
  },
  {
   "cell_type": "code",
   "execution_count": 1,
   "metadata": {
    "collapsed": false
   },
   "outputs": [],
   "source": [
    "import pandas as pd"
   ]
  },
  {
   "cell_type": "markdown",
   "metadata": {},
   "source": [
    "### Loading and running all classifiers"
   ]
  },
  {
   "cell_type": "code",
   "execution_count": 2,
   "metadata": {
    "collapsed": true
   },
   "outputs": [],
   "source": [
    "from __private import fs"
   ]
  },
  {
   "cell_type": "code",
   "execution_count": 3,
   "metadata": {
    "collapsed": false
   },
   "outputs": [
    {
     "name": "stdout",
     "output_type": "stream",
     "text": [
      "alcohol|accuracy:0.8143360752056404|f1:0.8192219679633866|type:LogisticRegression\n",
      "alcohol|accuracy:0.8401880141010576|f1:0.8498896247240618|type:SVC\n",
      "alcohol|accuracy:0.8425381903642774|f1:0.8562231759656651|type:RandomForestClassifier\n",
      "first_person_label|accuracy:0.5637860082304527|f1:0.5574430033343769|type:SVC\n",
      "first_person_label|accuracy:0.5637860082304527|f1:0.5643693591852614|type:LogisticRegression\n",
      "first_person|accuracy:0.6951871657754011|f1:0.8034482758620688|type:RandomForestClassifier\n",
      "first_person|accuracy:0.7005347593582888|f1:0.7751004016064257|type:LogisticRegression\n",
      "first_person|accuracy:0.7032085561497327|f1:0.8062827225130889|type:RandomForestClassifier\n",
      "first_person|accuracy:0.7112299465240641|f1:0.8021978021978021|type:SVC\n"
     ]
    }
   ],
   "source": [
    "print(*fs.list(), sep=\"\\n\")"
   ]
  },
  {
   "cell_type": "code",
   "execution_count": 4,
   "metadata": {
    "collapsed": true
   },
   "outputs": [],
   "source": [
    "from classification import dao"
   ]
  },
  {
   "cell_type": "code",
   "execution_count": 5,
   "metadata": {
    "collapsed": false
   },
   "outputs": [
    {
     "name": "stdout",
     "output_type": "stream",
     "text": [
      "CPU times: user 12.5 s, sys: 29.2 s, total: 41.7 s\n",
      "Wall time: 1min 14s\n"
     ]
    }
   ],
   "source": [
    "%%time\n",
    "alcohol_classifier = dao.ClassifierAccess.get_byfile(\n",
    "    \"alcohol|accuracy:0.8143360752056404|f1:0.8192219679633866|type:LogisticRegression\"\n",
    ")\n",
    "\n",
    "firstperson_classifier = dao.ClassifierAccess.get_byfile(\n",
    "    \"first_person|accuracy:0.7112299465240641|f1:0.8021978021978021|type:SVC\"\n",
    ")\n",
    "\n",
    "firstpersonlevel_classifier = dao.ClassifierAccess.get_byfile(\n",
    "    \"first_person_label|accuracy:0.5637860082304527|f1:0.5643693591852614|type:LogisticRegression\"\n",
    ")"
   ]
  },
  {
   "cell_type": "code",
   "execution_count": 6,
   "metadata": {
    "collapsed": true
   },
   "outputs": [],
   "source": [
    "from data import DataAccess, LabelGetter"
   ]
  },
  {
   "cell_type": "code",
   "execution_count": null,
   "metadata": {
    "collapsed": false
   },
   "outputs": [],
   "source": [
    "X = DataAccess.get_as_dataframe()\n",
    "L = LabelGetter(X)"
   ]
  },
  {
   "cell_type": "code",
   "execution_count": null,
   "metadata": {
    "collapsed": false
   },
   "outputs": [],
   "source": [
    "%%time\n",
    "firstpersonlevel_classifier.fit(*L.get_first_person_label())"
   ]
  },
  {
   "cell_type": "code",
   "execution_count": null,
   "metadata": {
    "collapsed": false
   },
   "outputs": [],
   "source": [
    "%%time\n",
    "firstperson_classifier.fit(*L.get_first_person())"
   ]
  },
  {
   "cell_type": "code",
   "execution_count": null,
   "metadata": {
    "collapsed": false
   },
   "outputs": [],
   "source": [
    "del X\n",
    "del L"
   ]
  },
  {
   "cell_type": "markdown",
   "metadata": {},
   "source": [
    "# Example"
   ]
  },
  {
   "cell_type": "code",
   "execution_count": null,
   "metadata": {
    "collapsed": false
   },
   "outputs": [],
   "source": [
    "%%time\n",
    "\n",
    "from_path = \"/Users/JasonLiu/dump/\"\n",
    "to_path = \"/Users/JasonLiu/dump/predicted/\"\n",
    "\n",
    "def to_predict(x):\n",
    "    i, file = x\n",
    "    df = pd.read_csv(from_path + file).dropna()\n",
    "\n",
    "    alcohol_predictions = alcohol_classifier.predict_proba(df[[\"text\"]])[:,1]\n",
    "    df[\"prediction_alcohol_svc\"] = alcohol_predictions\n",
    "\n",
    "    filter_alcohol = df[\"prediction_alcohol_svc\"] > .75\n",
    "\n",
    "    df[\"prediction_firstperson_svc\"] = 0\n",
    "    df.loc[filter_alcohol, \"prediction_firstperson_svc\"] = firstperson_classifier.predict_proba(\n",
    "        df[filter_alcohol][[\"text\"]]\n",
    "    )[:,1]\n",
    "\n",
    "\n",
    "    firstpersonlevel_predictions = firstpersonlevel_classifier.predict_proba(\n",
    "        df[filter_alcohol][[\"text\"]]\n",
    "    )\n",
    "\n",
    "    df_firstpersonlevel_predictions = pd.DataFrame(\n",
    "        firstpersonlevel_predictions, columns=[\n",
    "            \"prediction_firstperson_level_0\", \n",
    "            \"prediction_firstperson_level_2\", \n",
    "            \"prediction_firstperson_level_3\"],\n",
    "        index=df[filter_alcohol].index)\n",
    "\n",
    "    df = df.join(df_firstpersonlevel_predictions).fillna(0)\n",
    "    df[list(range(1,12))].to_csv(to_path + \"predicted_\" + file)\n",
    "    print(i, file)"
   ]
  },
  {
   "cell_type": "code",
   "execution_count": null,
   "metadata": {
    "collapsed": false
   },
   "outputs": [],
   "source": [
    "from os import listdir\n",
    "from multiprocessing import Pool"
   ]
  },
  {
   "cell_type": "code",
   "execution_count": null,
   "metadata": {
    "collapsed": false
   },
   "outputs": [],
   "source": [
    "files = listdir(from_path)"
   ]
  },
  {
   "cell_type": "code",
   "execution_count": null,
   "metadata": {
    "collapsed": false
   },
   "outputs": [],
   "source": [
    "len(files)"
   ]
  },
  {
   "cell_type": "code",
   "execution_count": null,
   "metadata": {
    "collapsed": true
   },
   "outputs": [],
   "source": [
    "p = Pool(5)"
   ]
  },
  {
   "cell_type": "code",
   "execution_count": null,
   "metadata": {
    "collapsed": false
   },
   "outputs": [],
   "source": [
    "%%time\n",
    "x = p.map(to_predict, enumerate(files))"
   ]
  },
  {
   "cell_type": "code",
   "execution_count": null,
   "metadata": {
    "collapsed": true
   },
   "outputs": [],
   "source": []
  }
 ],
 "metadata": {
  "kernelspec": {
   "display_name": "Python 3",
   "language": "python",
   "name": "python3"
  },
  "language_info": {
   "codemirror_mode": {
    "name": "ipython",
    "version": 3
   },
   "file_extension": ".py",
   "mimetype": "text/x-python",
   "name": "python",
   "nbconvert_exporter": "python",
   "pygments_lexer": "ipython3",
   "version": "3.4.1"
  }
 },
 "nbformat": 4,
 "nbformat_minor": 0
}
