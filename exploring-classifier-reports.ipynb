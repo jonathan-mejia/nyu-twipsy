{
 "cells": [
  {
   "cell_type": "code",
   "execution_count": 19,
   "metadata": {
    "collapsed": true
   },
   "outputs": [],
   "source": [
    "from classification.dao import ClassifierAccess\n",
    "\n",
    "from pprint import pprint"
   ]
  },
  {
   "cell_type": "code",
   "execution_count": 28,
   "metadata": {
    "collapsed": false
   },
   "outputs": [
    {
     "data": {
      "text/plain": [
       "[{'_id': ObjectId('55f07131472c0b448b9759d7'),\n",
       "  'level': 'alcohol',\n",
       "  'testing_results': {'accuracy_score': 0.8210909090909091,\n",
       "   'confusion_matrix': [[362, 176], [70, 767]],\n",
       "   'f1_score': 0.8617977528089886},\n",
       "  'training_results': {'accuracy_score': 0.992831541218638,\n",
       "   'confusion_matrix': [[1049, 1], [19, 1721]],\n",
       "   'f1_score': 0.9942229924898902},\n",
       "  'type': 'RandomForestClassifier'},\n",
       " {'_id': ObjectId('55f186ba472c0b4867b5f922'),\n",
       "  'level': 'alcohol',\n",
       "  'testing_results': {'accuracy_score': 0.8109090909090909,\n",
       "   'confusion_matrix': [[331, 207], [53, 784]],\n",
       "   'f1_score': 0.8577680525164115},\n",
       "  'training_results': {'accuracy_score': 0.8706093189964158,\n",
       "   'confusion_matrix': [[753, 297], [64, 1676]],\n",
       "   'f1_score': 0.9027740371667116},\n",
       "  'type': 'SVC'}]"
      ]
     },
     "execution_count": 28,
     "metadata": {},
     "output_type": "execute_result"
    }
   ],
   "source": [
    "ClassifierAccess.get_reports(level=\"alcohol\")[:2]"
   ]
  },
  {
   "cell_type": "code",
   "execution_count": 29,
   "metadata": {
    "collapsed": false
   },
   "outputs": [
    {
     "data": {
      "text/plain": [
       "[{'_id': ObjectId('55f05f6e472c0b444cae3541'),\n",
       "  'level': 'first_person',\n",
       "  'testing_results': {'accuracy_score': 0.6511627906976745,\n",
       "   'confusion_matrix': [[76, 92], [43, 176]],\n",
       "   'f1_score': 0.7227926078028747},\n",
       "  'training_results': {'accuracy_score': 0.9897959183673469,\n",
       "   'confusion_matrix': [[335, 7], [1, 441]],\n",
       "   'f1_score': 0.9910112359550564},\n",
       "  'type': 'LogisticRegression'},\n",
       " {'_id': ObjectId('55f0daa1472c0b47e9a114d7'),\n",
       "  'level': 'first_person',\n",
       "  'testing_results': {'accuracy_score': 0.6537467700258398,\n",
       "   'confusion_matrix': [[81, 87], [47, 172]],\n",
       "   'f1_score': 0.7196652719665273},\n",
       "  'training_results': {'accuracy_score': 0.9553571428571429,\n",
       "   'confusion_matrix': [[311, 31], [4, 438]],\n",
       "   'f1_score': 0.9615806805708013},\n",
       "  'type': 'LinearSVC'}]"
      ]
     },
     "execution_count": 29,
     "metadata": {},
     "output_type": "execute_result"
    }
   ],
   "source": [
    "ClassifierAccess.get_reports(level=\"first_person\")[:2]"
   ]
  },
  {
   "cell_type": "code",
   "execution_count": 9,
   "metadata": {
    "collapsed": false
   },
   "outputs": [
    {
     "data": {
      "text/plain": [
       "[{'_id': ObjectId('55f05f75472c0b444cae3544'),\n",
       "  'level': 'first_person_label',\n",
       "  'testing_results': {'accuracy_score': 0.4611872146118721,\n",
       "   'confusion_matrix': [[28, 18, 11, 1],\n",
       "    [18, 47, 17, 1],\n",
       "    [8, 21, 17, 4],\n",
       "    [2, 9, 8, 9]],\n",
       "   'f1_score': 0.45912544906768454},\n",
       "  'training_results': {'accuracy_score': 1.0,\n",
       "   'confusion_matrix': [[100, 0, 0, 0],\n",
       "    [0, 178, 0, 0],\n",
       "    [0, 0, 115, 0],\n",
       "    [0, 0, 0, 49]],\n",
       "   'f1_score': 1.0},\n",
       "  'type': 'LogisticRegression'},\n",
       " {'_id': ObjectId('55f08d05472c0b4698cb677e'),\n",
       "  'level': 'first_person_label',\n",
       "  'testing_results': {'accuracy_score': 0.4611872146118721,\n",
       "   'confusion_matrix': [[32, 13, 13, 0],\n",
       "    [24, 37, 20, 2],\n",
       "    [10, 12, 24, 4],\n",
       "    [1, 12, 7, 8]],\n",
       "   'f1_score': 0.45906994225522507},\n",
       "  'training_results': {'accuracy_score': 0.9502262443438914,\n",
       "   'confusion_matrix': [[96, 1, 3, 0],\n",
       "    [5, 162, 11, 0],\n",
       "    [0, 2, 113, 0],\n",
       "    [0, 0, 0, 49]],\n",
       "   'f1_score': 0.9503597827274654},\n",
       "  'type': 'SVC'},\n",
       " {'_id': ObjectId('55f0d756472c0b477c43a21d'),\n",
       "  'level': 'first_person_label',\n",
       "  'testing_results': {'accuracy_score': 0.4657534246575342,\n",
       "   'confusion_matrix': [[23, 25, 10, 0],\n",
       "    [16, 52, 13, 2],\n",
       "    [7, 17, 22, 4],\n",
       "    [2, 11, 10, 5]],\n",
       "   'f1_score': 0.45304371264677684},\n",
       "  'training_results': {'accuracy_score': 0.9524886877828054,\n",
       "   'confusion_matrix': [[92, 6, 2, 0],\n",
       "    [3, 175, 0, 0],\n",
       "    [0, 6, 109, 0],\n",
       "    [1, 3, 0, 45]],\n",
       "   'f1_score': 0.9525229104934886},\n",
       "  'type': 'SVC'}]"
      ]
     },
     "execution_count": 9,
     "metadata": {},
     "output_type": "execute_result"
    }
   ],
   "source": [
    "ClassifierAccess.get_reports(level=\"first_person_label\")[:3]"
   ]
  },
  {
   "cell_type": "code",
   "execution_count": null,
   "metadata": {
    "collapsed": true
   },
   "outputs": [],
   "source": []
  }
 ],
 "metadata": {
  "kernelspec": {
   "display_name": "Python 3",
   "language": "python",
   "name": "python3"
  },
  "language_info": {
   "codemirror_mode": {
    "name": "ipython",
    "version": 3
   },
   "file_extension": ".py",
   "mimetype": "text/x-python",
   "name": "python",
   "nbconvert_exporter": "python",
   "pygments_lexer": "ipython3",
   "version": "3.4.1"
  }
 },
 "nbformat": 4,
 "nbformat_minor": 0
}
