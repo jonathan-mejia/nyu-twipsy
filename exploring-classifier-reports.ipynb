{
 "cells": [
  {
   "cell_type": "markdown",
   "metadata": {},
   "source": [
    "# Classifier Reports"
   ]
  },
  {
   "cell_type": "code",
   "execution_count": 1,
   "metadata": {
    "collapsed": false
   },
   "outputs": [],
   "source": [
    "from classification.dao import ClassifierAccess\n",
    "\n",
    "from pprint import pprint"
   ]
  },
  {
   "cell_type": "code",
   "execution_count": 2,
   "metadata": {
    "collapsed": false
   },
   "outputs": [
    {
     "name": "stdout",
     "output_type": "stream",
     "text": [
      "[]\n"
     ]
    }
   ],
   "source": [
    "pprint(ClassifierAccess.get_reports(level=\"alcohol\")[:2], indent=4)"
   ]
  },
  {
   "cell_type": "code",
   "execution_count": 3,
   "metadata": {
    "collapsed": false
   },
   "outputs": [
    {
     "name": "stdout",
     "output_type": "stream",
     "text": [
      "[   {   '_id': ObjectId('56086674472c0b3d5c557fbe'),\n",
      "        'clf': ObjectId('5608666e472c0b3d5c557fb1'),\n",
      "        'level': 'first_person',\n",
      "        'testing_results': {   'accuracy_score': 0.6947637292464879,\n",
      "                               'f1_score': 0.7941429801894918},\n",
      "        'training_results': {   'accuracy_score': 0.8482367758186398,\n",
      "                                'f1_score': 0.8955353272648461},\n",
      "        'type': 'SVC'},\n",
      "    {   '_id': ObjectId('5602e8dd472c0b2198555978'),\n",
      "        'clf': ObjectId('5602e893472c0b219855594d'),\n",
      "        'level': 'first_person',\n",
      "        'testing_results': {   'accuracy_score': 0.6909323116219668,\n",
      "                               'f1_score': 0.7917383820998279},\n",
      "        'training_results': {   'accuracy_score': 0.8646095717884131,\n",
      "                                'f1_score': 0.9063180827886711},\n",
      "        'type': 'SVC'}]\n"
     ]
    }
   ],
   "source": [
    "pprint(ClassifierAccess.get_reports(level=\"first_person\")[:2], indent=4)"
   ]
  },
  {
   "cell_type": "code",
   "execution_count": 4,
   "metadata": {
    "collapsed": false
   },
   "outputs": [
    {
     "name": "stdout",
     "output_type": "stream",
     "text": [
      "[   {   '_id': ObjectId('5602ccdf472c0b203513acf8'),\n",
      "        'clf': ObjectId('5602ccd0472c0b203513ace7'),\n",
      "        'level': 'first_person_label',\n",
      "        'testing_results': {   'accuracy_score': 0.5536062378167641,\n",
      "                               'f1_score': 0.5349297830780407},\n",
      "        'training_results': {   'accuracy_score': 0.775,\n",
      "                                'f1_score': 0.7535046771168127},\n",
      "        'type': 'SVC'},\n",
      "    {   '_id': ObjectId('5602ee07472c0b2197b5519d'),\n",
      "        'clf': ObjectId('5602ed13472c0b2197b54f38'),\n",
      "        'level': 'first_person_label',\n",
      "        'testing_results': {   'accuracy_score': 0.5555555555555556,\n",
      "                               'f1_score': 0.53459052797563},\n",
      "        'training_results': {   'accuracy_score': 0.9009615384615385,\n",
      "                                'f1_score': 0.8807395880253721},\n",
      "        'type': 'RandomForestClassifier'}]\n"
     ]
    }
   ],
   "source": [
    "pprint(ClassifierAccess.get_reports(level=\"first_person_label\")[:2], indent=4)"
   ]
  },
  {
   "cell_type": "markdown",
   "metadata": {},
   "source": [
    "# Checking Naming"
   ]
  },
  {
   "cell_type": "code",
   "execution_count": 5,
   "metadata": {
    "collapsed": true
   },
   "outputs": [],
   "source": [
    "from __private import fs, dbc"
   ]
  },
  {
   "cell_type": "code",
   "execution_count": 6,
   "metadata": {
    "collapsed": false
   },
   "outputs": [
    {
     "data": {
      "text/plain": [
       "['first_person_label|accuracy:0.52046783625731|f1:0.5009187878453114|type:SVC',\n",
       " 'first_person_label|accuracy:0.5243664717348928|f1:0.508797109912656|type:RandomForestClassifier',\n",
       " 'first_person_label|accuracy:0.5321637426900585|f1:0.5265047952844989|type:LogisticRegression',\n",
       " 'first_person_label|accuracy:0.543859649122807|f1:0.5166687798266746|type:SVC',\n",
       " 'first_person_label|accuracy:0.5536062378167641|f1:0.5349297830780407|type:SVC',\n",
       " 'first_person_label|accuracy:0.5555555555555556|f1:0.53459052797563|type:RandomForestClassifier',\n",
       " 'first_person|accuracy:0.665389527458493|f1:0.7816666666666666|type:RandomForestClassifier',\n",
       " 'first_person|accuracy:0.6743295019157088|f1:0.7822374039282664|type:SVC',\n",
       " 'first_person|accuracy:0.6807151979565773|f1:0.7743682310469315|type:RandomForestClassifier',\n",
       " 'first_person|accuracy:0.6909323116219668|f1:0.7917383820998279|type:SVC',\n",
       " 'first_person|accuracy:0.6934865900383141|f1:0.7637795275590552|type:LogisticRegression',\n",
       " 'first_person|accuracy:0.6947637292464879|f1:0.7941429801894918|type:SVC']"
      ]
     },
     "execution_count": 6,
     "metadata": {},
     "output_type": "execute_result"
    }
   ],
   "source": [
    "fs.list()"
   ]
  },
  {
   "cell_type": "code",
   "execution_count": 7,
   "metadata": {
    "collapsed": false
   },
   "outputs": [],
   "source": [
    "clf = ClassifierAccess.get_byfile('first_person|accuracy:0.6947637292464879|f1:0.7941429801894918|type:SVC')"
   ]
  },
  {
   "cell_type": "code",
   "execution_count": 8,
   "metadata": {
    "collapsed": false
   },
   "outputs": [
    {
     "data": {
      "text/plain": [
       "Pipeline(steps=[('exploder', ExplodingRecordJoiner()), ('features', FeatureUnion(n_jobs=1,\n",
       "       transformer_list=[('text', Pipeline(steps=[('getter', ItemGetter(key='text')), ('tfidf', TfidfVectorizer(analyzer='char', binary=False, decode_error='strict',\n",
       "        dtype=<class 'numpy.int64'>, encoding='utf-8...probability=True,\n",
       "  random_state=None, shrinking=True, tol=0.0005682999829678889,\n",
       "  verbose=False))])"
      ]
     },
     "execution_count": 8,
     "metadata": {},
     "output_type": "execute_result"
    }
   ],
   "source": [
    "clf"
   ]
  },
  {
   "cell_type": "markdown",
   "metadata": {},
   "source": [
    "# Rebuilding"
   ]
  },
  {
   "cell_type": "code",
   "execution_count": null,
   "metadata": {
    "collapsed": true
   },
   "outputs": [],
   "source": []
  },
  {
   "cell_type": "code",
   "execution_count": null,
   "metadata": {
    "collapsed": true
   },
   "outputs": [],
   "source": [
    "k"
   ]
  },
  {
   "cell_type": "code",
   "execution_count": 19,
   "metadata": {
    "collapsed": true
   },
   "outputs": [],
   "source": [
    "params = {\n",
    "'clf__C': 2059.7700233137,\n",
    "  'clf__cache_size': 500,\n",
    "  'clf__class_weight': None,\n",
    "  'clf__coef0': 0.9252583807049669,\n",
    "  'clf__degree': 3,\n",
    "  'clf__gamma': 'auto',\n",
    "  'clf__kernel': 'poly',\n",
    "  'clf__probability': True,\n",
    "  'clf__tol': 0.0001233662609959996,\n",
    "  'features__text__tfidf__analyzer': 'char',\n",
    "  'features__text__tfidf__lowercase': False,\n",
    "  'features__text__tfidf__max_features': 86027,\n",
    "  'features__text__tfidf__min_df': 4,\n",
    "  'features__text__tfidf__ngram_range': [2, 5],\n",
    "  'features__text__tfidf__norm': 'l2',\n",
    "  'features__text__tfidf__stop_words': None,\n",
    "  'features__text__tfidf__tokenizer': b'\\x80\\x03N.'}"
   ]
  },
  {
   "cell_type": "code",
   "execution_count": null,
   "metadata": {
    "collapsed": true
   },
   "outputs": [],
   "source": []
  }
 ],
 "metadata": {
  "kernelspec": {
   "display_name": "Python 3",
   "language": "python",
   "name": "python3"
  },
  "language_info": {
   "codemirror_mode": {
    "name": "ipython",
    "version": 3
   },
   "file_extension": ".py",
   "mimetype": "text/x-python",
   "name": "python",
   "nbconvert_exporter": "python",
   "pygments_lexer": "ipython3",
   "version": "3.4.1"
  }
 },
 "nbformat": 4,
 "nbformat_minor": 0
}
