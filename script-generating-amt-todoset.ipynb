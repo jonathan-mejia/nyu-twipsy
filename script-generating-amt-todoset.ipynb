{
 "cells": [
  {
   "cell_type": "markdown",
   "metadata": {},
   "source": [
    "# Amazon Mechanical Turk\n",
    "\n",
    "The role of this script is to generate the data in a format that we can use to label on Mechanical Turk\n",
    "\n",
    "1. Generate the next batch\n",
    "2. Read the batch and write it to MongoDB"
   ]
  },
  {
   "cell_type": "code",
   "execution_count": 11,
   "metadata": {
    "collapsed": false
   },
   "outputs": [],
   "source": [
    "from data.dao import DataAccess, LabelGetter\n",
    "from data.turk import TurkResults2Label\n",
    "\n",
    "import pandas as pd\n",
    "import datetime\n",
    "import re\n",
    "import pickle\n",
    "\n",
    "%matplotlib inline"
   ]
  },
  {
   "cell_type": "markdown",
   "metadata": {},
   "source": [
    "Getting the data from DataAccess is so easy!"
   ]
  },
  {
   "cell_type": "code",
   "execution_count": 3,
   "metadata": {
    "collapsed": false
   },
   "outputs": [
    {
     "data": {
      "text/html": [
       "<div>\n",
       "<table border=\"1\" class=\"dataframe\">\n",
       "  <thead>\n",
       "    <tr style=\"text-align: right;\">\n",
       "      <th></th>\n",
       "      <th>predict</th>\n",
       "      <th>random_number</th>\n",
       "      <th>text</th>\n",
       "    </tr>\n",
       "    <tr>\n",
       "      <th>_id</th>\n",
       "      <th></th>\n",
       "      <th></th>\n",
       "      <th></th>\n",
       "    </tr>\n",
       "  </thead>\n",
       "  <tbody>\n",
       "    <tr>\n",
       "      <th>556e8debd6dfbb3061976b0e</th>\n",
       "      <td>0.215714</td>\n",
       "      <td>0.004196</td>\n",
       "      <td>My #TeenChoice nominee for #ChoiceMaleWebStar ...</td>\n",
       "    </tr>\n",
       "    <tr>\n",
       "      <th>5575d384d6dfbb66f9dac606</th>\n",
       "      <td>0.194029</td>\n",
       "      <td>0.004235</td>\n",
       "      <td>#TweetMyJobs #Accounting #Job alert: Senior Ac...</td>\n",
       "    </tr>\n",
       "    <tr>\n",
       "      <th>5572131ed6dfbb33bf90487d</th>\n",
       "      <td>0.338928</td>\n",
       "      <td>0.004239</td>\n",
       "      <td>Never imagined myself saying this 3 years ago,...</td>\n",
       "    </tr>\n",
       "    <tr>\n",
       "      <th>5572b598d6dfbb719b60fb40</th>\n",
       "      <td>0.411088</td>\n",
       "      <td>0.004250</td>\n",
       "      <td>Who made me drink &amp;amp; why?</td>\n",
       "    </tr>\n",
       "    <tr>\n",
       "      <th>557849c1d6dfbb56c0b31675</th>\n",
       "      <td>0.258357</td>\n",
       "      <td>0.004261</td>\n",
       "      <td>.@BilldeBlasio Opposes Linking Tax Credit, Ren...</td>\n",
       "    </tr>\n",
       "    <tr>\n",
       "      <th>556e8bb8d6dfbb3061975383</th>\n",
       "      <td>0.259052</td>\n",
       "      <td>0.004263</td>\n",
       "      <td>It's #Respect your #Pastor day! #JustSaying #C...</td>\n",
       "    </tr>\n",
       "    <tr>\n",
       "      <th>5579265cd6dfbb580caa73ab</th>\n",
       "      <td>0.742219</td>\n",
       "      <td>0.004269</td>\n",
       "      <td>It's two am. I'm drunk</td>\n",
       "    </tr>\n",
       "    <tr>\n",
       "      <th>5573412ad6dfbb44a9f12ebf</th>\n",
       "      <td>0.354181</td>\n",
       "      <td>0.004277</td>\n",
       "      <td>When you have a girl that's the female version...</td>\n",
       "    </tr>\n",
       "    <tr>\n",
       "      <th>5573c132d6dfbb512f14b0b3</th>\n",
       "      <td>0.433273</td>\n",
       "      <td>0.004283</td>\n",
       "      <td>@POTUS  WHICH I AM USING FOR MY COMPUTER AND A...</td>\n",
       "    </tr>\n",
       "    <tr>\n",
       "      <th>5577b057d6dfbb5cd25a64db</th>\n",
       "      <td>0.366910</td>\n",
       "      <td>0.004285</td>\n",
       "      <td>Bringin back. This some hype! #KingJames #Dell...</td>\n",
       "    </tr>\n",
       "  </tbody>\n",
       "</table>\n",
       "</div>"
      ],
      "text/plain": [
       "                           predict  random_number  \\\n",
       "_id                                                 \n",
       "556e8debd6dfbb3061976b0e  0.215714       0.004196   \n",
       "5575d384d6dfbb66f9dac606  0.194029       0.004235   \n",
       "5572131ed6dfbb33bf90487d  0.338928       0.004239   \n",
       "5572b598d6dfbb719b60fb40  0.411088       0.004250   \n",
       "557849c1d6dfbb56c0b31675  0.258357       0.004261   \n",
       "556e8bb8d6dfbb3061975383  0.259052       0.004263   \n",
       "5579265cd6dfbb580caa73ab  0.742219       0.004269   \n",
       "5573412ad6dfbb44a9f12ebf  0.354181       0.004277   \n",
       "5573c132d6dfbb512f14b0b3  0.433273       0.004283   \n",
       "5577b057d6dfbb5cd25a64db  0.366910       0.004285   \n",
       "\n",
       "                                                                       text  \n",
       "_id                                                                          \n",
       "556e8debd6dfbb3061976b0e  My #TeenChoice nominee for #ChoiceMaleWebStar ...  \n",
       "5575d384d6dfbb66f9dac606  #TweetMyJobs #Accounting #Job alert: Senior Ac...  \n",
       "5572131ed6dfbb33bf90487d  Never imagined myself saying this 3 years ago,...  \n",
       "5572b598d6dfbb719b60fb40                       Who made me drink &amp; why?  \n",
       "557849c1d6dfbb56c0b31675  .@BilldeBlasio Opposes Linking Tax Credit, Ren...  \n",
       "556e8bb8d6dfbb3061975383  It's #Respect your #Pastor day! #JustSaying #C...  \n",
       "5579265cd6dfbb580caa73ab                             It's two am. I'm drunk  \n",
       "5573412ad6dfbb44a9f12ebf  When you have a girl that's the female version...  \n",
       "5573c132d6dfbb512f14b0b3  @POTUS  WHICH I AM USING FOR MY COMPUTER AND A...  \n",
       "5577b057d6dfbb5cd25a64db  Bringin back. This some hype! #KingJames #Dell...  "
      ]
     },
     "execution_count": 3,
     "metadata": {},
     "output_type": "execute_result"
    }
   ],
   "source": [
    "X = DataAccess.get_not_labeled().sort(\"random_number\")\n",
    "X.head(10)"
   ]
  },
  {
   "cell_type": "markdown",
   "metadata": {},
   "source": [
    "# Preprocessing"
   ]
  },
  {
   "cell_type": "code",
   "execution_count": 4,
   "metadata": {
    "collapsed": true
   },
   "outputs": [],
   "source": [
    "from __private import fs"
   ]
  },
  {
   "cell_type": "code",
   "execution_count": 5,
   "metadata": {
    "collapsed": false
   },
   "outputs": [
    {
     "data": {
      "text/plain": [
       "['first_person_label|accuracy:0.5243664717348928|f1:0.508797109912656|type:RandomForestClassifier',\n",
       " 'first_person_label|accuracy:0.5321637426900585|f1:0.5265047952844989|type:LogisticRegression',\n",
       " 'first_person_label|accuracy:0.543859649122807|f1:0.5166687798266746|type:SVC',\n",
       " 'first_person_label|accuracy:0.5536062378167641|f1:0.5349297830780407|type:SVC',\n",
       " 'first_person_label|accuracy:0.5555555555555556|f1:0.53459052797563|type:RandomForestClassifier',\n",
       " 'first_person|accuracy:0.665389527458493|f1:0.7816666666666666|type:RandomForestClassifier',\n",
       " 'first_person|accuracy:0.6743295019157088|f1:0.7822374039282664|type:SVC',\n",
       " 'first_person|accuracy:0.6807151979565773|f1:0.7743682310469315|type:RandomForestClassifier',\n",
       " 'first_person|accuracy:0.6909323116219668|f1:0.7917383820998279|type:SVC',\n",
       " 'first_person|accuracy:0.6934865900383141|f1:0.7637795275590552|type:LogisticRegression']"
      ]
     },
     "execution_count": 5,
     "metadata": {},
     "output_type": "execute_result"
    }
   ],
   "source": [
    "fs.list()"
   ]
  },
  {
   "cell_type": "code",
   "execution_count": 6,
   "metadata": {
    "collapsed": true
   },
   "outputs": [],
   "source": [
    "best_clf = fs.find_one({\"filename\":\"first_person|accuracy:0.6909323116219668|f1:0.7917383820998279|type:SVC\"})"
   ]
  },
  {
   "cell_type": "code",
   "execution_count": 10,
   "metadata": {
    "collapsed": false
   },
   "outputs": [],
   "source": [
    "clf_str = best_clf.read()\n",
    "clf = pickle.loads(clf_str)"
   ]
  },
  {
   "cell_type": "code",
   "execution_count": 34,
   "metadata": {
    "collapsed": true
   },
   "outputs": [],
   "source": [
    "XX = X.head(10000)"
   ]
  },
  {
   "cell_type": "code",
   "execution_count": 35,
   "metadata": {
    "collapsed": false
   },
   "outputs": [],
   "source": [
    "first_person_labels = clf.predict_proba(XX)[:,1]"
   ]
  },
  {
   "cell_type": "code",
   "execution_count": 36,
   "metadata": {
    "collapsed": false
   },
   "outputs": [
    {
     "name": "stderr",
     "output_type": "stream",
     "text": [
      "/Library/Frameworks/Python.framework/Versions/3.4/lib/python3.4/site-packages/IPython/kernel/__main__.py:1: SettingWithCopyWarning: \n",
      "A value is trying to be set on a copy of a slice from a DataFrame.\n",
      "Try using .loc[row_indexer,col_indexer] = value instead\n",
      "\n",
      "See the the caveats in the documentation: http://pandas.pydata.org/pandas-docs/stable/indexing.html#indexing-view-versus-copy\n",
      "  if __name__ == '__main__':\n"
     ]
    }
   ],
   "source": [
    "XX[\"predicted_fp\"] = first_person_labels"
   ]
  },
  {
   "cell_type": "code",
   "execution_count": 55,
   "metadata": {
    "collapsed": false
   },
   "outputs": [],
   "source": [
    "X = XX[(XX.predicted_fp > 0.3) & (XX.predict > 0.3) & ~(XX.text.str.contains(\"Drinking a\"))]"
   ]
  },
  {
   "cell_type": "markdown",
   "metadata": {},
   "source": [
    "# Generating..."
   ]
  },
  {
   "cell_type": "code",
   "execution_count": 56,
   "metadata": {
    "collapsed": true
   },
   "outputs": [],
   "source": [
    "date = str(datetime.date.today())\n",
    "candidate = X.sort(\"random_number\").head(500)\n",
    "key = candidate.random_number.apply(hash).sum()"
   ]
  },
  {
   "cell_type": "code",
   "execution_count": 57,
   "metadata": {
    "collapsed": false
   },
   "outputs": [],
   "source": [
    "candidate[\"text\"] = candidate.text.str.encode(\"utf-8\")"
   ]
  },
  {
   "cell_type": "code",
   "execution_count": 58,
   "metadata": {
    "collapsed": false
   },
   "outputs": [],
   "source": [
    "candidate[[\"text\", \"random_number\"]].to_csv(\n",
    "    \"../amt/amt|{}|{}.csv\".format(date, key),\n",
    ")"
   ]
  },
  {
   "cell_type": "code",
   "execution_count": 59,
   "metadata": {
    "collapsed": false
   },
   "outputs": [
    {
     "name": "stdout",
     "output_type": "stream",
     "text": [
      "Batch_2055156_batch_results.csv\n",
      "Batch_2064123_batch_results.csv\n",
      "Batch_2064125_batch_results.csv\n",
      "amt_2015-08-13_4952308500878643456.csv\n",
      "amt_2015-08-17_2546340314496401664.csv\n",
      "amt_2015-08-20_8806137010034599936.csv\n",
      "amt_2015-09-10_6072541214091395328.csv\n",
      "amt|2015-09-10|6072541214091395328.csv\n",
      "amt|2015-09-24|-7976654553505407232.csv\n"
     ]
    }
   ],
   "source": [
    "%%bash\n",
    "\n",
    "ls ../amt/"
   ]
  },
  {
   "cell_type": "code",
   "execution_count": null,
   "metadata": {
    "collapsed": true
   },
   "outputs": [],
   "source": []
  },
  {
   "cell_type": "markdown",
   "metadata": {},
   "source": [
    "# Parsing to Label"
   ]
  },
  {
   "cell_type": "markdown",
   "metadata": {},
   "source": [
    "#### New Labels\n",
    "\n",
    "Straight from Amazon Mechanical Turk"
   ]
  },
  {
   "cell_type": "code",
   "execution_count": 24,
   "metadata": {
    "collapsed": false
   },
   "outputs": [
    {
     "data": {
      "text/plain": [
       "Not Alcohol Related                               0.390244\n",
       "First Person - Alcohol::Looking to drink          0.125508\n",
       "First Person - Alcohol::Casual Drinking           0.116362\n",
       "Alcohol Related::Discussion                       0.114837\n",
       "First Person - Alcohol::Reflecting on drinking    0.113821\n",
       "First Person - Alcohol::Heavy Drinking            0.097561\n",
       "Alcohol Related::Promotional Content              0.041667\n",
       "dtype: float64"
      ]
     },
     "execution_count": 24,
     "metadata": {},
     "output_type": "execute_result"
    }
   ],
   "source": [
    "df = pd.concat([pd.DataFrame.from_csv(\"../amt/Batch_2064125_batch_results.csv\"),\n",
    "      pd.DataFrame.from_csv(\"../amt/Batch_2064123_batch_results.csv\")]).set_index(\"_id\")\n",
    "df = df[df.Worker != \"A3EBA6G9AG7CO9\"]\n",
    "\n",
    "df.Answer.value_counts() / df.Answer.value_counts().sum()"
   ]
  },
  {
   "cell_type": "markdown",
   "metadata": {},
   "source": [
    "#### Writing Labels using TurkResults2Label"
   ]
  },
  {
   "cell_type": "code",
   "execution_count": 25,
   "metadata": {
    "collapsed": false
   },
   "outputs": [
    {
     "name": "stdout",
     "output_type": "stream",
     "text": [
      "CPU times: user 1.71 s, sys: 478 ms, total: 2.19 s\n",
      "Wall time: 1min 16s\n"
     ]
    }
   ],
   "source": [
    "%%time\n",
    "DataAccess.write_labels(df.Answer.apply(TurkResults2Label.parse_to_labels))"
   ]
  },
  {
   "cell_type": "code",
   "execution_count": null,
   "metadata": {
    "collapsed": true
   },
   "outputs": [],
   "source": []
  }
 ],
 "metadata": {
  "kernelspec": {
   "display_name": "Python 3",
   "language": "python",
   "name": "python3"
  },
  "language_info": {
   "codemirror_mode": {
    "name": "ipython",
    "version": 3
   },
   "file_extension": ".py",
   "mimetype": "text/x-python",
   "name": "python",
   "nbconvert_exporter": "python",
   "pygments_lexer": "ipython3",
   "version": "3.4.1"
  }
 },
 "nbformat": 4,
 "nbformat_minor": 0
}
