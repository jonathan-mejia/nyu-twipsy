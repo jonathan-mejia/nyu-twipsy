{
 "cells": [
  {
   "cell_type": "markdown",
   "metadata": {},
   "source": [
    "# Amazon Mechanical Turk\n",
    "\n",
    "The role of this script is to generate the data in a format that we can use to label on Mechanical Turk\n",
    "\n",
    "1. Generate the next batch\n",
    "2. Read the batch and write it to MongoDB"
   ]
  },
  {
   "cell_type": "code",
   "execution_count": 1,
   "metadata": {
    "collapsed": false
   },
   "outputs": [],
   "source": [
    "from data.dao import DataAccess, LabelGetter\n",
    "from data.turk import TurkResults2Label\n",
    "\n",
    "import pandas as pd\n",
    "import datetime\n",
    "import re\n",
    "import pickle\n",
    "import numpy\n",
    "\n",
    "%matplotlib inline"
   ]
  },
  {
   "cell_type": "markdown",
   "metadata": {},
   "source": [
    "Getting the data from DataAccess is so easy!"
   ]
  },
  {
   "cell_type": "code",
   "execution_count": 2,
   "metadata": {
    "collapsed": false
   },
   "outputs": [
    {
     "name": "stdout",
     "output_type": "stream",
     "text": [
      "CPU times: user 1.37 s, sys: 1.38 s, total: 2.75 s\n",
      "Wall time: 12.9 s\n"
     ]
    }
   ],
   "source": [
    "%%time\n",
    "\n",
    "X = DataAccess.get_not_labeled().sort(\"random_number\")\n",
    "X.head(10)"
   ]
  },
  {
   "cell_type": "code",
   "execution_count": 3,
   "metadata": {
    "collapsed": false
   },
   "outputs": [
    {
     "data": {
      "text/html": [
       "<div>\n",
       "<table border=\"1\" class=\"dataframe\">\n",
       "  <thead>\n",
       "    <tr style=\"text-align: right;\">\n",
       "      <th></th>\n",
       "      <th>control</th>\n",
       "      <th>predict</th>\n",
       "      <th>random_number</th>\n",
       "      <th>text</th>\n",
       "    </tr>\n",
       "    <tr>\n",
       "      <th>_id</th>\n",
       "      <th></th>\n",
       "      <th></th>\n",
       "      <th></th>\n",
       "      <th></th>\n",
       "    </tr>\n",
       "  </thead>\n",
       "  <tbody>\n",
       "    <tr>\n",
       "      <th>556e8debd6dfbb3061976b0e</th>\n",
       "      <td>NaN</td>\n",
       "      <td>0.215714</td>\n",
       "      <td>0.004196</td>\n",
       "      <td>My #TeenChoice nominee for #ChoiceMaleWebStar ...</td>\n",
       "    </tr>\n",
       "    <tr>\n",
       "      <th>5575d384d6dfbb66f9dac606</th>\n",
       "      <td>NaN</td>\n",
       "      <td>0.194029</td>\n",
       "      <td>0.004235</td>\n",
       "      <td>#TweetMyJobs #Accounting #Job alert: Senior Ac...</td>\n",
       "    </tr>\n",
       "    <tr>\n",
       "      <th>5572131ed6dfbb33bf90487d</th>\n",
       "      <td>NaN</td>\n",
       "      <td>0.338928</td>\n",
       "      <td>0.004239</td>\n",
       "      <td>Never imagined myself saying this 3 years ago,...</td>\n",
       "    </tr>\n",
       "    <tr>\n",
       "      <th>5572b598d6dfbb719b60fb40</th>\n",
       "      <td>NaN</td>\n",
       "      <td>0.411088</td>\n",
       "      <td>0.004250</td>\n",
       "      <td>Who made me drink &amp;amp; why?</td>\n",
       "    </tr>\n",
       "    <tr>\n",
       "      <th>557849c1d6dfbb56c0b31675</th>\n",
       "      <td>NaN</td>\n",
       "      <td>0.258357</td>\n",
       "      <td>0.004261</td>\n",
       "      <td>.@BilldeBlasio Opposes Linking Tax Credit, Ren...</td>\n",
       "    </tr>\n",
       "  </tbody>\n",
       "</table>\n",
       "</div>"
      ],
      "text/plain": [
       "                          control   predict  random_number  \\\n",
       "_id                                                          \n",
       "556e8debd6dfbb3061976b0e      NaN  0.215714       0.004196   \n",
       "5575d384d6dfbb66f9dac606      NaN  0.194029       0.004235   \n",
       "5572131ed6dfbb33bf90487d      NaN  0.338928       0.004239   \n",
       "5572b598d6dfbb719b60fb40      NaN  0.411088       0.004250   \n",
       "557849c1d6dfbb56c0b31675      NaN  0.258357       0.004261   \n",
       "\n",
       "                                                                       text  \n",
       "_id                                                                          \n",
       "556e8debd6dfbb3061976b0e  My #TeenChoice nominee for #ChoiceMaleWebStar ...  \n",
       "5575d384d6dfbb66f9dac606  #TweetMyJobs #Accounting #Job alert: Senior Ac...  \n",
       "5572131ed6dfbb33bf90487d  Never imagined myself saying this 3 years ago,...  \n",
       "5572b598d6dfbb719b60fb40                       Who made me drink &amp; why?  \n",
       "557849c1d6dfbb56c0b31675  .@BilldeBlasio Opposes Linking Tax Credit, Ren...  "
      ]
     },
     "execution_count": 3,
     "metadata": {},
     "output_type": "execute_result"
    }
   ],
   "source": [
    "X_filter = X[X.control != 1]\n",
    "X_filter.head()"
   ]
  },
  {
   "cell_type": "code",
   "execution_count": 4,
   "metadata": {
    "collapsed": false
   },
   "outputs": [
    {
     "data": {
      "text/html": [
       "<div>\n",
       "<table border=\"1\" class=\"dataframe\">\n",
       "  <thead>\n",
       "    <tr style=\"text-align: right;\">\n",
       "      <th></th>\n",
       "      <th>control</th>\n",
       "      <th>predict</th>\n",
       "      <th>random_number</th>\n",
       "      <th>text</th>\n",
       "    </tr>\n",
       "    <tr>\n",
       "      <th>_id</th>\n",
       "      <th></th>\n",
       "      <th></th>\n",
       "      <th></th>\n",
       "      <th></th>\n",
       "    </tr>\n",
       "  </thead>\n",
       "  <tbody>\n",
       "    <tr>\n",
       "      <th>5584b355d6dfbb636c07fba4</th>\n",
       "      <td>1</td>\n",
       "      <td>NaN</td>\n",
       "      <td>NaN</td>\n",
       "      <td>Now that's a malty hop punch. Great bitterness...</td>\n",
       "    </tr>\n",
       "    <tr>\n",
       "      <th>558ded7dd6dfbb1d49557f3f</th>\n",
       "      <td>1</td>\n",
       "      <td>NaN</td>\n",
       "      <td>NaN</td>\n",
       "      <td>5star Friday continues after a delay.... - Dri...</td>\n",
       "    </tr>\n",
       "    <tr>\n",
       "      <th>557a3d92d6dfbb59f52789b3</th>\n",
       "      <td>1</td>\n",
       "      <td>NaN</td>\n",
       "      <td>NaN</td>\n",
       "      <td>Late check-in, perfect hot as balls day crisp ...</td>\n",
       "    </tr>\n",
       "    <tr>\n",
       "      <th>556ba263d6dfbb336fb8c141</th>\n",
       "      <td>1</td>\n",
       "      <td>NaN</td>\n",
       "      <td>NaN</td>\n",
       "      <td>Drinking a Rams Head IPA by @FoDoBrewing @ Bar...</td>\n",
       "    </tr>\n",
       "    <tr>\n",
       "      <th>556ba2c8d6dfbb336fb8c582</th>\n",
       "      <td>1</td>\n",
       "      <td>NaN</td>\n",
       "      <td>NaN</td>\n",
       "      <td>Drinking a Summerweisse by @BottleLogicBrew at...</td>\n",
       "    </tr>\n",
       "  </tbody>\n",
       "</table>\n",
       "</div>"
      ],
      "text/plain": [
       "                          control  predict  random_number  \\\n",
       "_id                                                         \n",
       "5584b355d6dfbb636c07fba4        1      NaN            NaN   \n",
       "558ded7dd6dfbb1d49557f3f        1      NaN            NaN   \n",
       "557a3d92d6dfbb59f52789b3        1      NaN            NaN   \n",
       "556ba263d6dfbb336fb8c141        1      NaN            NaN   \n",
       "556ba2c8d6dfbb336fb8c582        1      NaN            NaN   \n",
       "\n",
       "                                                                       text  \n",
       "_id                                                                          \n",
       "5584b355d6dfbb636c07fba4  Now that's a malty hop punch. Great bitterness...  \n",
       "558ded7dd6dfbb1d49557f3f  5star Friday continues after a delay.... - Dri...  \n",
       "557a3d92d6dfbb59f52789b3  Late check-in, perfect hot as balls day crisp ...  \n",
       "556ba263d6dfbb336fb8c141  Drinking a Rams Head IPA by @FoDoBrewing @ Bar...  \n",
       "556ba2c8d6dfbb336fb8c582  Drinking a Summerweisse by @BottleLogicBrew at...  "
      ]
     },
     "execution_count": 4,
     "metadata": {},
     "output_type": "execute_result"
    }
   ],
   "source": [
    "X_control = X[X.control == 1]\n",
    "X_control.head()"
   ]
  },
  {
   "cell_type": "code",
   "execution_count": 5,
   "metadata": {
    "collapsed": false
   },
   "outputs": [
    {
     "data": {
      "text/plain": [
       "81122"
      ]
     },
     "execution_count": 5,
     "metadata": {},
     "output_type": "execute_result"
    }
   ],
   "source": [
    "len(X_filter)"
   ]
  },
  {
   "cell_type": "code",
   "execution_count": 6,
   "metadata": {
    "collapsed": false
   },
   "outputs": [
    {
     "data": {
      "text/plain": [
       "483"
      ]
     },
     "execution_count": 6,
     "metadata": {},
     "output_type": "execute_result"
    }
   ],
   "source": [
    "len(X_control)"
   ]
  },
  {
   "cell_type": "markdown",
   "metadata": {},
   "source": [
    "# Preprocessing"
   ]
  },
  {
   "cell_type": "code",
   "execution_count": 157,
   "metadata": {
    "collapsed": true
   },
   "outputs": [],
   "source": [
    "from __private import fs\n",
    "from classification.dao import ClassifierAccess"
   ]
  },
  {
   "cell_type": "code",
   "execution_count": 158,
   "metadata": {
    "collapsed": false
   },
   "outputs": [
    {
     "data": {
      "text/plain": [
       "['alcohol|accuracy:0.8143360752056404|f1:0.8192219679633866|type:LogisticRegression',\n",
       " 'alcohol|accuracy:0.8401880141010576|f1:0.8498896247240618|type:SVC',\n",
       " 'alcohol|accuracy:0.8425381903642774|f1:0.8562231759656651|type:RandomForestClassifier',\n",
       " 'first_person_label|accuracy:0.5637860082304527|f1:0.5574430033343769|type:SVC',\n",
       " 'first_person_label|accuracy:0.5637860082304527|f1:0.5643693591852614|type:LogisticRegression',\n",
       " 'first_person|accuracy:0.6951871657754011|f1:0.8034482758620688|type:RandomForestClassifier',\n",
       " 'first_person|accuracy:0.7005347593582888|f1:0.7751004016064257|type:LogisticRegression',\n",
       " 'first_person|accuracy:0.7032085561497327|f1:0.8062827225130889|type:RandomForestClassifier',\n",
       " 'first_person|accuracy:0.7112299465240641|f1:0.8021978021978021|type:SVC']"
      ]
     },
     "execution_count": 158,
     "metadata": {},
     "output_type": "execute_result"
    }
   ],
   "source": [
    "fs.list()"
   ]
  },
  {
   "cell_type": "code",
   "execution_count": 66,
   "metadata": {
    "collapsed": false
   },
   "outputs": [],
   "source": [
    "alcohol_classifier = ClassifierAccess.get_byfile(\n",
    "    \"alcohol|accuracy:0.8401880141010576|f1:0.8498896247240618|type:SVC\"\n",
    ")\n",
    "\n",
    "firstperson_classifier = ClassifierAccess.get_byfile(\n",
    "    \"first_person|accuracy:0.7112299465240641|f1:0.8021978021978021|type:SVC\"\n",
    ")\n",
    "\n",
    "firstpersonlevel_classifier = ClassifierAccess.get_byfile(\n",
    "    \"first_person_label|accuracy:0.5637860082304527|f1:0.5643693591852614|type:LogisticRegression\"\n",
    ")"
   ]
  },
  {
   "cell_type": "code",
   "execution_count": 197,
   "metadata": {
    "collapsed": false
   },
   "outputs": [],
   "source": [
    "X = X.sample(10000)"
   ]
  },
  {
   "cell_type": "code",
   "execution_count": 198,
   "metadata": {
    "collapsed": false
   },
   "outputs": [
    {
     "name": "stdout",
     "output_type": "stream",
     "text": [
      "CPU times: user 1min 43s, sys: 5.63 s, total: 1min 49s\n",
      "Wall time: 1min 55s\n"
     ]
    }
   ],
   "source": [
    "%%time\n",
    "\n",
    "first_person = firstperson_classifier.predict_proba(X)[:,1]\n",
    "alch_labels = alcohol_classifier.predict_proba(X)[:,1]"
   ]
  },
  {
   "cell_type": "code",
   "execution_count": 201,
   "metadata": {
    "collapsed": false
   },
   "outputs": [
    {
     "ename": "ValueError",
     "evalue": "Length of values does not match length of index",
     "output_type": "error",
     "traceback": [
      "\u001b[0;31m---------------------------------------------------------------------------\u001b[0m",
      "\u001b[0;31mValueError\u001b[0m                                Traceback (most recent call last)",
      "\u001b[0;32m<ipython-input-201-2977a1f1236d>\u001b[0m in \u001b[0;36m<module>\u001b[0;34m()\u001b[0m\n\u001b[0;32m----> 1\u001b[0;31m \u001b[0mX\u001b[0m\u001b[0;34m[\u001b[0m\u001b[0;34m\"predicted_fp\"\u001b[0m\u001b[0;34m]\u001b[0m \u001b[0;34m=\u001b[0m \u001b[0mfirst_person\u001b[0m\u001b[0;34m\u001b[0m\u001b[0m\n\u001b[0m\u001b[1;32m      2\u001b[0m \u001b[0mX\u001b[0m\u001b[0;34m[\u001b[0m\u001b[0;34m\"predicted_alc\"\u001b[0m\u001b[0;34m]\u001b[0m \u001b[0;34m=\u001b[0m \u001b[0malch_labels\u001b[0m\u001b[0;34m\u001b[0m\u001b[0m\n",
      "\u001b[0;32m/Library/Frameworks/Python.framework/Versions/3.4/lib/python3.4/site-packages/pandas/core/frame.py\u001b[0m in \u001b[0;36m__setitem__\u001b[0;34m(self, key, value)\u001b[0m\n\u001b[1;32m   2125\u001b[0m         \u001b[0;32melse\u001b[0m\u001b[0;34m:\u001b[0m\u001b[0;34m\u001b[0m\u001b[0m\n\u001b[1;32m   2126\u001b[0m             \u001b[0;31m# set column\u001b[0m\u001b[0;34m\u001b[0m\u001b[0;34m\u001b[0m\u001b[0m\n\u001b[0;32m-> 2127\u001b[0;31m             \u001b[0mself\u001b[0m\u001b[0;34m.\u001b[0m\u001b[0m_set_item\u001b[0m\u001b[0;34m(\u001b[0m\u001b[0mkey\u001b[0m\u001b[0;34m,\u001b[0m \u001b[0mvalue\u001b[0m\u001b[0;34m)\u001b[0m\u001b[0;34m\u001b[0m\u001b[0m\n\u001b[0m\u001b[1;32m   2128\u001b[0m \u001b[0;34m\u001b[0m\u001b[0m\n\u001b[1;32m   2129\u001b[0m     \u001b[0;32mdef\u001b[0m \u001b[0m_setitem_slice\u001b[0m\u001b[0;34m(\u001b[0m\u001b[0mself\u001b[0m\u001b[0;34m,\u001b[0m \u001b[0mkey\u001b[0m\u001b[0;34m,\u001b[0m \u001b[0mvalue\u001b[0m\u001b[0;34m)\u001b[0m\u001b[0;34m:\u001b[0m\u001b[0;34m\u001b[0m\u001b[0m\n",
      "\u001b[0;32m/Library/Frameworks/Python.framework/Versions/3.4/lib/python3.4/site-packages/pandas/core/frame.py\u001b[0m in \u001b[0;36m_set_item\u001b[0;34m(self, key, value)\u001b[0m\n\u001b[1;32m   2202\u001b[0m \u001b[0;34m\u001b[0m\u001b[0m\n\u001b[1;32m   2203\u001b[0m         \u001b[0mself\u001b[0m\u001b[0;34m.\u001b[0m\u001b[0m_ensure_valid_index\u001b[0m\u001b[0;34m(\u001b[0m\u001b[0mvalue\u001b[0m\u001b[0;34m)\u001b[0m\u001b[0;34m\u001b[0m\u001b[0m\n\u001b[0;32m-> 2204\u001b[0;31m         \u001b[0mvalue\u001b[0m \u001b[0;34m=\u001b[0m \u001b[0mself\u001b[0m\u001b[0;34m.\u001b[0m\u001b[0m_sanitize_column\u001b[0m\u001b[0;34m(\u001b[0m\u001b[0mkey\u001b[0m\u001b[0;34m,\u001b[0m \u001b[0mvalue\u001b[0m\u001b[0;34m)\u001b[0m\u001b[0;34m\u001b[0m\u001b[0m\n\u001b[0m\u001b[1;32m   2205\u001b[0m         \u001b[0mNDFrame\u001b[0m\u001b[0;34m.\u001b[0m\u001b[0m_set_item\u001b[0m\u001b[0;34m(\u001b[0m\u001b[0mself\u001b[0m\u001b[0;34m,\u001b[0m \u001b[0mkey\u001b[0m\u001b[0;34m,\u001b[0m \u001b[0mvalue\u001b[0m\u001b[0;34m)\u001b[0m\u001b[0;34m\u001b[0m\u001b[0m\n\u001b[1;32m   2206\u001b[0m \u001b[0;34m\u001b[0m\u001b[0m\n",
      "\u001b[0;32m/Library/Frameworks/Python.framework/Versions/3.4/lib/python3.4/site-packages/pandas/core/frame.py\u001b[0m in \u001b[0;36m_sanitize_column\u001b[0;34m(self, key, value)\u001b[0m\n\u001b[1;32m   2360\u001b[0m \u001b[0;34m\u001b[0m\u001b[0m\n\u001b[1;32m   2361\u001b[0m             \u001b[0;31m# turn me into an ndarray\u001b[0m\u001b[0;34m\u001b[0m\u001b[0;34m\u001b[0m\u001b[0m\n\u001b[0;32m-> 2362\u001b[0;31m             \u001b[0mvalue\u001b[0m \u001b[0;34m=\u001b[0m \u001b[0m_sanitize_index\u001b[0m\u001b[0;34m(\u001b[0m\u001b[0mvalue\u001b[0m\u001b[0;34m,\u001b[0m \u001b[0mself\u001b[0m\u001b[0;34m.\u001b[0m\u001b[0mindex\u001b[0m\u001b[0;34m,\u001b[0m \u001b[0mcopy\u001b[0m\u001b[0;34m=\u001b[0m\u001b[0;32mFalse\u001b[0m\u001b[0;34m)\u001b[0m\u001b[0;34m\u001b[0m\u001b[0m\n\u001b[0m\u001b[1;32m   2363\u001b[0m             \u001b[0;32mif\u001b[0m \u001b[0;32mnot\u001b[0m \u001b[0misinstance\u001b[0m\u001b[0;34m(\u001b[0m\u001b[0mvalue\u001b[0m\u001b[0;34m,\u001b[0m \u001b[0;34m(\u001b[0m\u001b[0mnp\u001b[0m\u001b[0;34m.\u001b[0m\u001b[0mndarray\u001b[0m\u001b[0;34m,\u001b[0m \u001b[0mIndex\u001b[0m\u001b[0;34m)\u001b[0m\u001b[0;34m)\u001b[0m\u001b[0;34m:\u001b[0m\u001b[0;34m\u001b[0m\u001b[0m\n\u001b[1;32m   2364\u001b[0m                 \u001b[0;32mif\u001b[0m \u001b[0misinstance\u001b[0m\u001b[0;34m(\u001b[0m\u001b[0mvalue\u001b[0m\u001b[0;34m,\u001b[0m \u001b[0mlist\u001b[0m\u001b[0;34m)\u001b[0m \u001b[0;32mand\u001b[0m \u001b[0mlen\u001b[0m\u001b[0;34m(\u001b[0m\u001b[0mvalue\u001b[0m\u001b[0;34m)\u001b[0m \u001b[0;34m>\u001b[0m \u001b[0;36m0\u001b[0m\u001b[0;34m:\u001b[0m\u001b[0;34m\u001b[0m\u001b[0m\n",
      "\u001b[0;32m/Library/Frameworks/Python.framework/Versions/3.4/lib/python3.4/site-packages/pandas/core/series.py\u001b[0m in \u001b[0;36m_sanitize_index\u001b[0;34m(data, index, copy)\u001b[0m\n\u001b[1;32m   2577\u001b[0m \u001b[0;34m\u001b[0m\u001b[0m\n\u001b[1;32m   2578\u001b[0m     \u001b[0;32mif\u001b[0m \u001b[0mlen\u001b[0m\u001b[0;34m(\u001b[0m\u001b[0mdata\u001b[0m\u001b[0;34m)\u001b[0m \u001b[0;34m!=\u001b[0m \u001b[0mlen\u001b[0m\u001b[0;34m(\u001b[0m\u001b[0mindex\u001b[0m\u001b[0;34m)\u001b[0m\u001b[0;34m:\u001b[0m\u001b[0;34m\u001b[0m\u001b[0m\n\u001b[0;32m-> 2579\u001b[0;31m         raise ValueError('Length of values does not match length of '\n\u001b[0m\u001b[1;32m   2580\u001b[0m                          'index')\n\u001b[1;32m   2581\u001b[0m \u001b[0;34m\u001b[0m\u001b[0m\n",
      "\u001b[0;31mValueError\u001b[0m: Length of values does not match length of index"
     ]
    }
   ],
   "source": [
    "X[\"predicted_fp\"] = first_person\n",
    "X[\"predicted_alc\"] = alch_labels"
   ]
  },
  {
   "cell_type": "code",
   "execution_count": 202,
   "metadata": {
    "collapsed": false
   },
   "outputs": [],
   "source": [
    "X = X[\n",
    "    ~(X.text.str.contains(\"Drinking a\"))\n",
    "]"
   ]
  },
  {
   "cell_type": "code",
   "execution_count": 203,
   "metadata": {
    "collapsed": false
   },
   "outputs": [],
   "source": [
    "X[\"score\"] = (X.predicted_alc * X.predicted_fp)"
   ]
  },
  {
   "cell_type": "code",
   "execution_count": 204,
   "metadata": {
    "collapsed": false,
    "scrolled": false
   },
   "outputs": [
    {
     "data": {
      "text/plain": [
       "<matplotlib.axes.AxesSubplot at 0x249cc4908>"
      ]
     },
     "execution_count": 204,
     "metadata": {},
     "output_type": "execute_result"
    },
    {
     "data": {
      "image/png": "[encoded data removed]",
      "text/plain": [
       "<matplotlib.figure.Figure at 0x249cc4eb8>"
      ]
     },
     "metadata": {},
     "output_type": "display_data"
    }
   ],
   "source": [
    "X.score.plot(kind=\"hist\", bins=30)"
   ]
  },
  {
   "cell_type": "code",
   "execution_count": 205,
   "metadata": {
    "collapsed": false
   },
   "outputs": [],
   "source": [
    "X.random_number = X.text.apply(hash)"
   ]
  },
  {
   "cell_type": "code",
   "execution_count": 206,
   "metadata": {
    "collapsed": false
   },
   "outputs": [
    {
     "data": {
      "text/plain": [
       "8155"
      ]
     },
     "execution_count": 206,
     "metadata": {},
     "output_type": "execute_result"
    }
   ],
   "source": [
    "len(X)"
   ]
  },
  {
   "cell_type": "markdown",
   "metadata": {},
   "source": [
    "# Generating..."
   ]
  },
  {
   "cell_type": "code",
   "execution_count": 212,
   "metadata": {
    "collapsed": false
   },
   "outputs": [],
   "source": [
    "date = str(datetime.date.today())\n",
    "candidate = X.sort(\"random_number\").head(3000)\n",
    "key = candidate.random_number.sum()"
   ]
  },
  {
   "cell_type": "code",
   "execution_count": 213,
   "metadata": {
    "collapsed": false
   },
   "outputs": [],
   "source": [
    "candidate[\"text\"] = candidate.text.str.encode(\"utf-8\")"
   ]
  },
  {
   "cell_type": "code",
   "execution_count": 214,
   "metadata": {
    "collapsed": false
   },
   "outputs": [],
   "source": [
    "candidate[[\"text\", \"random_number\"]].to_csv(\n",
    "    \"../amt/c_amt|{}|{}.csv\".format(date, key),\n",
    ")"
   ]
  },
  {
   "cell_type": "code",
   "execution_count": 215,
   "metadata": {
    "collapsed": false
   },
   "outputs": [
    {
     "name": "stdout",
     "output_type": "stream",
     "text": [
      "Batch_2055156_batch_results.csv\n",
      "Batch_2064123_batch_results.csv\n",
      "Batch_2064125_batch_results.csv\n",
      "Batch_2101169_batch_results.csv\n",
      "Batch_2164917_batch_results.csv\n",
      "Batch_2166655_batch_results.csv\n",
      "Batch_2248153_batch_results.csv\n",
      "amt_2015-08-13_4952308500878643456.csv\n",
      "amt_2015-08-17_2546340314496401664.csv\n",
      "amt_2015-08-20_8806137010034599936.csv\n",
      "amt_2015-09-10_6072541214091395328.csv\n",
      "amt_2015-09-24_-7976654553505407232.csv\n",
      "amt|2015-09-10|6072541214091395328.csv\n",
      "amt|2015-09-24|-7976654553505407232.csv\n",
      "amt|2015-11-16|-6308615403510686754.csv\n",
      "amt|2015-11-16|-81244987503678735.csv\n",
      "amt|2015-11-16|287544318312245760.csv\n",
      "c_amt_2015-11-16_-6269207037782773504.csv\n",
      "c_amt_2015-11-16_7954396760112903981.csv\n",
      "c_amt_2016-01-21_-8087639176019565329_2.csv\n",
      "c_amt_2016-01-21_5520759830824576334.csv\n",
      "c_amt_2016-01-29_7647127386955943697_2000.csv\n",
      "c_amt_2016-01-30_-7432510530338082686.txt\n",
      "c_amt_2016-01-31_0.1315425978524588_rest_of_control.csv\n",
      "c_amt_2016-02-02_nan.csv\n",
      "c_amt|2015-11-16|7954396760112903981.csv\n",
      "c_amt|2016-01-21|-8087639176019565329_2.csv\n",
      "c_amt|2016-01-21|5520759830824576334.csv\n",
      "c_amt|2016-01-29|0.06826703878934814_2.csv\n",
      "c_amt|2016-01-29|0.06826703878934814_2000.csv\n",
      "c_amt|2016-01-29|7647127386955943697_2000.csv\n",
      "c_amt|2016-01-30|-7432510530338082686.csv\n",
      "c_amt|2016-01-30|7768381086251638340_3000.csv\n",
      "c_amt|2016-01-31|0.1315425978524588_rest_of_control.csv\n",
      "c_amt|2016-02-02|-4030591870299663666.csv\n",
      "c_amt|2016-02-02|nan.csv\n"
     ]
    }
   ],
   "source": [
    "%%bash\n",
    "\n",
    "ls ../amt/"
   ]
  },
  {
   "cell_type": "code",
   "execution_count": 216,
   "metadata": {
    "collapsed": true
   },
   "outputs": [],
   "source": [
    "%%bash\n",
    "\n",
    "open .. "
   ]
  },
  {
   "cell_type": "markdown",
   "metadata": {},
   "source": [
    "# Parsing to Label"
   ]
  },
  {
   "cell_type": "markdown",
   "metadata": {},
   "source": [
    "#### New Labels\n",
    "\n",
    "Straight from Amazon Mechanical Turk"
   ]
  },
  {
   "cell_type": "code",
   "execution_count": 165,
   "metadata": {
    "collapsed": false
   },
   "outputs": [],
   "source": [
    "df = pd.DataFrame.from_csv(\"/Users/JasonLiu/Downloads/Batch_2251572_batch_results.csv\")\n",
    "# df = pd.DataFrame.from_csv(\"/Users/JasonLiu/Downloads/Batch_2239372_batch_results.csv\")"
   ]
  },
  {
   "cell_type": "code",
   "execution_count": 166,
   "metadata": {
    "collapsed": false
   },
   "outputs": [
    {
     "data": {
      "text/plain": [
       "AM7FYVGVOEP66     165\n",
       "AS9E0S6DBSWH7     131\n",
       "A2WNW8A4MOR7T7    108\n",
       "A22634OVAX2IVC    100\n",
       "A2CGAOF4G65D67     88\n",
       "A1I8952MLVA6SL     60\n",
       "A1GKEEI844CEKI     42\n",
       "A1T79J0XQXDDGC     38\n",
       "AI885RNRGVIFM      36\n",
       "AJPQEZBVJXVE9      30\n",
       "dtype: int64"
      ]
     },
     "execution_count": 166,
     "metadata": {},
     "output_type": "execute_result"
    }
   ],
   "source": [
    "df.Worker.value_counts().head(10)"
   ]
  },
  {
   "cell_type": "code",
   "execution_count": 171,
   "metadata": {
    "collapsed": false
   },
   "outputs": [
    {
     "data": {
      "text/html": [
       "<div>\n",
       "<table border=\"1\" class=\"dataframe\">\n",
       "  <thead>\n",
       "    <tr style=\"text-align: right;\">\n",
       "      <th></th>\n",
       "      <th>text</th>\n",
       "      <th>Answer</th>\n",
       "    </tr>\n",
       "    <tr>\n",
       "      <th>_id</th>\n",
       "      <th></th>\n",
       "      <th></th>\n",
       "    </tr>\n",
       "  </thead>\n",
       "  <tbody>\n",
       "    <tr>\n",
       "      <th>5571d508d6dfbb1a6ee6355d</th>\n",
       "      <td>b\"Guess what we'll have for dessert tonight......</td>\n",
       "      <td>Not Alcohol Related</td>\n",
       "    </tr>\n",
       "    <tr>\n",
       "      <th>5590767dd6dfbb3e78051738</th>\n",
       "      <td>b\"So, @theopenbottleco is having a #cider nigh...</td>\n",
       "      <td>Alcohol Related::Promotional Content</td>\n",
       "    </tr>\n",
       "    <tr>\n",
       "      <th>558537ced6dfbb0db12641fa</th>\n",
       "      <td>b\"With her wine stained lips yeah she's nothin...</td>\n",
       "      <td>Alcohol Related::Discussion</td>\n",
       "    </tr>\n",
       "    <tr>\n",
       "      <th>559064f3d6dfbb3733208919</th>\n",
       "      <td>b'little east coast love this morning with a r...</td>\n",
       "      <td>Not Alcohol Related</td>\n",
       "    </tr>\n",
       "    <tr>\n",
       "      <th>55824824d6dfbb2fcd1af933</th>\n",
       "      <td>b'@AshBennett23 yeah passed tf out off this Ch...</td>\n",
       "      <td>First Person - Alcohol::Heavy Drinking</td>\n",
       "    </tr>\n",
       "  </tbody>\n",
       "</table>\n",
       "</div>"
      ],
      "text/plain": [
       "                                                                       text  \\\n",
       "_id                                                                           \n",
       "5571d508d6dfbb1a6ee6355d  b\"Guess what we'll have for dessert tonight......   \n",
       "5590767dd6dfbb3e78051738  b\"So, @theopenbottleco is having a #cider nigh...   \n",
       "558537ced6dfbb0db12641fa  b\"With her wine stained lips yeah she's nothin...   \n",
       "559064f3d6dfbb3733208919  b'little east coast love this morning with a r...   \n",
       "55824824d6dfbb2fcd1af933  b'@AshBennett23 yeah passed tf out off this Ch...   \n",
       "\n",
       "                                                          Answer  \n",
       "_id                                                               \n",
       "5571d508d6dfbb1a6ee6355d                     Not Alcohol Related  \n",
       "5590767dd6dfbb3e78051738    Alcohol Related::Promotional Content  \n",
       "558537ced6dfbb0db12641fa             Alcohol Related::Discussion  \n",
       "559064f3d6dfbb3733208919                     Not Alcohol Related  \n",
       "55824824d6dfbb2fcd1af933  First Person - Alcohol::Heavy Drinking  "
      ]
     },
     "execution_count": 171,
     "metadata": {},
     "output_type": "execute_result"
    }
   ],
   "source": [
    "df[[\"text\", \"Answer\"]].head()"
   ]
  },
  {
   "cell_type": "code",
   "execution_count": 173,
   "metadata": {
    "collapsed": false
   },
   "outputs": [],
   "source": [
    "df = df[df.Worker != \"A2AFTOA85C1FM9\"]\n",
    "df = df[df.Answer != \"Alcohol Related\"]"
   ]
  },
  {
   "cell_type": "code",
   "execution_count": 174,
   "metadata": {
    "collapsed": false
   },
   "outputs": [
    {
     "data": {
      "text/plain": [
       "Not Alcohol Related                               397\n",
       "First Person - Alcohol::Casual Drinking           136\n",
       "Alcohol Related::Promotional Content              100\n",
       "Alcohol Related::Discussion                       100\n",
       "First Person - Alcohol::Looking to drink           63\n",
       "First Person - Alcohol::Reflecting on drinking     53\n",
       "First Person - Alcohol::Heavy Drinking             23\n",
       "dtype: int64"
      ]
     },
     "execution_count": 174,
     "metadata": {},
     "output_type": "execute_result"
    }
   ],
   "source": [
    "df.Answer.value_counts()"
   ]
  },
  {
   "cell_type": "code",
   "execution_count": null,
   "metadata": {
    "collapsed": false
   },
   "outputs": [],
   "source": [
    "# df = df.set_index(\"_id\")"
   ]
  },
  {
   "cell_type": "markdown",
   "metadata": {},
   "source": [
    "#### Writing Labels using TurkResults2Label"
   ]
  },
  {
   "cell_type": "code",
   "execution_count": 176,
   "metadata": {
    "collapsed": false
   },
   "outputs": [
    {
     "name": "stdout",
     "output_type": "stream",
     "text": [
      "CPU times: user 980 ms, sys: 449 ms, total: 1.43 s\n",
      "Wall time: 1min 39s\n"
     ]
    }
   ],
   "source": [
    "%%time\n",
    "DataAccess.write_labels(df.Answer.apply(TurkResults2Label.parse_to_labels))"
   ]
  },
  {
   "cell_type": "code",
   "execution_count": 177,
   "metadata": {
    "collapsed": false
   },
   "outputs": [
    {
     "ename": "AttributeError",
     "evalue": "'DataFrame' object has no attribute 'predicted_alc'",
     "output_type": "error",
     "traceback": [
      "\u001b[0;31m---------------------------------------------------------------------------\u001b[0m",
      "\u001b[0;31mAttributeError\u001b[0m                            Traceback (most recent call last)",
      "\u001b[0;32m<ipython-input-177-7432dcf99da2>\u001b[0m in \u001b[0;36m<module>\u001b[0;34m()\u001b[0m\n\u001b[1;32m      1\u001b[0m disc = X_control[\n\u001b[0;32m----> 2\u001b[0;31m     \u001b[0;34m(\u001b[0m\u001b[0mX_control\u001b[0m\u001b[0;34m.\u001b[0m\u001b[0mpredicted_alc\u001b[0m \u001b[0;34m<\u001b[0m \u001b[0;36m0.2\u001b[0m\u001b[0;34m)\u001b[0m\u001b[0;34m\u001b[0m\u001b[0m\n\u001b[0m\u001b[1;32m      3\u001b[0m     ] \n",
      "\u001b[0;32m/Library/Frameworks/Python.framework/Versions/3.4/lib/python3.4/site-packages/pandas/core/generic.py\u001b[0m in \u001b[0;36m__getattr__\u001b[0;34m(self, name)\u001b[0m\n\u001b[1;32m   2148\u001b[0m                 \u001b[0;32mreturn\u001b[0m \u001b[0mself\u001b[0m\u001b[0;34m[\u001b[0m\u001b[0mname\u001b[0m\u001b[0;34m]\u001b[0m\u001b[0;34m\u001b[0m\u001b[0m\n\u001b[1;32m   2149\u001b[0m             raise AttributeError(\"'%s' object has no attribute '%s'\" %\n\u001b[0;32m-> 2150\u001b[0;31m                                  (type(self).__name__, name))\n\u001b[0m\u001b[1;32m   2151\u001b[0m \u001b[0;34m\u001b[0m\u001b[0m\n\u001b[1;32m   2152\u001b[0m     \u001b[0;32mdef\u001b[0m \u001b[0m__setattr__\u001b[0m\u001b[0;34m(\u001b[0m\u001b[0mself\u001b[0m\u001b[0;34m,\u001b[0m \u001b[0mname\u001b[0m\u001b[0;34m,\u001b[0m \u001b[0mvalue\u001b[0m\u001b[0;34m)\u001b[0m\u001b[0;34m:\u001b[0m\u001b[0;34m\u001b[0m\u001b[0m\n",
      "\u001b[0;31mAttributeError\u001b[0m: 'DataFrame' object has no attribute 'predicted_alc'"
     ]
    }
   ],
   "source": [
    "disc = X_control[\n",
    "    (X_control.predicted_alc < 0.2)\n",
    "    ] "
   ]
  },
  {
   "cell_type": "code",
   "execution_count": 148,
   "metadata": {
    "collapsed": false
   },
   "outputs": [
    {
     "name": "stderr",
     "output_type": "stream",
     "text": [
      "/Library/Frameworks/Python.framework/Versions/3.4/lib/python3.4/site-packages/IPython/kernel/__main__.py:1: SettingWithCopyWarning: \n",
      "A value is trying to be set on a copy of a slice from a DataFrame.\n",
      "Try using .loc[row_indexer,col_indexer] = value instead\n",
      "\n",
      "See the the caveats in the documentation: http://pandas.pydata.org/pandas-docs/stable/indexing.html#indexing-view-versus-copy\n",
      "  if __name__ == '__main__':\n"
     ]
    }
   ],
   "source": [
    "disc[\"Answer\"] = \"Not Alcohol Related\""
   ]
  },
  {
   "cell_type": "code",
   "execution_count": 149,
   "metadata": {
    "collapsed": false,
    "scrolled": false
   },
   "outputs": [
    {
     "data": {
      "text/html": [
       "<div>\n",
       "<table border=\"1\" class=\"dataframe\">\n",
       "  <thead>\n",
       "    <tr style=\"text-align: right;\">\n",
       "      <th></th>\n",
       "      <th>control</th>\n",
       "      <th>predict</th>\n",
       "      <th>random_number</th>\n",
       "      <th>text</th>\n",
       "      <th>predicted_fp</th>\n",
       "      <th>predicted_alc</th>\n",
       "      <th>Answer</th>\n",
       "    </tr>\n",
       "    <tr>\n",
       "      <th>_id</th>\n",
       "      <th></th>\n",
       "      <th></th>\n",
       "      <th></th>\n",
       "      <th></th>\n",
       "      <th></th>\n",
       "      <th></th>\n",
       "      <th></th>\n",
       "    </tr>\n",
       "  </thead>\n",
       "  <tbody>\n",
       "    <tr>\n",
       "      <th>5591763cd6dfbb4e77e28bb8</th>\n",
       "      <td>1</td>\n",
       "      <td>NaN</td>\n",
       "      <td>NaN</td>\n",
       "      <td>Talk about being, \"Fogged in\". This is way!! P...</td>\n",
       "      <td>0.552012</td>\n",
       "      <td>0.190272</td>\n",
       "      <td>Not Alcohol Related</td>\n",
       "    </tr>\n",
       "    <tr>\n",
       "      <th>5587acd4d6dfbb4182ae5fb0</th>\n",
       "      <td>1</td>\n",
       "      <td>NaN</td>\n",
       "      <td>NaN</td>\n",
       "      <td>@AlexandSierra @thehotelcafe but I'm not 21 😢😢😢😢</td>\n",
       "      <td>0.578864</td>\n",
       "      <td>0.096895</td>\n",
       "      <td>Not Alcohol Related</td>\n",
       "    </tr>\n",
       "    <tr>\n",
       "      <th>558304bed6dfbb6115f00829</th>\n",
       "      <td>1</td>\n",
       "      <td>NaN</td>\n",
       "      <td>NaN</td>\n",
       "      <td>#grill afternoon with coworkers of @victorfrog...</td>\n",
       "      <td>0.509105</td>\n",
       "      <td>0.069019</td>\n",
       "      <td>Not Alcohol Related</td>\n",
       "    </tr>\n",
       "    <tr>\n",
       "      <th>558e27bed6dfbb4c990cb9d5</th>\n",
       "      <td>1</td>\n",
       "      <td>NaN</td>\n",
       "      <td>NaN</td>\n",
       "      <td>I'm at @CoveLoungeNyc in New York, NY https://...</td>\n",
       "      <td>0.635797</td>\n",
       "      <td>0.168464</td>\n",
       "      <td>Not Alcohol Related</td>\n",
       "    </tr>\n",
       "    <tr>\n",
       "      <th>558dc188d6dfbb024ceb651e</th>\n",
       "      <td>1</td>\n",
       "      <td>NaN</td>\n",
       "      <td>NaN</td>\n",
       "      <td>amazing show last night! thanks for coming out...</td>\n",
       "      <td>0.686985</td>\n",
       "      <td>0.106364</td>\n",
       "      <td>Not Alcohol Related</td>\n",
       "    </tr>\n",
       "  </tbody>\n",
       "</table>\n",
       "</div>"
      ],
      "text/plain": [
       "                          control  predict  random_number  \\\n",
       "_id                                                         \n",
       "5591763cd6dfbb4e77e28bb8        1      NaN            NaN   \n",
       "5587acd4d6dfbb4182ae5fb0        1      NaN            NaN   \n",
       "558304bed6dfbb6115f00829        1      NaN            NaN   \n",
       "558e27bed6dfbb4c990cb9d5        1      NaN            NaN   \n",
       "558dc188d6dfbb024ceb651e        1      NaN            NaN   \n",
       "\n",
       "                                                                       text  \\\n",
       "_id                                                                           \n",
       "5591763cd6dfbb4e77e28bb8  Talk about being, \"Fogged in\". This is way!! P...   \n",
       "5587acd4d6dfbb4182ae5fb0   @AlexandSierra @thehotelcafe but I'm not 21 😢😢😢😢   \n",
       "558304bed6dfbb6115f00829  #grill afternoon with coworkers of @victorfrog...   \n",
       "558e27bed6dfbb4c990cb9d5  I'm at @CoveLoungeNyc in New York, NY https://...   \n",
       "558dc188d6dfbb024ceb651e  amazing show last night! thanks for coming out...   \n",
       "\n",
       "                          predicted_fp  predicted_alc               Answer  \n",
       "_id                                                                         \n",
       "5591763cd6dfbb4e77e28bb8      0.552012       0.190272  Not Alcohol Related  \n",
       "5587acd4d6dfbb4182ae5fb0      0.578864       0.096895  Not Alcohol Related  \n",
       "558304bed6dfbb6115f00829      0.509105       0.069019  Not Alcohol Related  \n",
       "558e27bed6dfbb4c990cb9d5      0.635797       0.168464  Not Alcohol Related  \n",
       "558dc188d6dfbb024ceb651e      0.686985       0.106364  Not Alcohol Related  "
      ]
     },
     "execution_count": 149,
     "metadata": {},
     "output_type": "execute_result"
    }
   ],
   "source": [
    "disc.sample(5)"
   ]
  },
  {
   "cell_type": "code",
   "execution_count": 150,
   "metadata": {
    "collapsed": false
   },
   "outputs": [],
   "source": [
    "DataAccess.write_labels(disc.Answer.apply(TurkResults2Label.parse_to_labels))"
   ]
  },
  {
   "cell_type": "code",
   "execution_count": null,
   "metadata": {
    "collapsed": true
   },
   "outputs": [],
   "source": []
  }
 ],
 "metadata": {
  "kernelspec": {
   "display_name": "Python 3",
   "language": "python",
   "name": "python3"
  },
  "language_info": {
   "codemirror_mode": {
    "name": "ipython",
    "version": 3
   },
   "file_extension": ".py",
   "mimetype": "text/x-python",
   "name": "python",
   "nbconvert_exporter": "python",
   "pygments_lexer": "ipython3",
   "version": "3.4.1"
  }
 },
 "nbformat": 4,
 "nbformat_minor": 0
}
