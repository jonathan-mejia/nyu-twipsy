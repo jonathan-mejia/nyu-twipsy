{
 "cells": [
  {
   "cell_type": "markdown",
   "metadata": {},
   "source": [
    "# Amazon Mechanical Turk\n",
    "\n",
    "The role of this script is to generate the data in a format that we can use to label on Mechanical Turk\n",
    "\n",
    "1. Generate the next batch\n",
    "2. Read the batch and write it to MongoDB"
   ]
  },
  {
   "cell_type": "code",
   "execution_count": 69,
   "metadata": {
    "collapsed": false
   },
   "outputs": [],
   "source": [
    "from dao import DataAccess\n",
    "\n",
    "import pandas as pd\n",
    "import datetime\n",
    "import re\n",
    "\n",
    "%matplotlib inline"
   ]
  },
  {
   "cell_type": "markdown",
   "metadata": {},
   "source": [
    "Getting the data from DataAccess is so easy!"
   ]
  },
  {
   "cell_type": "code",
   "execution_count": 4,
   "metadata": {
    "collapsed": false
   },
   "outputs": [
    {
     "data": {
      "text/html": [
       "<div>\n",
       "<table border=\"1\" class=\"dataframe\">\n",
       "  <thead>\n",
       "    <tr style=\"text-align: right;\">\n",
       "      <th></th>\n",
       "      <th>predict</th>\n",
       "      <th>random_number</th>\n",
       "      <th>text</th>\n",
       "    </tr>\n",
       "    <tr>\n",
       "      <th>_id</th>\n",
       "      <th></th>\n",
       "      <th></th>\n",
       "      <th></th>\n",
       "    </tr>\n",
       "  </thead>\n",
       "  <tbody>\n",
       "    <tr>\n",
       "      <th>556e0e24d6dfbb462880e9f7</th>\n",
       "      <td>0.573587</td>\n",
       "      <td>0.482563</td>\n",
       "      <td>Snowcones &amp;amp; Pickles w/ beer salt. Can I ge...</td>\n",
       "    </tr>\n",
       "    <tr>\n",
       "      <th>556e0e47d6dfbb462880eb40</th>\n",
       "      <td>0.748175</td>\n",
       "      <td>0.905221</td>\n",
       "      <td>In need of a drink...😪</td>\n",
       "    </tr>\n",
       "    <tr>\n",
       "      <th>556e0eb2d6dfbb462880eef3</th>\n",
       "      <td>0.581193</td>\n",
       "      <td>0.108261</td>\n",
       "      <td>@poconoraceway where can you smoke at the trac...</td>\n",
       "    </tr>\n",
       "    <tr>\n",
       "      <th>556e0ed2d6dfbb462880f01b</th>\n",
       "      <td>0.534436</td>\n",
       "      <td>0.965141</td>\n",
       "      <td>Finally at this damn airport, I'm about to get...</td>\n",
       "    </tr>\n",
       "    <tr>\n",
       "      <th>556e0ee4d6dfbb462880f0ba</th>\n",
       "      <td>0.676519</td>\n",
       "      <td>0.271578</td>\n",
       "      <td>after these past few days... I need a drink......</td>\n",
       "    </tr>\n",
       "    <tr>\n",
       "      <th>556e0f17d6dfbb462880f28e</th>\n",
       "      <td>0.692656</td>\n",
       "      <td>0.570165</td>\n",
       "      <td>My biggest dilemma in life right now is having...</td>\n",
       "    </tr>\n",
       "    <tr>\n",
       "      <th>556e0f23d6dfbb462880f2fe</th>\n",
       "      <td>0.607685</td>\n",
       "      <td>0.397504</td>\n",
       "      <td>I have reached the season finale of #TheOffice...</td>\n",
       "    </tr>\n",
       "    <tr>\n",
       "      <th>556e0f64d6dfbb462880f545</th>\n",
       "      <td>0.791918</td>\n",
       "      <td>0.165428</td>\n",
       "      <td>Beer Olympics this weekend✊🏻</td>\n",
       "    </tr>\n",
       "    <tr>\n",
       "      <th>556e0f8ad6dfbb462880f67b</th>\n",
       "      <td>0.509221</td>\n",
       "      <td>0.530877</td>\n",
       "      <td>Drinks after work</td>\n",
       "    </tr>\n",
       "    <tr>\n",
       "      <th>556e0fccd6dfbb462880f8cd</th>\n",
       "      <td>0.707164</td>\n",
       "      <td>0.155868</td>\n",
       "      <td>@Round2Crew moral of the story you're always d...</td>\n",
       "    </tr>\n",
       "  </tbody>\n",
       "</table>\n",
       "</div>"
      ],
      "text/plain": [
       "                           predict  random_number  \\\n",
       "_id                                                 \n",
       "556e0e24d6dfbb462880e9f7  0.573587       0.482563   \n",
       "556e0e47d6dfbb462880eb40  0.748175       0.905221   \n",
       "556e0eb2d6dfbb462880eef3  0.581193       0.108261   \n",
       "556e0ed2d6dfbb462880f01b  0.534436       0.965141   \n",
       "556e0ee4d6dfbb462880f0ba  0.676519       0.271578   \n",
       "556e0f17d6dfbb462880f28e  0.692656       0.570165   \n",
       "556e0f23d6dfbb462880f2fe  0.607685       0.397504   \n",
       "556e0f64d6dfbb462880f545  0.791918       0.165428   \n",
       "556e0f8ad6dfbb462880f67b  0.509221       0.530877   \n",
       "556e0fccd6dfbb462880f8cd  0.707164       0.155868   \n",
       "\n",
       "                                                                       text  \n",
       "_id                                                                          \n",
       "556e0e24d6dfbb462880e9f7  Snowcones &amp; Pickles w/ beer salt. Can I ge...  \n",
       "556e0e47d6dfbb462880eb40                             In need of a drink...😪  \n",
       "556e0eb2d6dfbb462880eef3  @poconoraceway where can you smoke at the trac...  \n",
       "556e0ed2d6dfbb462880f01b  Finally at this damn airport, I'm about to get...  \n",
       "556e0ee4d6dfbb462880f0ba  after these past few days... I need a drink......  \n",
       "556e0f17d6dfbb462880f28e  My biggest dilemma in life right now is having...  \n",
       "556e0f23d6dfbb462880f2fe  I have reached the season finale of #TheOffice...  \n",
       "556e0f64d6dfbb462880f545                       Beer Olympics this weekend✊🏻  \n",
       "556e0f8ad6dfbb462880f67b                                  Drinks after work  \n",
       "556e0fccd6dfbb462880f8cd  @Round2Crew moral of the story you're always d...  "
      ]
     },
     "execution_count": 4,
     "metadata": {},
     "output_type": "execute_result"
    }
   ],
   "source": [
    "X = DataAccess.not_labeled()\n",
    "X.head(10)"
   ]
  },
  {
   "cell_type": "markdown",
   "metadata": {},
   "source": [
    "# Generating..."
   ]
  },
  {
   "cell_type": "code",
   "execution_count": 41,
   "metadata": {
    "collapsed": true
   },
   "outputs": [],
   "source": [
    "date = str(datetime.date.today())\n",
    "candidate = X.sort(\"random_number\").head(1000)\n",
    "key = candidate.random_number.apply(hash).sum()"
   ]
  },
  {
   "cell_type": "code",
   "execution_count": 53,
   "metadata": {
    "collapsed": false
   },
   "outputs": [],
   "source": [
    "candidate[\"text\"] = candidate.text.str.encode(\"utf-8\")"
   ]
  },
  {
   "cell_type": "code",
   "execution_count": 54,
   "metadata": {
    "collapsed": false
   },
   "outputs": [],
   "source": [
    "candidate[[\"text\", \"random_number\"]].to_csv(\n",
    "    \"../amt/amt|{}|{}.csv\".format(date, key),\n",
    ")"
   ]
  },
  {
   "cell_type": "code",
   "execution_count": 55,
   "metadata": {
    "collapsed": false
   },
   "outputs": [
    {
     "name": "stdout",
     "output_type": "stream",
     "text": [
      "amt_2015-08-12_4952308500878643456.csv\n",
      "amt|2015-08-12|4952308500878643456.csv\n"
     ]
    }
   ],
   "source": [
    "%%bash\n",
    "\n",
    "ls ../amt/"
   ]
  },
  {
   "cell_type": "markdown",
   "metadata": {},
   "source": [
    "# Parsing to Label"
   ]
  },
  {
   "cell_type": "markdown",
   "metadata": {},
   "source": [
    "#### New Labels\n",
    "\n",
    "Straight from Amazon Mechanical Turk"
   ]
  },
  {
   "cell_type": "code",
   "execution_count": 93,
   "metadata": {
    "collapsed": false
   },
   "outputs": [
    {
     "data": {
      "text/plain": [
       "Not Alcohol Related                               691\n",
       "Alcohol Related::Discussion                        83\n",
       "Alcohol Related::Promotional Content               75\n",
       "First Person - Alcohol::Casual Drinking            69\n",
       "First Person - Alcohol::Looking to drink           54\n",
       "First Person - Alcohol::Reflecting on drinking     14\n",
       "First Person - Alcohol::Heavy Drinking             14\n",
       "dtype: int64"
      ]
     },
     "execution_count": 93,
     "metadata": {},
     "output_type": "execute_result"
    }
   ],
   "source": [
    "labels = pd.DataFrame.from_csv(\"../amt/Batch_2055156_batch_results.csv\")\n",
    "labels.Answer.value_counts()"
   ]
  },
  {
   "cell_type": "markdown",
   "metadata": {},
   "source": [
    "#### Old Legacy Labels\n",
    "\n",
    "This has been preprocessed and required some other work"
   ]
  },
  {
   "cell_type": "code",
   "execution_count": 94,
   "metadata": {
    "collapsed": false
   },
   "outputs": [
    {
     "data": {
      "text/plain": [
       "Alcohol Consumption                               900\n",
       "Not Alcohol Related                               898\n",
       "Alcohol Consumption::First Person                 399\n",
       "Alcohol Related::Discussion                       294\n",
       "First Person - Alcohol::Looking to drink          208\n",
       "First Person - Alcohol::Reflecting on drinking    151\n",
       "First Person - Alcohol::Casual Drinking            88\n",
       "Alcohol Consumption::Second Person                 70\n",
       "First Person - Alcohol::Heavy Drinking             63\n",
       "Alcohol Related::Promotional Content               60\n",
       "Alcohol Consumption::Third Person                  25\n",
       "Alcohol Consumption::Other                         18\n",
       "First Person - Alcohol                              1\n",
       "dtype: int64"
      ]
     },
     "execution_count": 94,
     "metadata": {},
     "output_type": "execute_result"
    }
   ],
   "source": [
    "labels2 = pd.DataFrame.from_csv(\"./twitter_labels.csv\")\n",
    "labels2.Answer.value_counts()"
   ]
  },
  {
   "cell_type": "markdown",
   "metadata": {},
   "source": [
    "#### Joining them and applying a Transformatoin"
   ]
  },
  {
   "cell_type": "code",
   "execution_count": 99,
   "metadata": {
    "collapsed": false
   },
   "outputs": [
    {
     "data": {
      "text/plain": [
       "30ZKOOGW2WQVC2GQKM7V3LFZIBU1AI                         Not Alcohol Related\n",
       "34XASH8KLQ6ZVV8H2R8QD8SXF8PMPR     First Person - Alcohol::Casual Drinking\n",
       "306996CF6W40VCLIQ07RYWZ50TF1BD    First Person - Alcohol::Looking to drink\n",
       "3GONHBMNHVIT9ZANP06S46UBP7WZMP                         Not Alcohol Related\n",
       "3RDTX9JRTYLVI5LNHWA480VSFFC978                         Not Alcohol Related\n",
       "Name: Answer, dtype: object"
      ]
     },
     "execution_count": 99,
     "metadata": {},
     "output_type": "execute_result"
    }
   ],
   "source": [
    "final_labels = pd.concat([labels.Answer, labels2.Answer])\n",
    "final_labels.head()"
   ]
  },
  {
   "cell_type": "code",
   "execution_count": 109,
   "metadata": {
    "collapsed": false
   },
   "outputs": [],
   "source": [
    "class TurkResults2Label:\n",
    "\n",
    "    first = re.compile(\"First\")\n",
    "    alch = re.compile(\"Alcohol Consumption\")\n",
    "\n",
    "    drinking_level = {\n",
    "        \"First Person - Alcohol\":0,\n",
    "        \"First Person - Alcohol::Casual Drinking\":0,\n",
    "        \"First Person - Alcohol::Looking to drink\":1,\n",
    "        \"First Person - Alcohol::Reflecting on drinking\":2,\n",
    "        \"First Person - Alcohol::Heavy Drinking\":3\n",
    "    }\n",
    "\n",
    "    related = {\n",
    "        \"Alcohol Related::Discussion\":0,\n",
    "        \"Alcohol Related::Promotional Content\":1\n",
    "    }\n",
    "    \n",
    "    @classmethod\n",
    "    def parse_to_labels(cls, string_label):\n",
    "        label = {}\n",
    "\n",
    "        if string_label == \"Not Alcohol Related\":\n",
    "            label[\"alcohol\"] = 0\n",
    "            return label\n",
    "        else:\n",
    "            label[\"alcohol\"] = 1\n",
    "\n",
    "        if alch.match(string_label) and not cls.first.match(string_label):\n",
    "            return label\n",
    "\n",
    "        if first.match(string_label):\n",
    "            label[\"first_person\"] = 1\n",
    "            label[\"first_person_level\"] = cls.drinking_level[string_label]\n",
    "            return label\n",
    "        else:\n",
    "            label[\"first_person\"] = 0\n",
    "            label[\"alcohol_related\"] = cls.related[string_label]\n",
    "        label[\"raw\"] = string_label\n",
    "        return label"
   ]
  },
  {
   "cell_type": "code",
   "execution_count": 119,
   "metadata": {
    "collapsed": false
   },
   "outputs": [
    {
     "ename": "ValueError",
     "evalue": "too many values to unpack (expected 2)",
     "output_type": "error",
     "traceback": [
      "\u001b[0;31m---------------------------------------------------------------------------\u001b[0m",
      "\u001b[0;31mValueError\u001b[0m                                Traceback (most recent call last)",
      "\u001b[0;32m<ipython-input-119-5b56e6eba697>\u001b[0m in \u001b[0;36m<module>\u001b[0;34m()\u001b[0m\n\u001b[0;32m----> 1\u001b[0;31m \u001b[0;32mfor\u001b[0m \u001b[0mid\u001b[0m\u001b[0;34m,\u001b[0m \u001b[0mlabel\u001b[0m \u001b[0;32min\u001b[0m \u001b[0mfinal_labels\u001b[0m\u001b[0;34m.\u001b[0m\u001b[0mapply\u001b[0m\u001b[0;34m(\u001b[0m\u001b[0mTurkResults2Label\u001b[0m\u001b[0;34m.\u001b[0m\u001b[0mparse_to_labels\u001b[0m\u001b[0;34m)\u001b[0m\u001b[0;34m.\u001b[0m\u001b[0mto_dict\u001b[0m\u001b[0;34m(\u001b[0m\u001b[0;34m)\u001b[0m\u001b[0;34m:\u001b[0m\u001b[0;34m\u001b[0m\u001b[0m\n\u001b[0m\u001b[1;32m      2\u001b[0m     \u001b[0mprint\u001b[0m\u001b[0;34m(\u001b[0m\u001b[0mid\u001b[0m\u001b[0;34m,\u001b[0m \u001b[0mlabel\u001b[0m\u001b[0;34m)\u001b[0m\u001b[0;34m\u001b[0m\u001b[0m\n",
      "\u001b[0;31mValueError\u001b[0m: too many values to unpack (expected 2)"
     ]
    }
   ],
   "source": [
    "for id, label  final_labels.apply(TurkResults2Label.parse_to_labels).to_dict():\n",
    "    print(id, label)"
   ]
  },
  {
   "cell_type": "code",
   "execution_count": null,
   "metadata": {
    "collapsed": true
   },
   "outputs": [],
   "source": []
  },
  {
   "cell_type": "code",
   "execution_count": null,
   "metadata": {
    "collapsed": true
   },
   "outputs": [],
   "source": []
  }
 ],
 "metadata": {
  "kernelspec": {
   "display_name": "Python 3",
   "language": "python",
   "name": "python3"
  },
  "language_info": {
   "codemirror_mode": {
    "name": "ipython",
    "version": 3
   },
   "file_extension": ".py",
   "mimetype": "text/x-python",
   "name": "python",
   "nbconvert_exporter": "python",
   "pygments_lexer": "ipython3",
   "version": "3.4.1"
  }
 },
 "nbformat": 4,
 "nbformat_minor": 0
}
