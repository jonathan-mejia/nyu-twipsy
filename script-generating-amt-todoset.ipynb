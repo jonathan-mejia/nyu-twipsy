{
 "cells": [
  {
   "cell_type": "markdown",
   "metadata": {},
   "source": [
    "# Amazon Mechanical Turk\n",
    "\n",
    "The role of this script is to generate the data in a format that we can use to label on Mechanical Turk\n",
    "\n",
    "1. Generate the next batch\n",
    "2. Read the batch and write it to MongoDB"
   ]
  },
  {
   "cell_type": "code",
   "execution_count": 5,
   "metadata": {
    "collapsed": false
   },
   "outputs": [],
   "source": [
    "from data.dao import DataAccess, LabelGetter\n",
    "from data.turk import TurkResults2Label\n",
    "\n",
    "import pandas as pd\n",
    "import datetime\n",
    "import re\n",
    "\n",
    "%matplotlib inline"
   ]
  },
  {
   "cell_type": "markdown",
   "metadata": {},
   "source": [
    "Getting the data from DataAccess is so easy!"
   ]
  },
  {
   "cell_type": "code",
   "execution_count": 6,
   "metadata": {
    "collapsed": false
   },
   "outputs": [
    {
     "data": {
      "text/html": [
       "<div>\n",
       "<table border=\"1\" class=\"dataframe\">\n",
       "  <thead>\n",
       "    <tr style=\"text-align: right;\">\n",
       "      <th></th>\n",
       "      <th>predict</th>\n",
       "      <th>random_number</th>\n",
       "      <th>text</th>\n",
       "    </tr>\n",
       "    <tr>\n",
       "      <th>_id</th>\n",
       "      <th></th>\n",
       "      <th></th>\n",
       "      <th></th>\n",
       "    </tr>\n",
       "  </thead>\n",
       "  <tbody>\n",
       "    <tr>\n",
       "      <th>557a1d0ad6dfbb4a90fab2d5</th>\n",
       "      <td>0.211107</td>\n",
       "      <td>0.004158</td>\n",
       "      <td>@tromepe http://t.co/96kFPCJnEp Acaso Rodrigo ...</td>\n",
       "    </tr>\n",
       "    <tr>\n",
       "      <th>5583bf23d6dfbb206a4387fa</th>\n",
       "      <td>0.823236</td>\n",
       "      <td>0.004167</td>\n",
       "      <td>I move in slowmo when in drunk</td>\n",
       "    </tr>\n",
       "    <tr>\n",
       "      <th>558dd892d6dfbb0a948198e6</th>\n",
       "      <td>0.819184</td>\n",
       "      <td>0.004169</td>\n",
       "      <td>drunk @ work lol</td>\n",
       "    </tr>\n",
       "    <tr>\n",
       "      <th>55737859d6dfbb021809f360</th>\n",
       "      <td>0.238229</td>\n",
       "      <td>0.004179</td>\n",
       "      <td>Our silly Saturday morning beginners are wishi...</td>\n",
       "    </tr>\n",
       "    <tr>\n",
       "      <th>55735667d6dfbb5f93005eb3</th>\n",
       "      <td>0.396975</td>\n",
       "      <td>0.004182</td>\n",
       "      <td>😂😂😂😂😂 no vale</td>\n",
       "    </tr>\n",
       "    <tr>\n",
       "      <th>55770442d6dfbb179bf05a10</th>\n",
       "      <td>0.220469</td>\n",
       "      <td>0.004182</td>\n",
       "      <td>We are looking for a buyer on 6845 Brigham Bay...</td>\n",
       "    </tr>\n",
       "    <tr>\n",
       "      <th>556fc13ad6dfbb11fa70a0a7</th>\n",
       "      <td>0.499303</td>\n",
       "      <td>0.004184</td>\n",
       "      <td>I need alcohol in me like soon! It's been a while</td>\n",
       "    </tr>\n",
       "    <tr>\n",
       "      <th>5574e6c7d6dfbb5ab8822d46</th>\n",
       "      <td>0.460629</td>\n",
       "      <td>0.004190</td>\n",
       "      <td>#confessionnight one time at 2 am i made waffl...</td>\n",
       "    </tr>\n",
       "    <tr>\n",
       "      <th>556e8debd6dfbb3061976b0e</th>\n",
       "      <td>0.215714</td>\n",
       "      <td>0.004196</td>\n",
       "      <td>My #TeenChoice nominee for #ChoiceMaleWebStar ...</td>\n",
       "    </tr>\n",
       "    <tr>\n",
       "      <th>557d14a0d6dfbb2cb96cc811</th>\n",
       "      <td>0.274416</td>\n",
       "      <td>0.004203</td>\n",
       "      <td>From now on we should make big tweets about ou...</td>\n",
       "    </tr>\n",
       "  </tbody>\n",
       "</table>\n",
       "</div>"
      ],
      "text/plain": [
       "                           predict  random_number  \\\n",
       "_id                                                 \n",
       "557a1d0ad6dfbb4a90fab2d5  0.211107       0.004158   \n",
       "5583bf23d6dfbb206a4387fa  0.823236       0.004167   \n",
       "558dd892d6dfbb0a948198e6  0.819184       0.004169   \n",
       "55737859d6dfbb021809f360  0.238229       0.004179   \n",
       "55735667d6dfbb5f93005eb3  0.396975       0.004182   \n",
       "55770442d6dfbb179bf05a10  0.220469       0.004182   \n",
       "556fc13ad6dfbb11fa70a0a7  0.499303       0.004184   \n",
       "5574e6c7d6dfbb5ab8822d46  0.460629       0.004190   \n",
       "556e8debd6dfbb3061976b0e  0.215714       0.004196   \n",
       "557d14a0d6dfbb2cb96cc811  0.274416       0.004203   \n",
       "\n",
       "                                                                       text  \n",
       "_id                                                                          \n",
       "557a1d0ad6dfbb4a90fab2d5  @tromepe http://t.co/96kFPCJnEp Acaso Rodrigo ...  \n",
       "5583bf23d6dfbb206a4387fa                     I move in slowmo when in drunk  \n",
       "558dd892d6dfbb0a948198e6                                   drunk @ work lol  \n",
       "55737859d6dfbb021809f360  Our silly Saturday morning beginners are wishi...  \n",
       "55735667d6dfbb5f93005eb3                                      😂😂😂😂😂 no vale  \n",
       "55770442d6dfbb179bf05a10  We are looking for a buyer on 6845 Brigham Bay...  \n",
       "556fc13ad6dfbb11fa70a0a7  I need alcohol in me like soon! It's been a while  \n",
       "5574e6c7d6dfbb5ab8822d46  #confessionnight one time at 2 am i made waffl...  \n",
       "556e8debd6dfbb3061976b0e  My #TeenChoice nominee for #ChoiceMaleWebStar ...  \n",
       "557d14a0d6dfbb2cb96cc811  From now on we should make big tweets about ou...  "
      ]
     },
     "execution_count": 6,
     "metadata": {},
     "output_type": "execute_result"
    }
   ],
   "source": [
    "X = DataAccess.get_not_labeled().sort(\"random_number\")\n",
    "X.head(10)"
   ]
  },
  {
   "cell_type": "markdown",
   "metadata": {},
   "source": [
    "# Generating..."
   ]
  },
  {
   "cell_type": "code",
   "execution_count": 7,
   "metadata": {
    "collapsed": true
   },
   "outputs": [],
   "source": [
    "date = str(datetime.date.today())\n",
    "candidate = X.sort(\"random_number\").head(500)\n",
    "key = candidate.random_number.apply(hash).sum()"
   ]
  },
  {
   "cell_type": "code",
   "execution_count": 8,
   "metadata": {
    "collapsed": false
   },
   "outputs": [],
   "source": [
    "candidate[\"text\"] = candidate.text.str.encode(\"utf-8\")"
   ]
  },
  {
   "cell_type": "code",
   "execution_count": 9,
   "metadata": {
    "collapsed": false
   },
   "outputs": [],
   "source": [
    "candidate[[\"text\", \"random_number\"]].to_csv(\n",
    "    \"../amt/amt|{}|{}.csv\".format(date, key),\n",
    ")"
   ]
  },
  {
   "cell_type": "code",
   "execution_count": 10,
   "metadata": {
    "collapsed": false
   },
   "outputs": [
    {
     "name": "stdout",
     "output_type": "stream",
     "text": [
      "Batch_2055156_batch_results.csv\n",
      "Batch_2064123_batch_results.csv\n",
      "amt_2015-08-13_4952308500878643456.csv\n",
      "amt_2015-08-17_2546340314496401664.csv\n",
      "amt_2015-08-20_8806137010034599936.csv\n",
      "amt|2015-09-10|6072541214091395328.csv\n"
     ]
    }
   ],
   "source": [
    "%%bash\n",
    "\n",
    "ls ../amt/"
   ]
  },
  {
   "cell_type": "code",
   "execution_count": null,
   "metadata": {
    "collapsed": true
   },
   "outputs": [],
   "source": []
  },
  {
   "cell_type": "markdown",
   "metadata": {},
   "source": [
    "# Parsing to Label"
   ]
  },
  {
   "cell_type": "markdown",
   "metadata": {},
   "source": [
    "#### New Labels\n",
    "\n",
    "Straight from Amazon Mechanical Turk"
   ]
  },
  {
   "cell_type": "code",
   "execution_count": 24,
   "metadata": {
    "collapsed": false
   },
   "outputs": [
    {
     "data": {
      "text/plain": [
       "Not Alcohol Related                               0.390244\n",
       "First Person - Alcohol::Looking to drink          0.125508\n",
       "First Person - Alcohol::Casual Drinking           0.116362\n",
       "Alcohol Related::Discussion                       0.114837\n",
       "First Person - Alcohol::Reflecting on drinking    0.113821\n",
       "First Person - Alcohol::Heavy Drinking            0.097561\n",
       "Alcohol Related::Promotional Content              0.041667\n",
       "dtype: float64"
      ]
     },
     "execution_count": 24,
     "metadata": {},
     "output_type": "execute_result"
    }
   ],
   "source": [
    "df = pd.concat([pd.DataFrame.from_csv(\"../amt/Batch_2064125_batch_results.csv\"),\n",
    "      pd.DataFrame.from_csv(\"../amt/Batch_2064123_batch_results.csv\")]).set_index(\"_id\")\n",
    "df = df[df.Worker != \"A3EBA6G9AG7CO9\"]\n",
    "\n",
    "df.Answer.value_counts() / df.Answer.value_counts().sum()"
   ]
  },
  {
   "cell_type": "markdown",
   "metadata": {},
   "source": [
    "#### Writing Labels using TurkResults2Label"
   ]
  },
  {
   "cell_type": "code",
   "execution_count": 25,
   "metadata": {
    "collapsed": false
   },
   "outputs": [
    {
     "name": "stdout",
     "output_type": "stream",
     "text": [
      "CPU times: user 1.71 s, sys: 478 ms, total: 2.19 s\n",
      "Wall time: 1min 16s\n"
     ]
    }
   ],
   "source": [
    "%%time\n",
    "DataAccess.write_labels(df.Answer.apply(TurkResults2Label.parse_to_labels))"
   ]
  },
  {
   "cell_type": "code",
   "execution_count": null,
   "metadata": {
    "collapsed": true
   },
   "outputs": [],
   "source": []
  }
 ],
 "metadata": {
  "kernelspec": {
   "display_name": "Python 3",
   "language": "python",
   "name": "python3"
  },
  "language_info": {
   "codemirror_mode": {
    "name": "ipython",
    "version": 3
   },
   "file_extension": ".py",
   "mimetype": "text/x-python",
   "name": "python",
   "nbconvert_exporter": "python",
   "pygments_lexer": "ipython3",
   "version": "3.4.1"
  }
 },
 "nbformat": 4,
 "nbformat_minor": 0
}
