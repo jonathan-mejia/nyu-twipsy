{
 "cells": [
  {
   "cell_type": "markdown",
   "metadata": {},
   "source": [
    "# Amazon Mechanical Turk\n",
    "\n",
    "The role of this script is to generate the data in a format that we can use to label on Mechanical Turk\n",
    "\n",
    "1. Generate the next batch\n",
    "2. Read the batch and write it to MongoDB"
   ]
  },
  {
   "cell_type": "code",
   "execution_count": 2,
   "metadata": {
    "collapsed": false
   },
   "outputs": [],
   "source": [
    "from dao import DataAccess\n",
    "\n",
    "import pandas as pd\n",
    "import datetime\n",
    "import re\n",
    "\n",
    "%matplotlib inline"
   ]
  },
  {
   "cell_type": "markdown",
   "metadata": {},
   "source": [
    "Getting the data from DataAccess is so easy!"
   ]
  },
  {
   "cell_type": "code",
   "execution_count": 4,
   "metadata": {
    "collapsed": false
   },
   "outputs": [],
   "source": [
    "# X = DataAccess.get_not_labeled()\n",
    "# X.head(10)"
   ]
  },
  {
   "cell_type": "markdown",
   "metadata": {},
   "source": [
    "# Generating..."
   ]
  },
  {
   "cell_type": "code",
   "execution_count": 41,
   "metadata": {
    "collapsed": true
   },
   "outputs": [],
   "source": [
    "date = str(datetime.date.today())\n",
    "candidate = X.sort(\"random_number\").head(1000)\n",
    "key = candidate.random_number.apply(hash).sum()"
   ]
  },
  {
   "cell_type": "code",
   "execution_count": 53,
   "metadata": {
    "collapsed": false
   },
   "outputs": [],
   "source": [
    "candidate[\"text\"] = candidate.text.str.encode(\"utf-8\")"
   ]
  },
  {
   "cell_type": "code",
   "execution_count": 54,
   "metadata": {
    "collapsed": false
   },
   "outputs": [],
   "source": [
    "candidate[[\"text\", \"random_number\"]].to_csv(\n",
    "    \"../amt/amt|{}|{}.csv\".format(date, key),\n",
    ")"
   ]
  },
  {
   "cell_type": "code",
   "execution_count": 55,
   "metadata": {
    "collapsed": false
   },
   "outputs": [
    {
     "name": "stdout",
     "output_type": "stream",
     "text": [
      "amt_2015-08-12_4952308500878643456.csv\n",
      "amt|2015-08-12|4952308500878643456.csv\n"
     ]
    }
   ],
   "source": [
    "%%bash\n",
    "\n",
    "ls ../amt/"
   ]
  },
  {
   "cell_type": "markdown",
   "metadata": {},
   "source": [
    "# Parsing to Label"
   ]
  },
  {
   "cell_type": "markdown",
   "metadata": {},
   "source": [
    "#### New Labels\n",
    "\n",
    "Straight from Amazon Mechanical Turk"
   ]
  },
  {
   "cell_type": "code",
   "execution_count": 5,
   "metadata": {
    "collapsed": false
   },
   "outputs": [
    {
     "data": {
      "text/plain": [
       "Not Alcohol Related                               691\n",
       "Alcohol Related::Discussion                        83\n",
       "Alcohol Related::Promotional Content               75\n",
       "First Person - Alcohol::Casual Drinking            69\n",
       "First Person - Alcohol::Looking to drink           54\n",
       "First Person - Alcohol::Heavy Drinking             14\n",
       "First Person - Alcohol::Reflecting on drinking     14\n",
       "dtype: int64"
      ]
     },
     "execution_count": 5,
     "metadata": {},
     "output_type": "execute_result"
    }
   ],
   "source": [
    "labels = pd.DataFrame.from_csv(\"../amt/Batch_2055156_batch_results.csv\")\n",
    "labels.Answer.value_counts()"
   ]
  },
  {
   "cell_type": "markdown",
   "metadata": {},
   "source": [
    "#### Old Legacy Labels\n",
    "\n",
    "This has been preprocessed and required some other work"
   ]
  },
  {
   "cell_type": "code",
   "execution_count": 6,
   "metadata": {
    "collapsed": false
   },
   "outputs": [
    {
     "data": {
      "text/plain": [
       "Alcohol Consumption                               900\n",
       "Not Alcohol Related                               898\n",
       "Alcohol Consumption::First Person                 399\n",
       "Alcohol Related::Discussion                       294\n",
       "First Person - Alcohol::Looking to drink          208\n",
       "First Person - Alcohol::Reflecting on drinking    151\n",
       "First Person - Alcohol::Casual Drinking            88\n",
       "Alcohol Consumption::Second Person                 70\n",
       "First Person - Alcohol::Heavy Drinking             63\n",
       "Alcohol Related::Promotional Content               60\n",
       "Alcohol Consumption::Third Person                  25\n",
       "Alcohol Consumption::Other                         18\n",
       "First Person - Alcohol                              1\n",
       "dtype: int64"
      ]
     },
     "execution_count": 6,
     "metadata": {},
     "output_type": "execute_result"
    }
   ],
   "source": [
    "labels2 = pd.DataFrame.from_csv(\"./twitter_labels.csv\")\n",
    "labels2.Answer.value_counts()"
   ]
  },
  {
   "cell_type": "markdown",
   "metadata": {},
   "source": [
    "#### Joining them and applying a Transformatoin"
   ]
  },
  {
   "cell_type": "code",
   "execution_count": 7,
   "metadata": {
    "collapsed": false
   },
   "outputs": [
    {
     "data": {
      "text/plain": [
       "30ZKOOGW2WQVC2GQKM7V3LFZIBU1AI                         Not Alcohol Related\n",
       "34XASH8KLQ6ZVV8H2R8QD8SXF8PMPR     First Person - Alcohol::Casual Drinking\n",
       "306996CF6W40VCLIQ07RYWZ50TF1BD    First Person - Alcohol::Looking to drink\n",
       "3GONHBMNHVIT9ZANP06S46UBP7WZMP                         Not Alcohol Related\n",
       "3RDTX9JRTYLVI5LNHWA480VSFFC978                         Not Alcohol Related\n",
       "Name: Answer, dtype: object"
      ]
     },
     "execution_count": 7,
     "metadata": {},
     "output_type": "execute_result"
    }
   ],
   "source": [
    "final_labels = pd.concat([labels.Answer, labels2.Answer])\n",
    "final_labels.head()"
   ]
  },
  {
   "cell_type": "code",
   "execution_count": 13,
   "metadata": {
    "collapsed": false
   },
   "outputs": [],
   "source": [
    "class TurkResults2Label:\n",
    "\n",
    "    first = re.compile(\"First\")\n",
    "    alch = re.compile(\"Alcohol Consumption\")\n",
    "\n",
    "    drinking_level = {\n",
    "        \"First Person - Alcohol\":0,\n",
    "        \"First Person - Alcohol::Casual Drinking\":0,\n",
    "        \"First Person - Alcohol::Looking to drink\":1,\n",
    "        \"First Person - Alcohol::Reflecting on drinking\":2,\n",
    "        \"First Person - Alcohol::Heavy Drinking\":3\n",
    "    }\n",
    "\n",
    "    related = {\n",
    "        \"Alcohol Related::Discussion\":0,\n",
    "        \"Alcohol Related::Promotional Content\":1\n",
    "    }\n",
    "    \n",
    "    @classmethod\n",
    "    def parse_to_labels(cls, string_label):\n",
    "        label = {}\n",
    "\n",
    "        if string_label == \"Not Alcohol Related\":\n",
    "            label[\"alcohol\"] = 0\n",
    "            return label\n",
    "        else:\n",
    "            label[\"alcohol\"] = 1\n",
    "\n",
    "        if cls.alch.match(string_label) and not cls.first.match(string_label):\n",
    "            return label\n",
    "\n",
    "        if cls.first.match(string_label):\n",
    "            label[\"first_person\"] = 1\n",
    "            label[\"first_person_level\"] = cls.drinking_level[string_label]\n",
    "            return label\n",
    "        else:\n",
    "            label[\"first_person\"] = 0\n",
    "            label[\"alcohol_related\"] = cls.related[string_label]\n",
    "        label[\"raw\"] = string_label\n",
    "        return label"
   ]
  },
  {
   "cell_type": "code",
   "execution_count": 16,
   "metadata": {
    "collapsed": false
   },
   "outputs": [
    {
     "name": "stdout",
     "output_type": "stream",
     "text": [
      "CPU times: user 2.39 s, sys: 425 ms, total: 2.81 s\n",
      "Wall time: 42 s\n"
     ]
    }
   ],
   "source": [
    "%%time\n",
    "DataAccess.write_labels(final_labels.apply(TurkResults2Label.parse_to_labels))"
   ]
  }
 ],
 "metadata": {
  "kernelspec": {
   "display_name": "Python 3",
   "language": "python",
   "name": "python3"
  },
  "language_info": {
   "codemirror_mode": {
    "name": "ipython",
    "version": 3
   },
   "file_extension": ".py",
   "mimetype": "text/x-python",
   "name": "python",
   "nbconvert_exporter": "python",
   "pygments_lexer": "ipython3",
   "version": "3.4.1"
  }
 },
 "nbformat": 4,
 "nbformat_minor": 0
}
