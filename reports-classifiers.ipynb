{
 "cells": [
  {
   "cell_type": "markdown",
   "metadata": {},
   "source": [
    "# Classifier Reports"
   ]
  },
  {
   "cell_type": "code",
   "execution_count": 7,
   "metadata": {
    "collapsed": false
   },
   "outputs": [],
   "source": [
    "from classification.dao import ClassifierAccess\n",
    "\n",
    "from pprint import pprint"
   ]
  },
  {
   "cell_type": "markdown",
   "metadata": {},
   "source": [
    "### Classifier Report: Alcohol Classification"
   ]
  },
  {
   "cell_type": "code",
   "execution_count": 8,
   "metadata": {
    "collapsed": false
   },
   "outputs": [
    {
     "name": "stdout",
     "output_type": "stream",
     "text": [
      "[   {   '_id': ObjectId('561599dc472c0b4c484054db'),\n",
      "        'clf': ObjectId('561598f6472c0b4c48404e1d'),\n",
      "        'level': 'alcohol',\n",
      "        'testing_results': {   'accuracy_score': 0.8301337987201861,\n",
      "                               'f1_score': 0.8513238289205702},\n",
      "        'training_results': {   'accuracy_score': 0.9681766055045872,\n",
      "                                'f1_score': 0.9709500130855796},\n",
      "        'type': 'RandomForestClassifier'},\n",
      "    {   '_id': ObjectId('561b5c51472c0b7b7b18e1f5'),\n",
      "        'clf': ObjectId('561b5c4e472c0b7b7b18e1f0'),\n",
      "        'level': 'alcohol',\n",
      "        'testing_results': {   'accuracy_score': 0.8289703315881326,\n",
      "                               'f1_score': 0.8509127789046653},\n",
      "        'training_results': {   'accuracy_score': 0.944954128440367,\n",
      "                                'f1_score': 0.9505409582689336},\n",
      "        'type': 'SVC'}]\n"
     ]
    }
   ],
   "source": [
    "pprint(ClassifierAccess.get_reports(level=\"alcohol\")[:2], indent=4)"
   ]
  },
  {
   "cell_type": "markdown",
   "metadata": {},
   "source": [
    "### Classifier Report: First Person Classification"
   ]
  },
  {
   "cell_type": "code",
   "execution_count": 9,
   "metadata": {
    "collapsed": false
   },
   "outputs": [
    {
     "name": "stdout",
     "output_type": "stream",
     "text": [
      "[   {   '_id': ObjectId('56086674472c0b3d5c557fbe'),\n",
      "        'clf': ObjectId('5608666e472c0b3d5c557fb1'),\n",
      "        'level': 'first_person',\n",
      "        'testing_results': {   'accuracy_score': 0.6947637292464879,\n",
      "                               'f1_score': 0.7941429801894918},\n",
      "        'training_results': {   'accuracy_score': 0.8482367758186398,\n",
      "                                'f1_score': 0.8955353272648461},\n",
      "        'type': 'SVC'},\n",
      "    {   '_id': ObjectId('5602e8dd472c0b2198555978'),\n",
      "        'clf': ObjectId('5602e893472c0b219855594d'),\n",
      "        'level': 'first_person',\n",
      "        'testing_results': {   'accuracy_score': 0.6909323116219668,\n",
      "                               'f1_score': 0.7917383820998279},\n",
      "        'training_results': {   'accuracy_score': 0.8646095717884131,\n",
      "                                'f1_score': 0.9063180827886711},\n",
      "        'type': 'SVC'}]\n"
     ]
    }
   ],
   "source": [
    "pprint(ClassifierAccess.get_reports(level=\"first_person\")[:2], indent=4)"
   ]
  },
  {
   "cell_type": "markdown",
   "metadata": {},
   "source": [
    "### Classifier Report: First Person Classification "
   ]
  },
  {
   "cell_type": "code",
   "execution_count": 10,
   "metadata": {
    "collapsed": false
   },
   "outputs": [
    {
     "name": "stdout",
     "output_type": "stream",
     "text": [
      "[   {   '_id': ObjectId('5602ccdf472c0b203513acf8'),\n",
      "        'clf': ObjectId('5602ccd0472c0b203513ace7'),\n",
      "        'level': 'first_person_label',\n",
      "        'testing_results': {   'accuracy_score': 0.5536062378167641,\n",
      "                               'f1_score': 0.5349297830780407},\n",
      "        'training_results': {   'accuracy_score': 0.775,\n",
      "                                'f1_score': 0.7535046771168127},\n",
      "        'type': 'SVC'},\n",
      "    {   '_id': ObjectId('5602ee07472c0b2197b5519d'),\n",
      "        'clf': ObjectId('5602ed13472c0b2197b54f38'),\n",
      "        'level': 'first_person_label',\n",
      "        'testing_results': {   'accuracy_score': 0.5555555555555556,\n",
      "                               'f1_score': 0.53459052797563},\n",
      "        'training_results': {   'accuracy_score': 0.9009615384615385,\n",
      "                                'f1_score': 0.8807395880253721},\n",
      "        'type': 'RandomForestClassifier'}]\n"
     ]
    }
   ],
   "source": [
    "pprint(ClassifierAccess.get_reports(level=\"first_person_label\")[:2], indent=4)"
   ]
  }
 ],
 "metadata": {
  "kernelspec": {
   "display_name": "Python 3",
   "language": "python",
   "name": "python3"
  },
  "language_info": {
   "codemirror_mode": {
    "name": "ipython",
    "version": 3
   },
   "file_extension": ".py",
   "mimetype": "text/x-python",
   "name": "python",
   "nbconvert_exporter": "python",
   "pygments_lexer": "ipython3",
   "version": "3.4.1"
  }
 },
 "nbformat": 4,
 "nbformat_minor": 0
}
