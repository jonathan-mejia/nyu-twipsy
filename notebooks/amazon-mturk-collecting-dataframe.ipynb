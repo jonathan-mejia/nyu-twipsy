{
 "cells": [
  {
   "cell_type": "markdown",
   "metadata": {},
   "source": [
    "# Collecting Amazon Turk into CSV\n",
    "\n",
    "For each batch of Turk jobs, we've had different labels, the labels teach us about the properties of the data and so we usually change the labels as we get more information.\n",
    "\n",
    "\n",
    "#### Batch 1\n",
    "\n",
    "* Alcohol Related\n",
    "* Not Alcohol Related\n",
    "\n",
    "#### Batch 2\n",
    "\n",
    "Once we had data on how the split works we realised that we need to seperate alcohol and it's consumption. Things like drunk driving and Beer ads would slip into the domain of `Alcohol Related` so we decided to seperate those.\n",
    "\n",
    "* Not Alcohol Related\n",
    "* Alcohol Consomption Related\n",
    "    - First Person\n",
    "    - Second Person\n",
    "    - Third Person\n",
    "    - Other\n",
    "* Alcohol Related\n",
    "    - Promotional Content\n",
    "    - Discussion\n",
    "\n",
    "#### Batch 3\n",
    "\n",
    "Afterwards we noticed how well they could be seperated, so we decided to explicitly look for first person accounts of alcohol consumption with different levels of intensity.\n",
    "\n",
    "* First Person - Alcohol\n",
    "    - Looking to drink\n",
    "    - Casual\n",
    "    - Heavy\n",
    "    - Reflecting\n",
    "* Alcohol Related\n",
    "    - Promotional Content\n",
    "    - Discussion\n",
    "* Not Alcohol Related"
   ]
  },
  {
   "cell_type": "code",
   "execution_count": 1,
   "metadata": {
    "collapsed": true
   },
   "outputs": [],
   "source": [
    "import pandas as pd"
   ]
  },
  {
   "cell_type": "markdown",
   "metadata": {},
   "source": [
    "### Batch 1"
   ]
  },
  {
   "cell_type": "code",
   "execution_count": 92,
   "metadata": {
    "collapsed": true
   },
   "outputs": [],
   "source": [
    "# Helpers\n",
    "\n",
    "def set_alch(df):\n",
    "    df[\"alcohol\"] = (~df.Answer.str.contains(\"Not\")).apply(int)\n",
    "    return df\n",
    "\n",
    "def set_alch_promo(df):\n",
    "    is_alch = df.Answer.str.contains(\"Not\")\n",
    "    is_promo = df.Answer.str.contains(\"Promo\")\n",
    "    df[\"alcohol\"] = (~(is_alch | is_promo)).apply(int)\n",
    "    return df\n",
    "\n",
    "def set_first(df):\n",
    "    df[\"first_person\"] = df.Answer.str.contains(\"First\").apply(int)\n",
    "    return df"
   ]
  },
  {
   "cell_type": "code",
   "execution_count": 93,
   "metadata": {
    "collapsed": false
   },
   "outputs": [],
   "source": [
    "b1 = pd.DataFrame.from_csv(\"/Users/JasonLiu/Downloads/Batch_2031538_batch_results.csv\")\n",
    "b1.tweet = b1.tweet.apply(eval)\n",
    "b1 = set_alch(b1)"
   ]
  },
  {
   "cell_type": "markdown",
   "metadata": {},
   "source": []
  },
  {
   "cell_type": "code",
   "execution_count": 94,
   "metadata": {
    "collapsed": false
   },
   "outputs": [],
   "source": [
    "b2 = pd.DataFrame.from_csv(\"/Users/JasonLiu/Downloads/Batch_2034190_batch_results.csv\")\n",
    "b2.tweet = b2.tweet.apply(eval)\n",
    "\n",
    "# Correcting missing index\n",
    "b2_id = pd.DataFrame.from_csv(\"/Users/JasonLiu/Desktop/amt_le_02.data.csv\")\n",
    "b2_id._id.index = b2.index\n",
    "b2 = b2.join(b2_id._id)"
   ]
  },
  {
   "cell_type": "code",
   "execution_count": 91,
   "metadata": {
    "collapsed": false
   },
   "outputs": [],
   "source": [
    "b2 = set_alch_promo(b2)\n",
    "b2 = set_first(b2)"
   ]
  },
  {
   "cell_type": "code",
   "execution_count": 95,
   "metadata": {
    "collapsed": false
   },
   "outputs": [],
   "source": [
    "b3 = pd.DataFrame.from_csv(\"/Users/JasonLiu/Downloads/Batch_2035137_batch_results.csv\")\n",
    "b3.tweet = b3.tweet.apply(eval)\n",
    "b3 = set_alch_promo(b3)\n",
    "b3 = set_first(b3)"
   ]
  },
  {
   "cell_type": "code",
   "execution_count": 101,
   "metadata": {
    "collapsed": false
   },
   "outputs": [],
   "source": [
    "Y = pd.concat([b1, b2, b3])"
   ]
  },
  {
   "cell_type": "code",
   "execution_count": 102,
   "metadata": {
    "collapsed": false
   },
   "outputs": [],
   "source": [
    "Y = Y.set_index(\"_id\")[[\"alcohol\", \"first_person\"]]"
   ]
  },
  {
   "cell_type": "code",
   "execution_count": 103,
   "metadata": {
    "collapsed": false
   },
   "outputs": [
    {
     "data": {
      "text/plain": [
       "1    511\n",
       "0    385\n",
       "dtype: int64"
      ]
     },
     "execution_count": 103,
     "metadata": {},
     "output_type": "execute_result"
    }
   ],
   "source": [
    "Y.first_person.value_counts()"
   ]
  },
  {
   "cell_type": "code",
   "execution_count": 104,
   "metadata": {
    "collapsed": false
   },
   "outputs": [
    {
     "data": {
      "text/plain": [
       "1    1582\n",
       "0     716\n",
       "dtype: int64"
      ]
     },
     "execution_count": 104,
     "metadata": {},
     "output_type": "execute_result"
    }
   ],
   "source": [
    "Y.alcohol.value_counts()"
   ]
  },
  {
   "cell_type": "code",
   "execution_count": 105,
   "metadata": {
    "collapsed": false
   },
   "outputs": [],
   "source": [
    "Y.to_csv(\"../twitter_labels.csv\")"
   ]
  },
  {
   "cell_type": "code",
   "execution_count": null,
   "metadata": {
    "collapsed": true
   },
   "outputs": [],
   "source": []
  },
  {
   "cell_type": "code",
   "execution_count": null,
   "metadata": {
    "collapsed": true
   },
   "outputs": [],
   "source": []
  }
 ],
 "metadata": {
  "kernelspec": {
   "display_name": "Python 3",
   "language": "python",
   "name": "python3"
  },
  "language_info": {
   "codemirror_mode": {
    "name": "ipython",
    "version": 3
   },
   "file_extension": ".py",
   "mimetype": "text/x-python",
   "name": "python",
   "nbconvert_exporter": "python",
   "pygments_lexer": "ipython3",
   "version": "3.4.1"
  }
 },
 "nbformat": 4,
 "nbformat_minor": 0
}
